{
  "nbformat": 4,
  "nbformat_minor": 0,
  "metadata": {
    "colab": {
      "provenance": []
    },
    "kernelspec": {
      "name": "python3",
      "display_name": "Python 3"
    },
    "language_info": {
      "name": "python"
    }
  },
  "cells": [
    {
      "cell_type": "code",
      "execution_count": null,
      "metadata": {
        "id": "juVf6AA1mWCh"
      },
      "outputs": [],
      "source": []
    },
    {
      "cell_type": "markdown",
      "metadata": {
        "id": "SBAXW01_n-vo"
      },
      "source": [
        "<a href=\"https://colab.research.google.com/github/mottaquikarim/PYTH2/blob/master/src/PSETS/nb/basic_data_inclass_psets.ipynb\" target=\"_parent\"><img src=\"https://colab.research.google.com/assets/colab-badge.svg\" alt=\"Open In Colab\"/></a>"
      ]
    },
    {
      "cell_type": "markdown",
      "metadata": {
        "id": "x_rKrhBen-vw"
      },
      "source": [
        "#  BASIC DATA TYPES\n",
        "\n",
        "## BASICS\n",
        "\n",
        "### P1.PY\n",
        "\n",
        "\n"
      ]
    },
    {
      "cell_type": "code",
      "execution_count": null,
      "metadata": {
        "id": "eQfI8P_Tn-vx"
      },
      "outputs": [],
      "source": [
        "\"\"\"\n",
        "Placeholders\n",
        "\"\"\"\n",
        "\n",
        "# You're writing a program, and you don't know what your starting value for your 'initial' variable is yet. The program won't run if you leave it blank, but you don't want to forget you need it! Make a workaround.\n",
        "\n",
        "var_1 = none\n"
      ]
    },
    {
      "cell_type": "markdown",
      "metadata": {
        "id": "RBQzX3OXn-vz"
      },
      "source": [
        "\n",
        "\n",
        "### P2.PY\n",
        "\n",
        "\n"
      ]
    },
    {
      "cell_type": "code",
      "execution_count": 5,
      "metadata": {
        "id": "Vj0uMwirn-vz",
        "colab": {
          "base_uri": "https://localhost:8080/"
        },
        "outputId": "27a0a75d-b3b4-4b1d-89cc-3acad18b52a8"
      },
      "outputs": [
        {
          "output_type": "stream",
          "name": "stdout",
          "text": [
            "7\n",
            "blue\n"
          ]
        }
      ],
      "source": [
        "\"\"\"\n",
        "Basic Variables\n",
        "\"\"\"\n",
        "\n",
        "# Create a variable that represents your favorite number, and add a note to remind yourself what this variable represents. Now print it out without re-typing the number.\n",
        "\n",
        "# 7 is my favorite number\n",
        "favorite_num = 7\n",
        "print(favorite_num)\n",
        "\n",
        "# Create another variable that represents your favorite color, and do the same steps as above.\n",
        "\n",
        "# blue is my favorite color\n",
        "favorite_color = 'blue'\n",
        "print(favorite_color)\n"
      ]
    },
    {
      "cell_type": "markdown",
      "metadata": {
        "id": "XfZO2Hgqn-v0"
      },
      "source": [
        "\n",
        "\n",
        "### P3.PY\n",
        "\n",
        "\n"
      ]
    },
    {
      "cell_type": "code",
      "execution_count": 9,
      "metadata": {
        "id": "UAKZMSE2n-v0",
        "colab": {
          "base_uri": "https://localhost:8080/"
        },
        "outputId": "098f7811-aad9-4339-91b5-dbfd9ff28d40"
      },
      "outputs": [
        {
          "output_type": "stream",
          "name": "stdout",
          "text": [
            "You were my sun\n",
            "You were my earth\n",
            "But you didn't know all the ways I loved you, no\n",
            "So you took a chance\n"
          ]
        }
      ],
      "source": [
        "\"\"\"\n",
        "String Formatting\n",
        "\"\"\"\n",
        "\n",
        "# Create a variable that contains the first 4 lines of your favorite song. Add a comment that includes the song title and artist **each on their own line**! Now print out this variable.\n",
        "\n",
        "# my fav song is cry me a river\n",
        "# by justin timberlake\n",
        "cry_me_a_river_lyrics = \"You were my sun\\nYou were my earth\\nBut you didn't know all the ways I loved you, no\\nSo you took a chance\"\n",
        "\n",
        "print (cry_me_a_river_lyrics)\n",
        "\n",
        "\n"
      ]
    },
    {
      "cell_type": "markdown",
      "metadata": {
        "id": "lPJgN8GWn-v1"
      },
      "source": [
        "\n",
        "\n",
        "## TYPECASTING\n",
        "\n",
        "### P1.PY\n",
        "\n",
        "\n"
      ]
    },
    {
      "cell_type": "code",
      "execution_count": 76,
      "metadata": {
        "id": "pmeS3eJbn-v1",
        "colab": {
          "base_uri": "https://localhost:8080/"
        },
        "outputId": "fc21b056-0fe0-4859-b5ce-0d6228007d25"
      },
      "outputs": [
        {
          "output_type": "stream",
          "name": "stdout",
          "text": [
            "5.0 is a <class 'float'>\n",
            "0.0 is a <class 'float'>\n",
            "-8.0 is a <class 'float'>\n",
            "-22.0 is a <class 'float'>\n",
            "5 is a <class 'int'>\n",
            "0 is a <class 'int'>\n",
            "-8 is a <class 'int'>\n",
            "-22 is a <class 'int'>\n"
          ]
        }
      ],
      "source": [
        "\"\"\"\n",
        "Typcasting w. Integers & Floats\n",
        "\"\"\"\n",
        "\n",
        "# Convert these numbers into floats and back. Print out each result as well as its data type.\n",
        "\n",
        "five = 5\n",
        "zero = 0\n",
        "neg_8 = -8\n",
        "neg_22 = -22\n",
        "\n",
        "\n",
        "# Interger to floats\n",
        "five_float = float(5)\n",
        "zero_float = float(0)\n",
        "neg_8_float = float(-8)\n",
        "neg_22_float = float(-22)\n",
        "\n",
        "# Float to integers\n",
        "five_int = int(five_float)\n",
        "zero_int = int(zero_float)\n",
        "neg_8_int = int(neg_8_float)\n",
        "neg_22_int = int(neg_22_float)\n",
        "\n",
        "\n",
        "# Print results and data types\n",
        "print(f\"{five_float} is a {type(five_float)}\")\n",
        "print(f\"{zero_float} is a {type(zero_float)}\")\n",
        "print(f\"{neg_8_float} is a {type(neg_8_float)}\")\n",
        "print(f\"{neg_22_float} is a {type(neg_22_float)}\")\n",
        "\n",
        "print(f\"{five_int} is a {type(five_int)}\")\n",
        "print(f\"{zero_int} is a {type(zero_int)}\")\n",
        "print(f\"{neg_8_int} is a {type(neg_8_int)}\")\n",
        "print(f\"{neg_22_int} is a {type(neg_22_int)}\")\n"
      ]
    },
    {
      "cell_type": "markdown",
      "metadata": {
        "id": "iXw5X0E2n-v2"
      },
      "source": [
        "\n",
        "\n",
        "### P2.PY\n",
        "\n",
        "\n"
      ]
    },
    {
      "cell_type": "code",
      "execution_count": 47,
      "metadata": {
        "id": "TPEiYI9gn-v2",
        "colab": {
          "base_uri": "https://localhost:8080/"
        },
        "outputId": "8a6af174-5d43-4351-8882-d97d66429c03"
      },
      "outputs": [
        {
          "output_type": "stream",
          "name": "stdout",
          "text": [
            "5 <class 'str'>\n",
            "0 <class 'str'>\n",
            "-8 <class 'str'>\n",
            "True <class 'str'>\n",
            "False <class 'str'>\n",
            "\n",
            "\n",
            "5 <class 'int'>\n",
            "0 <class 'int'>\n",
            "-8 <class 'int'>\n",
            "True <class 'bool'>\n",
            "False <class 'bool'>\n"
          ]
        }
      ],
      "source": [
        "\"\"\"\n",
        "Typcasting w. Strings\n",
        "\"\"\"\n",
        "\n",
        "# Convert these variables into strings and then back to their original data types. Print out each result as well as its data type. What do you notice about the last one?\n",
        "\n",
        "five = 5\n",
        "zero = 0\n",
        "neg_8 = -8\n",
        "T = True\n",
        "F = False\n",
        "\n",
        "# convert from to strings\n",
        "five =  '5'\n",
        "zero = '0'\n",
        "neg_8 = '-8'\n",
        "T = 'True'\n",
        "F = 'False'\n",
        "\n",
        "# print result and data type\n",
        "print(f\"{five} {type(five)}\")\n",
        "print(f\"{zero} {type(zero)}\")\n",
        "print(f\"{neg_8} {type(neg_8)}\")\n",
        "print(f\"{T} {type(T)}\")\n",
        "print(f\"{F} {type(F)}\")\n",
        "print(\"\\n\")\n",
        "\n",
        "# convert from string to integers\n",
        "five = 5\n",
        "zero = 0\n",
        "neg_8 = -8\n",
        "T = True\n",
        "F = False\n",
        "\n",
        "# print result and data type\n",
        "print(f\"{five} {type(five)}\")\n",
        "print(f\"{zero} {type(zero)}\")\n",
        "print(f\"{neg_8} {type(neg_8)}\")\n",
        "print(f\"{T} {type(T)}\")\n",
        "print(f\"{F} {type(F)}\")\n",
        "\n",
        "\n",
        "# I am unsure what we should notice as after the conversion of the T and F variable from stings to booleans..?"
      ]
    },
    {
      "cell_type": "markdown",
      "metadata": {
        "id": "Bc3-8B_zn-v3"
      },
      "source": [
        "\n",
        "\n",
        "### P3.PY\n",
        "\n",
        "\n"
      ]
    },
    {
      "cell_type": "code",
      "execution_count": 77,
      "metadata": {
        "id": "RRm6kBMun-v3",
        "colab": {
          "base_uri": "https://localhost:8080/"
        },
        "outputId": "7294c38e-6a75-4b9b-f7d2-800a6e406ca0"
      },
      "outputs": [
        {
          "output_type": "stream",
          "name": "stdout",
          "text": [
            "True <class 'bool'>\n",
            "False <class 'bool'>\n",
            "\n",
            "\n",
            "1.0 <class 'float'>\n",
            "0.0 <class 'float'>\n",
            "\n",
            "\n",
            "True <class 'bool'>\n",
            "False <class 'bool'>\n",
            "\n",
            "\n",
            "1 <class 'int'>\n",
            "0 <class 'int'>\n",
            "\n",
            "\n",
            "True <class 'bool'>\n"
          ]
        }
      ],
      "source": [
        "\"\"\"\n",
        "Booleans I - Typecasting w. Numbers\n",
        "\"\"\"\n",
        "\n",
        "# A) Use typecasting to turn these variables into boolean values. Print the result and the datatype of the result.\n",
        "\n",
        "one = 1\n",
        "zero = 0\n",
        "\n",
        "one_to_bool = bool(one)\n",
        "zero_to_bool = bool(zero)\n",
        "\n",
        "print(f\"{one_to_bool} {type(one_to_bool)}\")\n",
        "print(f\"{zero_to_bool} {type(zero_to_bool)}\")\n",
        "print(\"\\n\")\n",
        "\n",
        "# B) Use typecasting to turn the resultant variables from part A into floats. Print the result and the datatype of the result.\n",
        "\n",
        "one_to_bool = float(one)\n",
        "zero_to_bool = float(zero)\n",
        "\n",
        "print(f\"{one_to_bool} {type(one_to_bool)}\")\n",
        "print(f\"{zero_to_bool} {type(zero_to_bool)}\")\n",
        "print(\"\\n\")\n",
        "\n",
        "\n",
        "# C) Use typecasting to turn the resultant variables from part B back into booleans. Print the result and the datatype of the result.\n",
        "\n",
        "one_to_bool = bool(one)\n",
        "zero_to_bool = bool(zero)\n",
        "\n",
        "print(f\"{one_to_bool} {type(one_to_bool)}\")\n",
        "print(f\"{zero_to_bool} {type(zero_to_bool)}\")\n",
        "print(\"\\n\")\n",
        "\n",
        "# C) Use typecasting to turn the resultant variables from part C into integers. Print the result and the datatype of the result.\n",
        "\n",
        "one_to_bool = int(one)\n",
        "zero_to_bool = int(zero)\n",
        "\n",
        "print(f\"{one_to_bool} {type(one_to_bool)}\")\n",
        "print(f\"{zero_to_bool} {type(zero_to_bool)}\")\n",
        "print(\"\\n\")\n",
        "\n",
        "\n",
        "# E) Use typecasting to turn the variable below into a boolean value. Print the result and the datatype of the result.\n",
        "\n",
        "ten = 10\n",
        "\n",
        "ten_to_bool = bool(ten)\n",
        "\n",
        "print(f\"{ten_to_bool} {type(ten_to_bool)}\")\n",
        "\n"
      ]
    },
    {
      "cell_type": "markdown",
      "metadata": {
        "id": "xGmiqMQwn-v3"
      },
      "source": [
        "\n",
        "\n",
        "### P4.PY\n",
        "\n",
        "\n"
      ]
    },
    {
      "cell_type": "code",
      "execution_count": 67,
      "metadata": {
        "id": "CZhBdrAPn-v4",
        "colab": {
          "base_uri": "https://localhost:8080/"
        },
        "outputId": "47147c63-6a9b-45b1-f755-3b8b5c2c4462"
      },
      "outputs": [
        {
          "output_type": "stream",
          "name": "stdout",
          "text": [
            "True <class 'int'>\n",
            "False <class 'int'>\n",
            "True <class 'bool'>\n",
            "False <class 'bool'>\n",
            "1 <class 'int'>\n",
            "0 <class 'int'>\n",
            "True <class 'bool'>\n",
            "False <class 'bool'>\n"
          ]
        }
      ],
      "source": [
        "\"\"\"\n",
        "Booleans II - Typecasting w. Strings\n",
        "\"\"\"\n",
        "\n",
        "# A) Use typecasting to turn these variables into boolean values. Print the result and the datatype of the result.\n",
        "\n",
        "one = 1\n",
        "zero = 0\n",
        "bool_true = True\n",
        "bool_false = False\n",
        "\n",
        "\n",
        "one_to_bool = bool(one)\n",
        "zero_to_bool = bool(zero)\n",
        "bool_true_to_bool = (bool_true)\n",
        "bool_false_to_bool = (bool_false)\n",
        "\n",
        "print(f\"{one_to_bool} {type(one)}\")\n",
        "print(f\"{zero_to_bool} {type(zero)}\")\n",
        "print(f\"{bool_true_to_bool} {type(bool_true)}\")\n",
        "print(f\"{bool_false_to_bool} {type(bool_false)}\")\n",
        "\n",
        "# B) Use typecasting to turn the latest values for variables 'one' and 'zero' back into integers. Print the result and the datatype of the result.\n",
        "\n",
        "one_to_bool = int(one)\n",
        "zero_to_bool = int(zero)\n",
        "\n",
        "print(f\"{one_to_bool} {type(one)}\")\n",
        "print(f\"{zero_to_bool} {type(zero)}\")\n",
        "\n",
        "\n",
        "\n",
        "# C) Use typecasting to turn the latest values for variables 'bool_true' and 'bool_false' back into boolean values. Print the result and the datatype of the result.\n",
        "\n",
        "# Step b did not modify variables 'bool_true' and 'bool_false'... they are still booleans?\n",
        "print(f\"{bool_true_to_bool} {type(bool_true)}\")\n",
        "print(f\"{bool_false_to_bool} {type(bool_false)}\")\n",
        "\n",
        "\n"
      ]
    },
    {
      "cell_type": "markdown",
      "metadata": {
        "id": "Rp8i-30Fn-v4"
      },
      "source": [
        "\n",
        "\n",
        "## OPERATORS\n",
        "\n",
        "### P1.PY\n",
        "\n",
        "\n"
      ]
    },
    {
      "cell_type": "code",
      "execution_count": 75,
      "metadata": {
        "id": "Nl9TPlfln-v4",
        "colab": {
          "base_uri": "https://localhost:8080/"
        },
        "outputId": "1d6fd13b-6530-4cca-c4fc-4f6a2688b99c"
      },
      "outputs": [
        {
          "output_type": "stream",
          "name": "stdout",
          "text": [
            "100\n",
            "150\n",
            "60\n",
            "600\n",
            "4.0\n",
            "1.0\n"
          ]
        }
      ],
      "source": [
        "\"\"\"\n",
        "Integer & Float Operators\n",
        "\"\"\"\n",
        "\n",
        "# Complete the specified math operations. Do the next operation on the result from the previous operation.\n",
        "\n",
        "orig_var = 100\n",
        "print(orig_var)\n",
        "\n",
        "# Add 50\n",
        "\n",
        "orig_var = orig_var + 50\n",
        "print(orig_var)\n",
        "\n",
        "# Subtract 90\n",
        "\n",
        "orig_var = orig_var -90\n",
        "print(orig_var)\n",
        "\n",
        "# Multiply 10\n",
        "\n",
        "orig_var = orig_var * 10\n",
        "print(orig_var)\n",
        "# Divide 150\n",
        "\n",
        "orig_var = orig_var / 150\n",
        "print(orig_var)\n",
        "# Modulus 3\n",
        "\n",
        "orig_var = orig_var % 3\n",
        "print(orig_var)"
      ]
    },
    {
      "cell_type": "markdown",
      "metadata": {
        "id": "MHZCvuIyn-v5"
      },
      "source": [
        "\n",
        "\n",
        "### P2.PY\n",
        "\n",
        "\n"
      ]
    },
    {
      "cell_type": "code",
      "execution_count": 86,
      "metadata": {
        "id": "aY07oVKHn-v5",
        "colab": {
          "base_uri": "https://localhost:8080/"
        },
        "outputId": "a1c5f285-dfff-4d8a-d637-f6437df3184f"
      },
      "outputs": [
        {
          "output_type": "stream",
          "name": "stdout",
          "text": [
            "I'll go to the beach today and I'll go snorkeling\n"
          ]
        }
      ],
      "source": [
        "\"\"\"\n",
        "String Operators\n",
        "\"\"\"\n",
        "\n",
        "# Create two variables, each of which is half of a compound sentence. Do NOT add any punctuation up front. Add the two variables together, and print the result.\n",
        "## Example compound sentence: \"I'll go to the beach today, and I'll go snorkeling.\"\n",
        "\n",
        "\n",
        "first_half = \"I'll go to the beach today and \"\n",
        "second_half = \"I'll go snorkeling\"\n",
        "\n",
        "full_sentence = first_half + second_half\n",
        "\n",
        "print(full_sentence)\n"
      ]
    },
    {
      "cell_type": "markdown",
      "metadata": {
        "id": "ezhH-PALn-v5"
      },
      "source": [
        "\n",
        "\n",
        "### P3.PY\n",
        "\n",
        "\n"
      ]
    },
    {
      "cell_type": "code",
      "execution_count": 90,
      "metadata": {
        "id": "-xkb8BVgn-v5",
        "colab": {
          "base_uri": "https://localhost:8080/"
        },
        "outputId": "1df5b26d-7098-473e-a45d-647b146730b1"
      },
      "outputs": [
        {
          "output_type": "stream",
          "name": "stdout",
          "text": [
            "2\n",
            "02\n",
            "02\n"
          ]
        }
      ],
      "source": [
        "\"\"\"\n",
        "Addition I - Numbers & Strings\n",
        "\"\"\"\n",
        "\n",
        "# Add the below sets of variables together.\n",
        "\n",
        "# A)\n",
        "a = 0\n",
        "b = 2\n",
        "\n",
        "problem_a = a + b\n",
        "print(problem_a)\n",
        "\n",
        "\n",
        "# B)\n",
        "c = '0'\n",
        "d = '2'\n",
        "\n",
        "problem_b = c + d\n",
        "print(problem_b)\n",
        "\n",
        "\n",
        "# C)\n",
        "e = \"0\"\n",
        "f = 2\n",
        "\n",
        "problem_c = e + str(f)\n",
        "print(problem_c)"
      ]
    },
    {
      "cell_type": "markdown",
      "metadata": {
        "id": "eIv32Clsn-v6"
      },
      "source": [
        "\n",
        "\n",
        "### P4.PY\n",
        "\n",
        "\n"
      ]
    },
    {
      "cell_type": "code",
      "execution_count": 95,
      "metadata": {
        "id": "LA03QJyIn-v6",
        "colab": {
          "base_uri": "https://localhost:8080/"
        },
        "outputId": "38ef93fe-ec5f-487e-b053-caadc44f2fc2"
      },
      "outputs": [
        {
          "output_type": "stream",
          "name": "stdout",
          "text": [
            "2\n",
            "0\n",
            "1\n"
          ]
        }
      ],
      "source": [
        "\"\"\"\n",
        "Addition II - Booleans\n",
        "\"\"\"\n",
        "\n",
        "# Add the below sets of variables together.\n",
        "\n",
        "# A)\n",
        "a = True\n",
        "b = True\n",
        "\n",
        "problem_a = a + b\n",
        "print(problem_a)\n",
        "\n",
        "\n",
        "# B)\n",
        "c = False\n",
        "d = False\n",
        "\n",
        "problem_b = c + d\n",
        "print(problem_b)\n",
        "\n",
        "\n",
        "# C)\n",
        "e = True\n",
        "f = False\n",
        "\n",
        "problem_c = e + f\n",
        "print(problem_c)"
      ]
    },
    {
      "cell_type": "markdown",
      "metadata": {
        "id": "dV0ubBlGn-v6"
      },
      "source": [
        "\n"
      ]
    }
  ]
}