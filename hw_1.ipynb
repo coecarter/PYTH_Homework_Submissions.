{
  "cells": [
    {
      "cell_type": "markdown",
      "metadata": {
        "id": "Y8QYZBQfpKCV"
      },
      "source": [
        "<a href=\"https://colab.research.google.com/github/mottaquikarim/PYTH2/blob/master/src/PSETS/nb/conditionals_inclass_psets.ipynb\" target=\"_parent\"><img src=\"https://colab.research.google.com/assets/colab-badge.svg\" alt=\"Open In Colab\"/></a>"
      ]
    },
    {
      "cell_type": "markdown",
      "metadata": {
        "id": "Q6S0FjJqpKCZ"
      },
      "source": [
        "#  CONDITIONALS\n",
        "\n",
        "## WEATHER\n",
        "\n",
        "### P1.PY\n",
        "\n",
        "\n"
      ]
    },
    {
      "cell_type": "code",
      "execution_count": 13,
      "metadata": {
        "id": "eVz7QOBspKCa",
        "colab": {
          "base_uri": "https://localhost:8080/"
        },
        "outputId": "f42927f1-73e9-4c70-fdd0-21038a01fa03"
      },
      "outputs": [
        {
          "output_type": "stream",
          "name": "stdout",
          "text": [
            "True\n"
          ]
        }
      ],
      "source": [
        "\"\"\"\n",
        "Weather I - Do you need boots?\n",
        "\"\"\"\n",
        "\n",
        "# Use the values of the vars defined below to ouput the correct contextual answer to the questions below. (Note: The variables themselves ARE the questions.)\n",
        "\n",
        "# Example:\n",
        "## am_i_hungry = False\n",
        "## am_i_tired = True\n",
        "## do_i_need_to_stay_awake = False\n",
        "\n",
        "## should_i_drink_coffee_now = am_i_tired and do_i_need_to_stay_awake\n",
        "\n",
        "## ^^ This ^^ evaluates to False. If you're tired and don't need to stay awake, you don't need to drink coffee!\n",
        "\n",
        "\n",
        "is_it_raining = True\n",
        "is_it_snowing = False\n",
        "\n",
        "#set variable equal to correct contexual answer\n",
        "do_i_need_snow_boots = is_it_snowing\n",
        "can_i_skip_snow_boots = not is_it_snowing\n",
        "do_i_need_rain_boots = is_it_raining\n",
        "can_i_skip_rain_boots = not is_it_raining\n",
        "\n",
        "# display result of can i skip snow boots\n",
        "print(can_i_skip_snow_boots)"
      ]
    },
    {
      "cell_type": "markdown",
      "metadata": {
        "id": "VuiNs_QOpKCb"
      },
      "source": [
        "\n",
        "\n",
        "### P2.PY\n",
        "\n",
        "\n"
      ]
    },
    {
      "cell_type": "code",
      "execution_count": 14,
      "metadata": {
        "id": "GQTUyKhrpKCc",
        "colab": {
          "base_uri": "https://localhost:8080/"
        },
        "outputId": "abc01ce9-26b2-4ce2-85f0-e72d3d3b1547"
      },
      "outputs": [
        {
          "output_type": "stream",
          "name": "stdout",
          "text": [
            "False\n"
          ]
        }
      ],
      "source": [
        "\"\"\"\n",
        "Weather II - Precipitation\n",
        "\"\"\"\n",
        "\n",
        "# Repeat the same process as p1, using this new set of variables.\n",
        "\n",
        "sunny = True\n",
        "raining = True\n",
        "snowing = False\n",
        "\n",
        "# Set variable equal to correct contextual answer\n",
        "is_it_sunny = sunny\n",
        "is_there_precipitation = raining\n",
        "is_it_sleeting = raining and snowing\n",
        "is_there_rainbow = sunny and raining\n",
        "\n",
        "# display result of is it sleeting\n",
        "print(is_it_sleeting)\n",
        "\n"
      ]
    },
    {
      "cell_type": "markdown",
      "metadata": {
        "id": "7JdV58c1pKCc"
      },
      "source": [
        "\n",
        "\n",
        "### P3.PY\n",
        "\n",
        "\n"
      ]
    },
    {
      "cell_type": "code",
      "execution_count": 16,
      "metadata": {
        "id": "rhltFwM2pKCc"
      },
      "outputs": [],
      "source": [
        "\"\"\"\n",
        "Weather III - Describe Conditions\n",
        "\"\"\"\n",
        "\n",
        "# Repeat the same process as p1, using this new set of variables.\n",
        "\n",
        "\n",
        "is_it_warm = True\n",
        "is_it_humid = True\n",
        "is_it_cold = False\n",
        "is_it_icy = False\n",
        "is_it_foggy = False\n",
        "is_it_windy = False\n",
        "is_it_overcast = True\n",
        "\n",
        "# Set variables equal to correct contextual answer\n",
        "is_it_summer_weather = is_it_warm and is_it_humid\n",
        "is_rain_coming = is_it_overcast\n",
        "is_it_muggy = is_it_humid and is_it_overcast\n",
        "do_i_need_coat = is_it_cold\n",
        "\n"
      ]
    },
    {
      "cell_type": "markdown",
      "metadata": {
        "id": "vT_YyFlBpKCc"
      },
      "source": [
        "\n",
        "\n",
        "## LOGIC\n",
        "\n",
        "### P1.PY\n",
        "\n",
        "\n"
      ]
    },
    {
      "cell_type": "code",
      "execution_count": 42,
      "metadata": {
        "id": "3j123LHDpKCd",
        "colab": {
          "base_uri": "https://localhost:8080/"
        },
        "outputId": "fa5e4791-d2a5-40b4-e750-2cd032577eac"
      },
      "outputs": [
        {
          "output_type": "stream",
          "name": "stdout",
          "text": [
            "Error\n"
          ]
        }
      ],
      "source": [
        "\"\"\"\n",
        "Calculate Grade\n",
        "\"\"\"\n",
        "\n",
        "grade = 15  # expect this to be a number\n",
        "\n",
        "# write a program that will print the \"letter\"\n",
        "# equivalent of the grade, for example:\n",
        "# when grade = 90 # -> expect A\n",
        "# when grade = 80 # -> expect B\n",
        "# when grade = 70 # -> expect C\n",
        "# when grade = 60 # -> expect D\n",
        "# when grade = 54 # -> expect F\n",
        "# when grade = -10 # -> expect Error\n",
        "# when grade = 10000 # -> expect Error\n",
        "# when grade = \"lol skool sucks\" # -> expect Error\n",
        "\n",
        "# define grade as 120, expect error\n",
        "\n",
        "grade = 120\n",
        "\n",
        "if grade > 90 and grade <= 100:\n",
        "  print('A')\n",
        "elif grade > 80 and grade <= 100:\n",
        "  print('B')\n",
        "elif grade > 70 and grade <= 100:\n",
        "  print('C')\n",
        "elif grade > 60 and grade <= 100:\n",
        "  print('D')\n",
        "elif grade <= 54 and grade <= 100:\n",
        "  print('F')\n",
        "elif grade == -10:\n",
        "  print('Error')\n",
        "elif grade == 10000:\n",
        "  print('Error')\n",
        "else:\n",
        "  print('Error')\n",
        "\n",
        "\n",
        "\n",
        "\n",
        "\n"
      ]
    },
    {
      "cell_type": "markdown",
      "metadata": {
        "id": "9Gb_E06hpKCd"
      },
      "source": [
        "\n",
        "\n",
        "### P2.PY\n",
        "\n",
        "\n"
      ]
    },
    {
      "cell_type": "code",
      "execution_count": 47,
      "metadata": {
        "id": "vYFAA_VxpKCd",
        "colab": {
          "base_uri": "https://localhost:8080/"
        },
        "outputId": "6f6a1630-0626-4ba2-cc19-9f04b964e5be"
      },
      "outputs": [
        {
          "output_type": "stream",
          "name": "stdout",
          "text": [
            "Product is positive\n"
          ]
        }
      ],
      "source": [
        "\"\"\"\n",
        "Sign of Product\n",
        "\"\"\"\n",
        "\n",
        "# Given three numbers, a, b, c, without multiplying, determine the sign of their product.\n",
        "\n",
        "# EXAMPLE: a = -5, b = 6, c = -4, print 1\n",
        "\n",
        "# EXAMPLE: a = 5, b = 6, c = -4, print -1\n",
        "\n",
        "a = -5\n",
        "b = 6\n",
        "c = -4\n",
        "\n",
        "# count negative variables starting at 0\n",
        "how_many_negatives = 0\n",
        "\n",
        "# if variable < 0 it is negative, add 1 to count\n",
        "if a < 0:\n",
        "  how_many_negatives += 1\n",
        "if b < 0:\n",
        "  how_many_negatives += 1\n",
        "if c < 0:\n",
        "  how_many_negatives += 1\n",
        "\n",
        "# divide count of negative by 2, if divides evenly product will be positive\n",
        "if how_many_negatives % 2 == 0:\n",
        "  print('Product is positive')\n",
        "else:\n",
        "  print('Product is negative')\n",
        "\n",
        "\n",
        "\n",
        "\n"
      ]
    },
    {
      "cell_type": "markdown",
      "metadata": {
        "id": "T9Ko2HZYpKCd"
      },
      "source": [
        "\n",
        "\n",
        "### P3.PY\n",
        "\n",
        "\n"
      ]
    },
    {
      "cell_type": "code",
      "execution_count": 50,
      "metadata": {
        "id": "6iOQ_mHvpKCe",
        "colab": {
          "base_uri": "https://localhost:8080/"
        },
        "outputId": "780c1dca-8575-4346-cd15-a6cb1e3b082d"
      },
      "outputs": [
        {
          "output_type": "stream",
          "name": "stdout",
          "text": [
            "True\n"
          ]
        }
      ],
      "source": [
        "\"\"\"\n",
        "Any Uppercase\n",
        "\"\"\"\n",
        "\n",
        "# Given a string str, determine if there are any uppercase values in it. Use only conditional statements and string methods (you may have to look some up!)\n",
        "\n",
        "# EXAMPLE: str = \"teSt\", print True\n",
        "\n",
        "str = \"teSt\"\n",
        "\n",
        "# determine if string has upper case values\n",
        "\n",
        "if str.isupper:\n",
        "  print('True')\n",
        "else:\n",
        "  print('False')\n"
      ]
    },
    {
      "cell_type": "markdown",
      "metadata": {
        "id": "_6O1dxywpKCe"
      },
      "source": [
        "\n",
        "\n",
        "### P4.PY\n",
        "\n",
        "\n"
      ]
    },
    {
      "cell_type": "code",
      "execution_count": 57,
      "metadata": {
        "id": "ZP2t3gLMpKCe",
        "colab": {
          "base_uri": "https://localhost:8080/"
        },
        "outputId": "4f4926ab-5145-4e66-8de6-741df2093163"
      },
      "outputs": [
        {
          "output_type": "stream",
          "name": "stdout",
          "text": [
            "True\n"
          ]
        }
      ],
      "source": [
        "\"\"\"\n",
        "Empty Strings\n",
        "\"\"\"\n",
        "\n",
        "# Given any empty string, of the form:\n",
        "\n",
        "# ''\n",
        "# ' '\n",
        "# '  '\n",
        "# any other num of spaces...\n",
        "\n",
        "# determine if the str is empty or not (print True or False). Hint: You'll need to look up how to remove trailing spaces from a string.\n",
        "\n",
        "\n",
        "my_string = '         '\n",
        "\n",
        "# remove trailing spaces\n",
        "my_string = my_string.strip()\n",
        "\n",
        "# determine if my_string equal to empty string and print\n",
        "empty_string = ''\n",
        "\n",
        "is_my_string_empty = my_string == empty_string\n",
        "\n",
        "print(is_my_string_empty)\n",
        "\n",
        "\n",
        "\n"
      ]
    },
    {
      "cell_type": "markdown",
      "metadata": {
        "id": "Zh223qERpKCe"
      },
      "source": [
        "\n",
        "\n",
        "### P5.PY\n",
        "\n",
        "\n"
      ]
    },
    {
      "cell_type": "code",
      "execution_count": null,
      "metadata": {
        "id": "-hHoTSS_pKCe"
      },
      "outputs": [],
      "source": [
        "\"\"\"\n",
        "truthTableEvaluator\n",
        "\"\"\"\n",
        "\n",
        "# Given the following inputs:\n",
        "\n",
        "\n",
        "# P = # True or False\n",
        "# Q = # True or False\n",
        "# op = # '^' (logical AND, conjunction)\n",
        "#      # OR, 'v' (logical OR, disjunction)\n",
        "#      # OR, '->' (logical conditional, implication)\n",
        "#      # OR, '<->' (biconditional)\n",
        "# determine the correct outcome.\n",
        "\n",
        "# https://medium.com/i-math/intro-to-truth-tables-boolean-algebra-73b331dd9b94\n",
        "\n",
        "# I read the article but am not following the instruction of the prompt, what outcome should we be determining?\n",
        "# Seems like we should be constructing something to do with formal reasoning and logic, ie. if p then q, if p then not q or modus tollens modus ponens etc.."
      ]
    },
    {
      "cell_type": "markdown",
      "metadata": {
        "id": "VgtXGxhgpKCe"
      },
      "source": [
        "\n",
        "\n",
        "## RANDOM_NUMS\n",
        "\n",
        "### P1.PY\n",
        "\n",
        "\n"
      ]
    },
    {
      "cell_type": "code",
      "execution_count": 80,
      "metadata": {
        "id": "8Nw88gAnpKCe",
        "colab": {
          "base_uri": "https://localhost:8080/"
        },
        "outputId": "6978aee0-0e89-4cb9-e34c-a99c4a5ec765"
      },
      "outputs": [
        {
          "output_type": "stream",
          "name": "stdout",
          "text": [
            "yellow\n"
          ]
        }
      ],
      "source": [
        "\"\"\"\n",
        "Generate Traffic Light\n",
        "\"\"\"\n",
        "\n",
        "# import python random package\n",
        "\n",
        "import random as ran\n",
        "\n",
        "# generates a random number from 1 to 3\n",
        "\n",
        "random_number = ran.randint(1,3)\n",
        "\n",
        "# if 1, print 'red'\n",
        "if random_number == 1:\n",
        "  print('red')\n",
        "# if 2, print 'green'\n",
        "if random_number == 2:\n",
        "  print('green')\n",
        "# if 3, print 'yellow'\n",
        "if random_number == 3:\n",
        "  print('yellow')"
      ]
    },
    {
      "cell_type": "markdown",
      "metadata": {
        "id": "LtLw38-ipKCe"
      },
      "source": [
        "\n",
        "\n",
        "### P2.PY\n",
        "\n",
        "\n"
      ]
    },
    {
      "cell_type": "code",
      "execution_count": 85,
      "metadata": {
        "id": "gzU3N9s1pKCe",
        "colab": {
          "base_uri": "https://localhost:8080/"
        },
        "outputId": "089cfa06-0ee2-45cb-9527-861c007c1382"
      },
      "outputs": [
        {
          "output_type": "stream",
          "name": "stdout",
          "text": [
            "1-718-748-1938\n"
          ]
        }
      ],
      "source": [
        "\"\"\"\n",
        "Generate Phone Number w/Area Code\n",
        "\"\"\"\n",
        "\n",
        "# import python random package\n",
        "import random as ran\n",
        "\n",
        "# generate a random phone number of the form:\n",
        "# 1-718-786-2825\n",
        "# This should be a string\n",
        "# Valid Area Codes are: 646, 718, 212\n",
        "# if phone number doesn't have [646, 718, 212]\n",
        "# as area code, pick one of the above at random\n",
        "\n",
        "# Valid Area Codes are: 646, 718, 212\n",
        "area_codes = [646, 718, 212]\n",
        "\n",
        "# Generate random area code\n",
        "area_codes = ran.choice(area_codes)\n",
        "\n",
        "# Generate random middle 3 digits of phone number\n",
        "middle_three_digits = ran.randint(1, 999)\n",
        "\n",
        "# Generate random last 4 digits of phone number\n",
        "last_four_digits = ran.randint(1, 9999)\n",
        "\n",
        "# Full phone number\n",
        "phone_number = f\"1-{area_codes}-{middle_three_digits}-{last_four_digits}\"\n",
        "\n",
        "print(phone_number)\n"
      ]
    },
    {
      "cell_type": "markdown",
      "metadata": {
        "id": "F9gekSsbpKCe"
      },
      "source": [
        "\n"
      ]
    }
  ],
  "metadata": {
    "colab": {
      "provenance": []
    },
    "language_info": {
      "name": "python"
    },
    "kernelspec": {
      "name": "python3",
      "display_name": "Python 3"
    }
  },
  "nbformat": 4,
  "nbformat_minor": 0
}