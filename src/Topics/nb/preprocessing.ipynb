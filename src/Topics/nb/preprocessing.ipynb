{
  "cells": [
    {
      "cell_type": "markdown",
      "metadata": {
        "id": "rSleYTDekF1i"
      },
      "source": [
        "<a href=\"https://colab.research.google.com/github/mottaquikarim/PYTH2/blob/master/src/Topics/nb/preprocessing.ipynb\" target=\"_parent\"><img src=\"https://colab.research.google.com/assets/colab-badge.svg\" alt=\"Open In Colab\"/></a>"
      ]
    },
    {
      "cell_type": "markdown",
      "metadata": {
        "id": "NpmMoL4UkF1l"
      },
      "source": [
        "# Exploratory Data Analysis w/🐼🐼\n",
        "\n",
        "For today's lesson, we will leverage Pandas for exploratory data analysis (EDA).\n",
        "We will use Pandas to investigate, wrangle, munge, and clean our data.\n",
        "\n",
        "In particular, we will examine how Pandas can be used to:\n",
        "\n",
        "* **Investigate a dataset's integrity**\n",
        "* **Filter, sort, and manipulate a DataFrame's series**\n",
        "\n",
        "Additionally, the end portion of this section contains a glossary of methods and attributes provided by Pandas to handle data wrangling, selection, cleaning and organizing.\n",
        "\n",
        "* **[Wrangling Data](preprocessing.md#wrangling-data)**\n",
        "* **[Selecting Data](preprocessing.md#selecting-data)**\n",
        "\t* **[Single Values](preprocessing.md#single-values)**\n",
        "\t* **[Subsetting & Slicing](preprocessing.md#subsetting--slicing)**\n",
        "* **[Cleaning & Organizing Data](preprocessing.md#cleaning--organizing-data)**\n",
        "\t* **[Editing](preprocessing.md#editing)**\n",
        "\t* **[Null Values](preprocessing.md#null-values)**\n",
        "\t* **[Duplicates](preprocessing.md#duplicates)**\n",
        "\t* **[Sorting](preprocessing.md#sorting)**\n",
        "\n",
        "## Data sets\n",
        "\n",
        "* **[Wine Reviews | Kaggle](https://www.kaggle.com/zynicide/wine-reviews/)**\n",
        "\t* *130k wine reviews with variety, location, winery, price, and description*\n",
        "* **[Wine Reviews | Local](https://raw.githubusercontent.com/mottaquikarim/PythonProgramming/master/raw_data/winemag-data-130k-v2.csv)**\n",
        "\t* *You can download a version of the kaggle dataset directly from this Github Repo*\n",
        "* **[Adventureworks Cycles | Local](https://raw.githubusercontent.com/mottaquikarim/PythonProgramming/master/raw_data/production.product.tsv)**\n",
        "\t* *You can download a version of the Adventureworks Cycles dataset directly from this Github Repo*\n",
        "\n",
        "\n",
        "## Adventureworks Cycles\n",
        "\n",
        "Our core focus will be using a dataset developed by Microsoft for training purposes in SQL server, known the Adventureworks Cycles 2014OLTP Database.\n",
        "\n",
        "* It is based on a fictitious company called Adventure Works Cycles (AWC), a multinational manufacturer and seller of bicycles and accessories.\n",
        "* The company is based in Bothell, Washington, USA and has regional sales offices in several countries.\n",
        "* We will be looking at a single table from this database, the Production.Product table, which outlines some of the products this company sells.\n",
        "\n",
        "### Loading the Data\n",
        "\n",
        "We can load our data as follows:\n"
      ]
    },
    {
      "cell_type": "code",
      "execution_count": 9,
      "metadata": {
        "id": "J3AKtMJXkF1m",
        "outputId": "09be4545-ff82-4e4c-e5e1-e7186539100e",
        "colab": {
          "base_uri": "https://localhost:8080/",
          "height": 236
        }
      },
      "outputs": [
        {
          "output_type": "execute_result",
          "data": {
            "text/plain": [
              "   ProductID                   Name ProductNumber  MakeFlag  \\\n",
              "0          1        Adjustable Race       AR-5381         0   \n",
              "1          2           Bearing Ball       BA-8327         0   \n",
              "2          3        BB Ball Bearing       BE-2349         1   \n",
              "3          4  Headset Ball Bearings       BE-2908         0   \n",
              "4        316                  Blade       BL-2036         1   \n",
              "\n",
              "   FinishedGoodsFlag Color  SafetyStockLevel  ReorderPoint  StandardCost  \\\n",
              "0                  0   NaN              1000           750           0.0   \n",
              "1                  0   NaN              1000           750           0.0   \n",
              "2                  0   NaN               800           600           0.0   \n",
              "3                  0   NaN               800           600           0.0   \n",
              "4                  0   NaN               800           600           0.0   \n",
              "\n",
              "   ListPrice  ... ProductLine Class Style  ProductSubcategoryID  \\\n",
              "0        0.0  ...         NaN   NaN   NaN                   NaN   \n",
              "1        0.0  ...         NaN   NaN   NaN                   NaN   \n",
              "2        0.0  ...         NaN   NaN   NaN                   NaN   \n",
              "3        0.0  ...         NaN   NaN   NaN                   NaN   \n",
              "4        0.0  ...         NaN   NaN   NaN                   NaN   \n",
              "\n",
              "   ProductModelID        SellStartDate SellEndDate DiscontinuedDate  \\\n",
              "0             NaN  2008-04-30 00:00:00         NaN              NaN   \n",
              "1             NaN  2008-04-30 00:00:00         NaN              NaN   \n",
              "2             NaN  2008-04-30 00:00:00         NaN              NaN   \n",
              "3             NaN  2008-04-30 00:00:00         NaN              NaN   \n",
              "4             NaN  2008-04-30 00:00:00         NaN              NaN   \n",
              "\n",
              "                                  rowguid                   ModifiedDate  \n",
              "0  {694215B7-08F7-4C0D-ACB1-D734BA44C0C8}  2014-02-08 10:01:36.827000000  \n",
              "1  {58AE3C20-4F3A-4749-A7D4-D568806CC537}  2014-02-08 10:01:36.827000000  \n",
              "2  {9C21AED2-5BFA-4F18-BCB8-F11638DC2E4E}  2014-02-08 10:01:36.827000000  \n",
              "3  {ECFED6CB-51FF-49B5-B06C-7D8AC834DB8B}  2014-02-08 10:01:36.827000000  \n",
              "4  {E73E9750-603B-4131-89F5-3DD15ED5FF80}  2014-02-08 10:01:36.827000000  \n",
              "\n",
              "[5 rows x 25 columns]"
            ],
            "text/html": [
              "\n",
              "  <div id=\"df-ba634fd1-525a-4efc-9e53-1b9155001d0d\" class=\"colab-df-container\">\n",
              "    <div>\n",
              "<style scoped>\n",
              "    .dataframe tbody tr th:only-of-type {\n",
              "        vertical-align: middle;\n",
              "    }\n",
              "\n",
              "    .dataframe tbody tr th {\n",
              "        vertical-align: top;\n",
              "    }\n",
              "\n",
              "    .dataframe thead th {\n",
              "        text-align: right;\n",
              "    }\n",
              "</style>\n",
              "<table border=\"1\" class=\"dataframe\">\n",
              "  <thead>\n",
              "    <tr style=\"text-align: right;\">\n",
              "      <th></th>\n",
              "      <th>ProductID</th>\n",
              "      <th>Name</th>\n",
              "      <th>ProductNumber</th>\n",
              "      <th>MakeFlag</th>\n",
              "      <th>FinishedGoodsFlag</th>\n",
              "      <th>Color</th>\n",
              "      <th>SafetyStockLevel</th>\n",
              "      <th>ReorderPoint</th>\n",
              "      <th>StandardCost</th>\n",
              "      <th>ListPrice</th>\n",
              "      <th>...</th>\n",
              "      <th>ProductLine</th>\n",
              "      <th>Class</th>\n",
              "      <th>Style</th>\n",
              "      <th>ProductSubcategoryID</th>\n",
              "      <th>ProductModelID</th>\n",
              "      <th>SellStartDate</th>\n",
              "      <th>SellEndDate</th>\n",
              "      <th>DiscontinuedDate</th>\n",
              "      <th>rowguid</th>\n",
              "      <th>ModifiedDate</th>\n",
              "    </tr>\n",
              "  </thead>\n",
              "  <tbody>\n",
              "    <tr>\n",
              "      <th>0</th>\n",
              "      <td>1</td>\n",
              "      <td>Adjustable Race</td>\n",
              "      <td>AR-5381</td>\n",
              "      <td>0</td>\n",
              "      <td>0</td>\n",
              "      <td>NaN</td>\n",
              "      <td>1000</td>\n",
              "      <td>750</td>\n",
              "      <td>0.0</td>\n",
              "      <td>0.0</td>\n",
              "      <td>...</td>\n",
              "      <td>NaN</td>\n",
              "      <td>NaN</td>\n",
              "      <td>NaN</td>\n",
              "      <td>NaN</td>\n",
              "      <td>NaN</td>\n",
              "      <td>2008-04-30 00:00:00</td>\n",
              "      <td>NaN</td>\n",
              "      <td>NaN</td>\n",
              "      <td>{694215B7-08F7-4C0D-ACB1-D734BA44C0C8}</td>\n",
              "      <td>2014-02-08 10:01:36.827000000</td>\n",
              "    </tr>\n",
              "    <tr>\n",
              "      <th>1</th>\n",
              "      <td>2</td>\n",
              "      <td>Bearing Ball</td>\n",
              "      <td>BA-8327</td>\n",
              "      <td>0</td>\n",
              "      <td>0</td>\n",
              "      <td>NaN</td>\n",
              "      <td>1000</td>\n",
              "      <td>750</td>\n",
              "      <td>0.0</td>\n",
              "      <td>0.0</td>\n",
              "      <td>...</td>\n",
              "      <td>NaN</td>\n",
              "      <td>NaN</td>\n",
              "      <td>NaN</td>\n",
              "      <td>NaN</td>\n",
              "      <td>NaN</td>\n",
              "      <td>2008-04-30 00:00:00</td>\n",
              "      <td>NaN</td>\n",
              "      <td>NaN</td>\n",
              "      <td>{58AE3C20-4F3A-4749-A7D4-D568806CC537}</td>\n",
              "      <td>2014-02-08 10:01:36.827000000</td>\n",
              "    </tr>\n",
              "    <tr>\n",
              "      <th>2</th>\n",
              "      <td>3</td>\n",
              "      <td>BB Ball Bearing</td>\n",
              "      <td>BE-2349</td>\n",
              "      <td>1</td>\n",
              "      <td>0</td>\n",
              "      <td>NaN</td>\n",
              "      <td>800</td>\n",
              "      <td>600</td>\n",
              "      <td>0.0</td>\n",
              "      <td>0.0</td>\n",
              "      <td>...</td>\n",
              "      <td>NaN</td>\n",
              "      <td>NaN</td>\n",
              "      <td>NaN</td>\n",
              "      <td>NaN</td>\n",
              "      <td>NaN</td>\n",
              "      <td>2008-04-30 00:00:00</td>\n",
              "      <td>NaN</td>\n",
              "      <td>NaN</td>\n",
              "      <td>{9C21AED2-5BFA-4F18-BCB8-F11638DC2E4E}</td>\n",
              "      <td>2014-02-08 10:01:36.827000000</td>\n",
              "    </tr>\n",
              "    <tr>\n",
              "      <th>3</th>\n",
              "      <td>4</td>\n",
              "      <td>Headset Ball Bearings</td>\n",
              "      <td>BE-2908</td>\n",
              "      <td>0</td>\n",
              "      <td>0</td>\n",
              "      <td>NaN</td>\n",
              "      <td>800</td>\n",
              "      <td>600</td>\n",
              "      <td>0.0</td>\n",
              "      <td>0.0</td>\n",
              "      <td>...</td>\n",
              "      <td>NaN</td>\n",
              "      <td>NaN</td>\n",
              "      <td>NaN</td>\n",
              "      <td>NaN</td>\n",
              "      <td>NaN</td>\n",
              "      <td>2008-04-30 00:00:00</td>\n",
              "      <td>NaN</td>\n",
              "      <td>NaN</td>\n",
              "      <td>{ECFED6CB-51FF-49B5-B06C-7D8AC834DB8B}</td>\n",
              "      <td>2014-02-08 10:01:36.827000000</td>\n",
              "    </tr>\n",
              "    <tr>\n",
              "      <th>4</th>\n",
              "      <td>316</td>\n",
              "      <td>Blade</td>\n",
              "      <td>BL-2036</td>\n",
              "      <td>1</td>\n",
              "      <td>0</td>\n",
              "      <td>NaN</td>\n",
              "      <td>800</td>\n",
              "      <td>600</td>\n",
              "      <td>0.0</td>\n",
              "      <td>0.0</td>\n",
              "      <td>...</td>\n",
              "      <td>NaN</td>\n",
              "      <td>NaN</td>\n",
              "      <td>NaN</td>\n",
              "      <td>NaN</td>\n",
              "      <td>NaN</td>\n",
              "      <td>2008-04-30 00:00:00</td>\n",
              "      <td>NaN</td>\n",
              "      <td>NaN</td>\n",
              "      <td>{E73E9750-603B-4131-89F5-3DD15ED5FF80}</td>\n",
              "      <td>2014-02-08 10:01:36.827000000</td>\n",
              "    </tr>\n",
              "  </tbody>\n",
              "</table>\n",
              "<p>5 rows × 25 columns</p>\n",
              "</div>\n",
              "    <div class=\"colab-df-buttons\">\n",
              "\n",
              "  <div class=\"colab-df-container\">\n",
              "    <button class=\"colab-df-convert\" onclick=\"convertToInteractive('df-ba634fd1-525a-4efc-9e53-1b9155001d0d')\"\n",
              "            title=\"Convert this dataframe to an interactive table.\"\n",
              "            style=\"display:none;\">\n",
              "\n",
              "  <svg xmlns=\"http://www.w3.org/2000/svg\" height=\"24px\" viewBox=\"0 -960 960 960\">\n",
              "    <path d=\"M120-120v-720h720v720H120Zm60-500h600v-160H180v160Zm220 220h160v-160H400v160Zm0 220h160v-160H400v160ZM180-400h160v-160H180v160Zm440 0h160v-160H620v160ZM180-180h160v-160H180v160Zm440 0h160v-160H620v160Z\"/>\n",
              "  </svg>\n",
              "    </button>\n",
              "\n",
              "  <style>\n",
              "    .colab-df-container {\n",
              "      display:flex;\n",
              "      gap: 12px;\n",
              "    }\n",
              "\n",
              "    .colab-df-convert {\n",
              "      background-color: #E8F0FE;\n",
              "      border: none;\n",
              "      border-radius: 50%;\n",
              "      cursor: pointer;\n",
              "      display: none;\n",
              "      fill: #1967D2;\n",
              "      height: 32px;\n",
              "      padding: 0 0 0 0;\n",
              "      width: 32px;\n",
              "    }\n",
              "\n",
              "    .colab-df-convert:hover {\n",
              "      background-color: #E2EBFA;\n",
              "      box-shadow: 0px 1px 2px rgba(60, 64, 67, 0.3), 0px 1px 3px 1px rgba(60, 64, 67, 0.15);\n",
              "      fill: #174EA6;\n",
              "    }\n",
              "\n",
              "    .colab-df-buttons div {\n",
              "      margin-bottom: 4px;\n",
              "    }\n",
              "\n",
              "    [theme=dark] .colab-df-convert {\n",
              "      background-color: #3B4455;\n",
              "      fill: #D2E3FC;\n",
              "    }\n",
              "\n",
              "    [theme=dark] .colab-df-convert:hover {\n",
              "      background-color: #434B5C;\n",
              "      box-shadow: 0px 1px 3px 1px rgba(0, 0, 0, 0.15);\n",
              "      filter: drop-shadow(0px 1px 2px rgba(0, 0, 0, 0.3));\n",
              "      fill: #FFFFFF;\n",
              "    }\n",
              "  </style>\n",
              "\n",
              "    <script>\n",
              "      const buttonEl =\n",
              "        document.querySelector('#df-ba634fd1-525a-4efc-9e53-1b9155001d0d button.colab-df-convert');\n",
              "      buttonEl.style.display =\n",
              "        google.colab.kernel.accessAllowed ? 'block' : 'none';\n",
              "\n",
              "      async function convertToInteractive(key) {\n",
              "        const element = document.querySelector('#df-ba634fd1-525a-4efc-9e53-1b9155001d0d');\n",
              "        const dataTable =\n",
              "          await google.colab.kernel.invokeFunction('convertToInteractive',\n",
              "                                                    [key], {});\n",
              "        if (!dataTable) return;\n",
              "\n",
              "        const docLinkHtml = 'Like what you see? Visit the ' +\n",
              "          '<a target=\"_blank\" href=https://colab.research.google.com/notebooks/data_table.ipynb>data table notebook</a>'\n",
              "          + ' to learn more about interactive tables.';\n",
              "        element.innerHTML = '';\n",
              "        dataTable['output_type'] = 'display_data';\n",
              "        await google.colab.output.renderOutput(dataTable, element);\n",
              "        const docLink = document.createElement('div');\n",
              "        docLink.innerHTML = docLinkHtml;\n",
              "        element.appendChild(docLink);\n",
              "      }\n",
              "    </script>\n",
              "  </div>\n",
              "\n",
              "\n",
              "<div id=\"df-382ea3ab-d1ed-45ab-a364-537c7f640c97\">\n",
              "  <button class=\"colab-df-quickchart\" onclick=\"quickchart('df-382ea3ab-d1ed-45ab-a364-537c7f640c97')\"\n",
              "            title=\"Suggest charts\"\n",
              "            style=\"display:none;\">\n",
              "\n",
              "<svg xmlns=\"http://www.w3.org/2000/svg\" height=\"24px\"viewBox=\"0 0 24 24\"\n",
              "     width=\"24px\">\n",
              "    <g>\n",
              "        <path d=\"M19 3H5c-1.1 0-2 .9-2 2v14c0 1.1.9 2 2 2h14c1.1 0 2-.9 2-2V5c0-1.1-.9-2-2-2zM9 17H7v-7h2v7zm4 0h-2V7h2v10zm4 0h-2v-4h2v4z\"/>\n",
              "    </g>\n",
              "</svg>\n",
              "  </button>\n",
              "\n",
              "<style>\n",
              "  .colab-df-quickchart {\n",
              "      --bg-color: #E8F0FE;\n",
              "      --fill-color: #1967D2;\n",
              "      --hover-bg-color: #E2EBFA;\n",
              "      --hover-fill-color: #174EA6;\n",
              "      --disabled-fill-color: #AAA;\n",
              "      --disabled-bg-color: #DDD;\n",
              "  }\n",
              "\n",
              "  [theme=dark] .colab-df-quickchart {\n",
              "      --bg-color: #3B4455;\n",
              "      --fill-color: #D2E3FC;\n",
              "      --hover-bg-color: #434B5C;\n",
              "      --hover-fill-color: #FFFFFF;\n",
              "      --disabled-bg-color: #3B4455;\n",
              "      --disabled-fill-color: #666;\n",
              "  }\n",
              "\n",
              "  .colab-df-quickchart {\n",
              "    background-color: var(--bg-color);\n",
              "    border: none;\n",
              "    border-radius: 50%;\n",
              "    cursor: pointer;\n",
              "    display: none;\n",
              "    fill: var(--fill-color);\n",
              "    height: 32px;\n",
              "    padding: 0;\n",
              "    width: 32px;\n",
              "  }\n",
              "\n",
              "  .colab-df-quickchart:hover {\n",
              "    background-color: var(--hover-bg-color);\n",
              "    box-shadow: 0 1px 2px rgba(60, 64, 67, 0.3), 0 1px 3px 1px rgba(60, 64, 67, 0.15);\n",
              "    fill: var(--button-hover-fill-color);\n",
              "  }\n",
              "\n",
              "  .colab-df-quickchart-complete:disabled,\n",
              "  .colab-df-quickchart-complete:disabled:hover {\n",
              "    background-color: var(--disabled-bg-color);\n",
              "    fill: var(--disabled-fill-color);\n",
              "    box-shadow: none;\n",
              "  }\n",
              "\n",
              "  .colab-df-spinner {\n",
              "    border: 2px solid var(--fill-color);\n",
              "    border-color: transparent;\n",
              "    border-bottom-color: var(--fill-color);\n",
              "    animation:\n",
              "      spin 1s steps(1) infinite;\n",
              "  }\n",
              "\n",
              "  @keyframes spin {\n",
              "    0% {\n",
              "      border-color: transparent;\n",
              "      border-bottom-color: var(--fill-color);\n",
              "      border-left-color: var(--fill-color);\n",
              "    }\n",
              "    20% {\n",
              "      border-color: transparent;\n",
              "      border-left-color: var(--fill-color);\n",
              "      border-top-color: var(--fill-color);\n",
              "    }\n",
              "    30% {\n",
              "      border-color: transparent;\n",
              "      border-left-color: var(--fill-color);\n",
              "      border-top-color: var(--fill-color);\n",
              "      border-right-color: var(--fill-color);\n",
              "    }\n",
              "    40% {\n",
              "      border-color: transparent;\n",
              "      border-right-color: var(--fill-color);\n",
              "      border-top-color: var(--fill-color);\n",
              "    }\n",
              "    60% {\n",
              "      border-color: transparent;\n",
              "      border-right-color: var(--fill-color);\n",
              "    }\n",
              "    80% {\n",
              "      border-color: transparent;\n",
              "      border-right-color: var(--fill-color);\n",
              "      border-bottom-color: var(--fill-color);\n",
              "    }\n",
              "    90% {\n",
              "      border-color: transparent;\n",
              "      border-bottom-color: var(--fill-color);\n",
              "    }\n",
              "  }\n",
              "</style>\n",
              "\n",
              "  <script>\n",
              "    async function quickchart(key) {\n",
              "      const quickchartButtonEl =\n",
              "        document.querySelector('#' + key + ' button');\n",
              "      quickchartButtonEl.disabled = true;  // To prevent multiple clicks.\n",
              "      quickchartButtonEl.classList.add('colab-df-spinner');\n",
              "      try {\n",
              "        const charts = await google.colab.kernel.invokeFunction(\n",
              "            'suggestCharts', [key], {});\n",
              "      } catch (error) {\n",
              "        console.error('Error during call to suggestCharts:', error);\n",
              "      }\n",
              "      quickchartButtonEl.classList.remove('colab-df-spinner');\n",
              "      quickchartButtonEl.classList.add('colab-df-quickchart-complete');\n",
              "    }\n",
              "    (() => {\n",
              "      let quickchartButtonEl =\n",
              "        document.querySelector('#df-382ea3ab-d1ed-45ab-a364-537c7f640c97 button');\n",
              "      quickchartButtonEl.style.display =\n",
              "        google.colab.kernel.accessAllowed ? 'block' : 'none';\n",
              "    })();\n",
              "  </script>\n",
              "</div>\n",
              "\n",
              "    </div>\n",
              "  </div>\n"
            ],
            "application/vnd.google.colaboratory.intrinsic+json": {
              "type": "dataframe",
              "variable_name": "prod"
            }
          },
          "metadata": {},
          "execution_count": 9
        }
      ],
      "source": [
        "import pandas as pd\n",
        "import numpy as np\n",
        "\n",
        "prod = pd.read_csv('/content/production.product.tsv', sep='\\t')\n",
        "\n",
        "prod.head()\n"
      ]
    },
    {
      "cell_type": "markdown",
      "metadata": {
        "id": "o9rK6eBlkF1n"
      },
      "source": [
        "\n",
        "Note the `sep='\\t'`; this is because we are pulling in a `tsv` file, which is basically a csv file but with `tabs` as delimiters vs commas.\n",
        "\n",
        "**YOU DO**: Download the `tsv` file into your local machine, create a python virtualenv and run the code above, but on your machine.\n",
        "\n",
        "\n",
        "\n",
        "### Data dictionary\n",
        "\n",
        "Every good dataset has a **data dictionary**. Essentially, it lists each field in the data and provides a contextual description. It serves as a good frame of reference for anyone not diving directly into the data.\n",
        "\n"
      ]
    },
    {
      "cell_type": "code",
      "execution_count": null,
      "metadata": {
        "id": "sSB8Kz-xkF1n"
      },
      "outputs": [],
      "source": [
        "cols = prod.columns\n",
        "for idx, col in enumerate(cols):\n",
        "  print(idx+1, col)"
      ]
    },
    {
      "cell_type": "code",
      "execution_count": null,
      "metadata": {
        "id": "epZlmq9RkF1o"
      },
      "outputs": [],
      "source": []
    },
    {
      "cell_type": "code",
      "execution_count": null,
      "metadata": {
        "id": "29GkPdklkF1o"
      },
      "outputs": [],
      "source": [
        "    1 ProductID\n",
        "    2 Name\n",
        "    3 ProductNumber\n",
        "    4 MakeFlag\n",
        "    5 FinishedGoodsFlag\n",
        "    6 Color\n",
        "    7 SafetyStockLevel\n",
        "    8 ReorderPoint\n",
        "    9 StandardCost\n",
        "    10 ListPrice\n",
        "    11 Size\n",
        "    12 SizeUnitMeasureCode\n",
        "    13 WeightUnitMeasureCode\n",
        "    14 Weight\n",
        "    15 DaysToManufacture\n",
        "    16 ProductLine\n",
        "    17 Class\n",
        "    18 Style\n",
        "    19 ProductSubcategoryID\n",
        "    20 ProductModelID\n",
        "    21 SellStartDate\n",
        "    22 SellEndDate\n",
        "    23 DiscontinuedDate\n",
        "    24 rowguid\n",
        "    25 ModifiedDate"
      ]
    },
    {
      "cell_type": "markdown",
      "metadata": {
        "id": "qtRiRVBokF1o"
      },
      "source": [
        "\n",
        "\n",
        "\n",
        "### Reading data\n"
      ]
    },
    {
      "cell_type": "code",
      "execution_count": null,
      "metadata": {
        "id": "yc0YiFeXkF1p"
      },
      "outputs": [],
      "source": [
        "prod.head(1)"
      ]
    },
    {
      "cell_type": "code",
      "execution_count": null,
      "metadata": {
        "id": "43DXr3q3kF1p"
      },
      "outputs": [],
      "source": [
        "\n",
        "The `head` method lets us read in the **first n rows** of a dataset. Run this in your machine, you should expect to see:\n",
        "\n"
      ]
    },
    {
      "cell_type": "code",
      "execution_count": null,
      "metadata": {
        "id": "zNxC8u2KkF1p"
      },
      "outputs": [],
      "source": [
        "   ProductID             Name ProductNumber  MakeFlag  ...  SellEndDate DiscontinuedDate                                 rowguid                   ModifiedDate\n",
        "0          1  Adjustable Race       AR-5381         0  ...          NaN              NaN  {694215B7-08F7-4C0D-ACB1-D734BA44C0C8}  2014-02-08 10:01:36.827000000\n",
        "\n",
        "[1 rows x 25 columns]"
      ]
    },
    {
      "cell_type": "markdown",
      "metadata": {
        "id": "7nxmOS0SkF1p"
      },
      "source": [
        "\n",
        "* **YOU DO**: Run the above code in *your* machine, but with **n=5**. What do you see?\n",
        "* **YOU DO**: What kind of object is `prod`? Run `type(prod)` and report back your findings.\n",
        "* **YOU DO**: What is the shape of this dataframe? Run `prod.shape` to find out.\n",
        "\n",
        "## DataFrame subsets\n",
        "\n",
        "This dataset is comprehensive! Let's see how we might be able to select a *subset* of this data for easier analysis.\n",
        "\n",
        "Let's start with only 3 rows for now:\n"
      ]
    },
    {
      "cell_type": "code",
      "execution_count": null,
      "metadata": {
        "id": "b0PhRBE8kF1p"
      },
      "outputs": [],
      "source": [
        "prod_subset = prod.head(3)"
      ]
    },
    {
      "cell_type": "code",
      "execution_count": null,
      "metadata": {
        "id": "x3GVnXMPkF1q"
      },
      "outputs": [],
      "source": []
    },
    {
      "cell_type": "code",
      "execution_count": null,
      "metadata": {
        "id": "GnutVeSpkF1q"
      },
      "outputs": [],
      "source": [
        "   ProductID             Name ProductNumber  MakeFlag  ...  SellEndDate DiscontinuedDate                                 rowguid                   ModifiedDate\n",
        "0          1  Adjustable Race       AR-5381         0  ...          NaN              NaN  {694215B7-08F7-4C0D-ACB1-D734BA44C0C8}  2014-02-08 10:01:36.827000000\n",
        "1          2     Bearing Ball       BA-8327         0  ...          NaN              NaN  {58AE3C20-4F3A-4749-A7D4-D568806CC537}  2014-02-08 10:01:36.827000000\n",
        "2          3  BB Ball Bearing       BE-2349         1  ...          NaN              NaN  {9C21AED2-5BFA-4F18-BCB8-F11638DC2E4E}  2014-02-08 10:01:36.827000000\n",
        "\n",
        "[3 rows x 25 columns]"
      ]
    },
    {
      "cell_type": "markdown",
      "metadata": {
        "id": "KktRIcgGkF1q"
      },
      "source": [
        "\n",
        "If we wanted to only pull in a few **columns**, we could do something like:\n"
      ]
    },
    {
      "cell_type": "code",
      "execution_count": null,
      "metadata": {
        "id": "UZXAzF3VkF1q"
      },
      "outputs": [],
      "source": [
        "two_cols = prod_subset[['ProductID', 'Name']]\n",
        "print(two_cols)"
      ]
    },
    {
      "cell_type": "code",
      "execution_count": null,
      "metadata": {
        "id": "rNvEUD51kF1r"
      },
      "outputs": [],
      "source": []
    },
    {
      "cell_type": "code",
      "execution_count": null,
      "metadata": {
        "id": "q3ICibk4kF1r"
      },
      "outputs": [],
      "source": [
        "   ProductID             Name\n",
        "0          1  Adjustable Race\n",
        "1          2     Bearing Ball\n",
        "2          3  BB Ball Bearing"
      ]
    },
    {
      "cell_type": "markdown",
      "metadata": {
        "id": "bsFk9P45kF1r"
      },
      "source": [
        "\n",
        "* **YOU DO**: Grab the first **5** rows of the dataset and save a subset df with the following columns: **ProductID**, **Name**, **Color**, and **ListPrice**.\n",
        "\n",
        "## Column headers and datatypes\n",
        "\n",
        "We can leverage pandas to explore the column header names and associated datatypes of the headers as well.\n"
      ]
    },
    {
      "cell_type": "code",
      "execution_count": null,
      "metadata": {
        "id": "REa6Al2WkF1r"
      },
      "outputs": [],
      "source": [
        "print(prod.columns)"
      ]
    },
    {
      "cell_type": "code",
      "execution_count": null,
      "metadata": {
        "id": "-sLH4WMMkF1s"
      },
      "outputs": [],
      "source": []
    },
    {
      "cell_type": "code",
      "execution_count": null,
      "metadata": {
        "id": "0H3ZcM0QkF1s"
      },
      "outputs": [],
      "source": [
        "Index(['ProductID', 'Name', 'ProductNumber', 'MakeFlag', 'FinishedGoodsFlag',\n",
        "       'Color', 'SafetyStockLevel', 'ReorderPoint', 'StandardCost',\n",
        "       'ListPrice', 'Size', 'SizeUnitMeasureCode', 'WeightUnitMeasureCode',\n",
        "       'Weight', 'DaysToManufacture', 'ProductLine', 'Class', 'Style',\n",
        "       'ProductSubcategoryID', 'ProductModelID', 'SellStartDate',\n",
        "       'SellEndDate', 'DiscontinuedDate', 'rowguid', 'ModifiedDate'],\n",
        "      dtype='object')"
      ]
    },
    {
      "cell_type": "markdown",
      "metadata": {
        "id": "1j-zaPbkkF1s"
      },
      "source": [
        "\n",
        "If we wanted to view the columns and their types, we can do:\n"
      ]
    },
    {
      "cell_type": "code",
      "execution_count": null,
      "metadata": {
        "id": "z8hscoAxkF1s"
      },
      "outputs": [],
      "source": [
        "prod.dtypes"
      ]
    },
    {
      "cell_type": "code",
      "execution_count": null,
      "metadata": {
        "id": "q3LKxjaQkF1s"
      },
      "outputs": [],
      "source": []
    },
    {
      "cell_type": "code",
      "execution_count": null,
      "metadata": {
        "id": "dCQbJjj3kF1s"
      },
      "outputs": [],
      "source": [
        "ProductID                  int64\n",
        "Name                      object\n",
        "ProductNumber             object\n",
        "MakeFlag                   int64\n",
        "FinishedGoodsFlag          int64\n",
        "Color                     object\n",
        "SafetyStockLevel           int64\n",
        "ReorderPoint               int64\n",
        "StandardCost             float64\n",
        "ListPrice                float64\n",
        "Size                      object\n",
        "SizeUnitMeasureCode       object\n",
        "WeightUnitMeasureCode     object\n",
        "Weight                   float64\n",
        "DaysToManufacture          int64\n",
        "ProductLine               object\n",
        "Class                     object\n",
        "Style                     object\n",
        "ProductSubcategoryID     float64\n",
        "ProductModelID           float64\n",
        "SellStartDate             object\n",
        "SellEndDate               object\n",
        "DiscontinuedDate         float64\n",
        "rowguid                   object\n",
        "ModifiedDate              object"
      ]
    },
    {
      "cell_type": "markdown",
      "metadata": {
        "id": "BmjtuQvskF1s"
      },
      "source": [
        "\n",
        "* **YOU DO**: What kind of python object is the `prod.dtypes`? How do you know?\n",
        "* **YOU DO**: How does pandas know the col datatypes? Don't code this, but how might you implement this feature in pure python?\n",
        "\n",
        "## Column Selection\n",
        "\n",
        "**IMPORTANT**: depending on number of square brackets used, selection of a column may return a **Series** object or a **DataFrame** object. Depending on your usecase, you may *want* one or the other!\n",
        "\n",
        "Consider the following:\n"
      ]
    },
    {
      "cell_type": "code",
      "execution_count": null,
      "metadata": {
        "id": "aYPmhMyYkF1s"
      },
      "outputs": [],
      "source": [
        "prod['Name'].head(3)\n",
        "type(prod['Name'].head(3))"
      ]
    },
    {
      "cell_type": "code",
      "execution_count": null,
      "metadata": {
        "id": "JnYcUy7qkF1s"
      },
      "outputs": [],
      "source": []
    },
    {
      "cell_type": "code",
      "execution_count": null,
      "metadata": {
        "id": "7yy-rpXOkF1s"
      },
      "outputs": [],
      "source": [
        "0    Adjustable Race\n",
        "1       Bearing Ball\n",
        "2    BB Ball Bearing\n",
        "Name: Name, dtype: object\n",
        "<class 'pandas.core.series.Series'>"
      ]
    },
    {
      "cell_type": "markdown",
      "metadata": {
        "id": "XM7_jU-pkF1s"
      },
      "source": [
        "\n",
        "vs\n"
      ]
    },
    {
      "cell_type": "code",
      "execution_count": null,
      "metadata": {
        "id": "zy6nHf3nkF1s"
      },
      "outputs": [],
      "source": [
        "prod[[\"Name\"]].head(3)\n",
        "type(prod[['Name']].head(3))"
      ]
    },
    {
      "cell_type": "code",
      "execution_count": null,
      "metadata": {
        "id": "qmlR4XUvkF1t"
      },
      "outputs": [],
      "source": []
    },
    {
      "cell_type": "code",
      "execution_count": null,
      "metadata": {
        "id": "sd6zeGBMkF1t"
      },
      "outputs": [],
      "source": [
        "              Name\n",
        "0  Adjustable Race\n",
        "1     Bearing Ball\n",
        "2  BB Ball Bearing\n",
        "<class 'pandas.core.frame.DataFrame'>"
      ]
    },
    {
      "cell_type": "markdown",
      "metadata": {
        "id": "ZNw91G_HkF1t"
      },
      "source": [
        "\n",
        "* **YOU DO**: Select **Name** and **ProductID** columns from our Dataframe. Is this possible to do as a **Series**? Why or why not?\n",
        "\n",
        "## Renaming Columns\n",
        "\n",
        "We can rename columns as needed, like so:\n"
      ]
    },
    {
      "cell_type": "code",
      "execution_count": null,
      "metadata": {
        "id": "H-LtkYRCkF1t"
      },
      "outputs": [],
      "source": [
        "new_prod = prod.rename(columns={'Name': 'ProductName', 'ProductNumber':'Number'}, inplace=False).head(3)"
      ]
    },
    {
      "cell_type": "markdown",
      "metadata": {
        "id": "6QHB33EwkF1t"
      },
      "source": [
        "\n",
        "A few things to note here:\n",
        "\n",
        "* `inplace`: this is a boolean that will update the **original** dataframe OR create us a new one\n",
        "* `{'Name': 'ProductName'}`: we may use this as a way to map a new col name to an existing one\n",
        "\n",
        "**REMEMBER**: we can view all the columns of a dataframe with:\n"
      ]
    },
    {
      "cell_type": "code",
      "execution_count": null,
      "metadata": {
        "id": "Rj7kp9ClkF1t"
      },
      "outputs": [],
      "source": [
        "prod.columns"
      ]
    },
    {
      "cell_type": "markdown",
      "metadata": {
        "id": "QbcJ5U8SkF14"
      },
      "source": [
        "\n",
        "What is the datatype of this attribute?\n"
      ]
    },
    {
      "cell_type": "code",
      "execution_count": null,
      "metadata": {
        "id": "3Lu4zHwPkF14"
      },
      "outputs": [],
      "source": [
        "type(prod.columns)"
      ]
    },
    {
      "cell_type": "code",
      "execution_count": null,
      "metadata": {
        "id": "89cm8cJkkF14"
      },
      "outputs": [],
      "source": []
    },
    {
      "cell_type": "code",
      "execution_count": null,
      "metadata": {
        "id": "_ZOoH1L_kF15"
      },
      "outputs": [],
      "source": [
        "<class 'pandas.core.indexes.base.Index'>"
      ]
    },
    {
      "cell_type": "markdown",
      "metadata": {
        "id": "B9yB1ixrkF15"
      },
      "source": [
        "\n",
        "The **Index** is an immutable ndarray implementing an ordered, sliceable set. It is the basic object storing axis labels for all pandas objects. Think of it as a 'row address' for your data frame (table). We can cast this `Index` to be something like, like say...a list.\n"
      ]
    },
    {
      "cell_type": "code",
      "execution_count": null,
      "metadata": {
        "id": "fJFpZuxmkF15"
      },
      "outputs": [],
      "source": [
        "list(prod.columns)"
      ]
    },
    {
      "cell_type": "markdown",
      "metadata": {
        "id": "IsQ8A8sbkF15"
      },
      "source": [
        "\n",
        "Now, we can do something like:\n"
      ]
    },
    {
      "cell_type": "code",
      "execution_count": null,
      "metadata": {
        "id": "KEoLMTZnkF15"
      },
      "outputs": [],
      "source": [
        "cols_list = list(prod.columns)\n",
        "cols_list[0] = 'New Col'\n",
        "prod.columns = cols_list"
      ]
    },
    {
      "cell_type": "markdown",
      "metadata": {
        "id": "dNIotZM4kF15"
      },
      "source": [
        "\n",
        "* **YOU DO**: What will the code above do? Run it and report back.\n",
        "* **YOU DO**: Select the first three rows under `New Col` and return it as a **dataframe**.\n",
        "* **YOU DO**: First, copy `prod` to `prod_cpy` (look at references below to see how to copy a dataframe). Then, rename the columns above, but **inplace** meaning `prod_cpy` itself must be mutated.\n",
        "\n",
        "## Basic Stats on Columns\n",
        "\n",
        "Five Number Summary (all assumes numeric data):\n",
        "- **Min:** The smallest value in the column\n",
        "- **Max:** The largest value in the column\n",
        "- **Quartile:** A quartile is one fourth of our data\n",
        "    - **First quartile:** This is the bottom most 25 percent\n",
        "    - **Median:** The middle value. (Line all values biggest to smallest - median is the middle!) Also the 50th percentile\n",
        "    - **Third quartile:** This the the top 75 percentile of our data\n",
        "\n",
        "![](https://www.mathsisfun.com/data/images/quartiles-a.svg)\n",
        "\n",
        "The `describe` method allows us to achieve this with pandas:\n"
      ]
    },
    {
      "cell_type": "code",
      "execution_count": null,
      "metadata": {
        "id": "7ZHFDeMVkF16"
      },
      "outputs": [],
      "source": [
        "# note - describe *default* only checks numeric datatypes\n",
        "prod[['MakeFlag', 'SafetyStockLevel', 'StandardCost']].describe()"
      ]
    },
    {
      "cell_type": "markdown",
      "metadata": {
        "id": "8sZk7FMwkF16"
      },
      "source": [
        "\n",
        "If we were to select cols as series, we could run additional **Series** object methods:\n"
      ]
    },
    {
      "cell_type": "code",
      "execution_count": null,
      "metadata": {
        "id": "8mQvjBeykF16"
      },
      "outputs": [],
      "source": [
        "# show the most popular product colors (aggregated by count, descending by default)\n",
        "prod['Color'].value_counts()"
      ]
    },
    {
      "cell_type": "code",
      "execution_count": null,
      "metadata": {
        "id": "qyKLjyFckF16"
      },
      "outputs": [],
      "source": []
    },
    {
      "cell_type": "code",
      "execution_count": null,
      "metadata": {
        "id": "ZDWmgwIPkF16"
      },
      "outputs": [],
      "source": [
        "Black           93\n",
        "Silver          43\n",
        "Red             38\n",
        "Yellow          36\n",
        "Blue            26\n",
        "Multi            8\n",
        "Silver/Black     7\n",
        "White            4\n",
        "Grey             1\n",
        "Name: Color, dtype: int64"
      ]
    },
    {
      "cell_type": "markdown",
      "metadata": {
        "id": "K5CYsIUMkF17"
      },
      "source": [
        "\n",
        "* **YOU DO**: Leveraging the `unique` **Series** method, print out the unique colors for this product.\n",
        "* **YOU DO**: Leveraging the `nunique` **Series** method, print out how many distinct colors are available.\n",
        "* **YOU DO**: Leveraging the `dropna` keyword arg of the `nunique` **Series** method, print out how many distinct colors are available *including* **NULL** values.\n",
        "\n",
        "## Filtering\n",
        "\n",
        "Filtering and sorting are key processes that allow us to drill into the 'nitty gritty' and cross sections of our dataset.\n",
        "\n",
        "To filter, we use a process called **Boolean Filtering**, wherein we define a Boolean condition, and use that Boolean condition to filer on our DataFrame.\n",
        "\n",
        "Recall: our given dataset has a column `Color`. Let's see if we can find all products that are `Black`. Let's take a look at the first 10 rows of the dataframe to see how it looks as-is:\n"
      ]
    },
    {
      "cell_type": "code",
      "execution_count": null,
      "metadata": {
        "id": "cwBiqrAFkF17"
      },
      "outputs": [],
      "source": [
        "colors = prod['Color'].head(10)"
      ]
    },
    {
      "cell_type": "code",
      "execution_count": null,
      "metadata": {
        "id": "01nPxyQMkF17"
      },
      "outputs": [],
      "source": []
    },
    {
      "cell_type": "code",
      "execution_count": null,
      "metadata": {
        "id": "FFIO6ljUkF18"
      },
      "outputs": [],
      "source": [
        "ProductID\n",
        "1         NaN\n",
        "2         NaN\n",
        "3         NaN\n",
        "4         NaN\n",
        "316       NaN\n",
        "317     Black\n",
        "318     Black\n",
        "319     Black\n",
        "320    Silver\n",
        "321    Silver\n",
        "Name: Color, dtype: object"
      ]
    },
    {
      "cell_type": "markdown",
      "metadata": {
        "id": "me321pq1kF18"
      },
      "source": [
        "\n",
        "To find only the \"Black\" colored items, we can:\n"
      ]
    },
    {
      "cell_type": "code",
      "execution_count": null,
      "metadata": {
        "id": "nXyNHNYGkF18"
      },
      "outputs": [],
      "source": [
        "prod['Color'].head(10) == 'Black'"
      ]
    },
    {
      "cell_type": "code",
      "execution_count": null,
      "metadata": {
        "id": "lqQgd7RwkF18"
      },
      "outputs": [],
      "source": []
    },
    {
      "cell_type": "code",
      "execution_count": null,
      "metadata": {
        "id": "ITnbWLuckF18"
      },
      "outputs": [],
      "source": [
        "ProductID\n",
        "1      False\n",
        "2      False\n",
        "3      False\n",
        "4      False\n",
        "316    False\n",
        "317     True\n",
        "318     True\n",
        "319     True\n",
        "320    False\n",
        "321    False\n",
        "Name: Color, dtype: bool"
      ]
    },
    {
      "cell_type": "markdown",
      "metadata": {
        "id": "hTjxolCgkF18"
      },
      "source": [
        "\n",
        "* **YOU DO**: Without using the `unique`/`nunique` methods from above, can you apply an additional filter to the series above to determine how many `Black` colored products exist?\n",
        "\n",
        "We can apply this filtering to our Dataframes as well, in a more interesting manner:\n"
      ]
    },
    {
      "cell_type": "code",
      "execution_count": null,
      "metadata": {
        "id": "ZNAVKKmukF19"
      },
      "outputs": [],
      "source": [
        "prod[prod['Color'] == 'Black'].head(3)"
      ]
    },
    {
      "cell_type": "code",
      "execution_count": null,
      "metadata": {
        "id": "NEAV2wcYkF19"
      },
      "outputs": [],
      "source": []
    },
    {
      "cell_type": "code",
      "execution_count": null,
      "metadata": {
        "id": "UeDGFoCWkF19"
      },
      "outputs": [],
      "source": [
        "   ProductID         Name ProductNumber  MakeFlag  ...  SellEndDate DiscontinuedDate                                 rowguid                   ModifiedDate\n",
        "5        317  LL Crankarm       CA-5965         0  ...          NaN              NaN  {3C9D10B7-A6B2-4774-9963-C19DCEE72FEA}  2014-02-08 10:01:36.827000000\n",
        "6        318  ML Crankarm       CA-6738         0  ...          NaN              NaN  {EABB9A92-FA07-4EAB-8955-F0517B4A4CA7}  2014-02-08 10:01:36.827000000\n",
        "7        319  HL Crankarm       CA-7457         0  ...          NaN              NaN  {7D3FD384-4F29-484B-86FA-4206E276FE58}  2014-02-08 10:01:36.827000000\n",
        "\n",
        "[3 rows x 25 columns]"
      ]
    },
    {
      "cell_type": "markdown",
      "metadata": {
        "id": "w43xVADkkF19"
      },
      "source": [
        "\n",
        "* **YOU DO**: Slice the dataframe above and select only the `Color` column - is there any non `black` color items?\n",
        "* **YOU DO**: calculate the average **ListPrice** for the salable products (**hint**: use the `FinishedGoodsFlag` column to determine \"salability\") using the **Series**.`mean()` method\n",
        "* **YOU DO**: calculate the above again, but this time use `describe` and pull the `mean` from there.\n",
        "\n",
        "## Compound Filtering\n",
        "\n",
        "Let's filter on _multiple conditions_. Before, we filtered on rows where `Color` was `Black`. We also filtered where `FinishedGoodsFlag` was equal to `1`. Let's see what happens when we filter on *both* simultaneously.\n",
        "\n",
        "The format for multiple conditions is:\n",
        "\n",
        "`df[ (df['col1'] == value1) & (df['col2'] == value2) ]`\n",
        "\n",
        "Or, more simply:\n",
        "\n",
        "`df[ (CONDITION 1) & (CONDITION 2) ]`\n",
        "\n",
        "Which eventually may evaluate to something like:\n",
        "\n",
        "`df[ True & False ]`\n",
        "\n",
        "...on a row-by-row basis. If the end result is `False`, the row is omitted.\n",
        "\n",
        "**Don't forget parentheses in your conditions!!** This is a common mistake.\n"
      ]
    },
    {
      "cell_type": "code",
      "execution_count": null,
      "metadata": {
        "id": "l7OQffe0kF19"
      },
      "outputs": [],
      "source": [
        "prod[ (prod['Color'] == 'Black') & (prod['FinishedGoodsFlag'] == 1) ].head(3)"
      ]
    },
    {
      "cell_type": "code",
      "execution_count": null,
      "metadata": {
        "id": "op_wMFeokF19"
      },
      "outputs": [],
      "source": []
    },
    {
      "cell_type": "code",
      "execution_count": null,
      "metadata": {
        "id": "XCgkAXDbkF19"
      },
      "outputs": [],
      "source": [
        "     ProductID                       Name ProductNumber  MakeFlag  ...  SellEndDate DiscontinuedDate                                 rowguid                   ModifiedDate\n",
        "209        680  HL Road Frame - Black, 58    FR-R92B-58         1  ...          NaN              NaN  {43DD68D6-14A4-461F-9069-55309D90EA7E}  2014-02-08 10:01:36.827000000\n",
        "212        708    Sport-100 Helmet, Black       HL-U509         0  ...          NaN              NaN  {A25A44FB-C2DE-4268-958F-110B8D7621E2}  2014-02-08 10:01:36.827000000\n",
        "226        722  LL Road Frame - Black, 58    FR-R38B-58         1  ...          NaN              NaN  {2140F256-F705-4D67-975D-32DE03265838}  2014-02-08 10:01:36.827000000\n",
        "\n",
        "[3 rows x 25 columns]"
      ]
    },
    {
      "cell_type": "markdown",
      "metadata": {
        "id": "-NwevsvCkF19"
      },
      "source": [
        "\n",
        "Another example:\n"
      ]
    },
    {
      "cell_type": "code",
      "execution_count": null,
      "metadata": {
        "id": "IJFKVeLxkF19"
      },
      "outputs": [],
      "source": [
        "# Here we have an example of a list price of greater than 50,\n",
        "# OR a product size that is not equal to 'XL'\n",
        "\n",
        "prod[ (prod['ListPrice'] > 50) | (prod['Size'] != 'XL') ].head(3)"
      ]
    },
    {
      "cell_type": "code",
      "execution_count": null,
      "metadata": {
        "id": "v_BxZirLkF1-"
      },
      "outputs": [],
      "source": []
    },
    {
      "cell_type": "code",
      "execution_count": null,
      "metadata": {
        "id": "Qd9rJkWVkF1-"
      },
      "outputs": [],
      "source": [
        "   ProductID             Name ProductNumber  MakeFlag  ...  SellEndDate DiscontinuedDate                                 rowguid                   ModifiedDate\n",
        "0          1  Adjustable Race       AR-5381         0  ...          NaN              NaN  {694215B7-08F7-4C0D-ACB1-D734BA44C0C8}  2014-02-08 10:01:36.827000000\n",
        "1          2     Bearing Ball       BA-8327         0  ...          NaN              NaN  {58AE3C20-4F3A-4749-A7D4-D568806CC537}  2014-02-08 10:01:36.827000000\n",
        "2          3  BB Ball Bearing       BE-2349         1  ...          NaN              NaN  {9C21AED2-5BFA-4F18-BCB8-F11638DC2E4E}  2014-02-08 10:01:36.827000000\n",
        "\n",
        "[3 rows x 25 columns]"
      ]
    },
    {
      "cell_type": "markdown",
      "metadata": {
        "id": "sn5yfQHWkF1-"
      },
      "source": [
        "\n",
        "* **YOU DO**: Find all rows that have a **NULL** dataframe and is **NOT** finished. **HINT**: use `pd.isna`\n",
        "\n",
        "## Sorting\n",
        "\n",
        "Here's how we can sort a dataframe\n"
      ]
    },
    {
      "cell_type": "code",
      "execution_count": null,
      "metadata": {
        "id": "Uy-kM5l6kF1-"
      },
      "outputs": [],
      "source": [
        "prod.sort_values(by='StandardCost', ascending=False).head(3)"
      ]
    },
    {
      "cell_type": "code",
      "execution_count": null,
      "metadata": {
        "id": "vhQHN6oAkF1-"
      },
      "outputs": [],
      "source": []
    },
    {
      "cell_type": "code",
      "execution_count": null,
      "metadata": {
        "id": "LllN-t2jkF1-"
      },
      "outputs": [],
      "source": [
        "     ProductID              Name ProductNumber  MakeFlag  ...          SellEndDate DiscontinuedDate                                 rowguid                   ModifiedDate\n",
        "253        749  Road-150 Red, 62    BK-R93R-62         1  ...  2012-05-29 00:00:00              NaN  {BC621E1F-2553-4FDC-B22E-5E44A9003569}  2014-02-08 10:01:36.827000000\n",
        "254        750  Road-150 Red, 44    BK-R93R-44         1  ...  2012-05-29 00:00:00              NaN  {C19E1136-5DA4-4B40-8758-54A85D7EA494}  2014-02-08 10:01:36.827000000\n",
        "255        751  Road-150 Red, 48    BK-R93R-48         1  ...  2012-05-29 00:00:00              NaN  {D10B7CC1-455E-435B-A08F-EC5B1C5776E9}  2014-02-08 10:01:36.827000000\n",
        "\n",
        "[3 rows x 25 columns]"
      ]
    },
    {
      "cell_type": "markdown",
      "metadata": {
        "id": "_KLGSqVGkF1-"
      },
      "source": [
        "\n",
        "This one is a little more advanced, but it demonstrates a few things:\n",
        "- Conversion of a `numpy.ndarray` object (return type of `pd.Series.unique()`) into a `pd.Series` object\n",
        "- `pd.Series.sort_values` with the `by=` kwarg omitted (if only one column is the operand, `by=` doesn't need specified\n",
        "- Alphabetical sort of a string field, `ascending=True` means A->Z\n",
        "- Inclusion of nulls, `NaN` in a string field (versus omission with a float/int as prior example)\n"
      ]
    },
    {
      "cell_type": "code",
      "execution_count": null,
      "metadata": {
        "id": "BqeRd8qXkF1-"
      },
      "outputs": [],
      "source": [
        "pd.Series(prod['Color'].unique()).sort_values(ascending=True)"
      ]
    },
    {
      "cell_type": "code",
      "execution_count": null,
      "metadata": {
        "id": "7jKpnG1QkF1_"
      },
      "outputs": [],
      "source": []
    },
    {
      "cell_type": "code",
      "execution_count": null,
      "metadata": {
        "id": "tg8R_VBdkF1_"
      },
      "outputs": [],
      "source": [
        "1           Black\n",
        "5            Blue\n",
        "8            Grey\n",
        "6           Multi\n",
        "3             Red\n",
        "2          Silver\n",
        "9    Silver/Black\n",
        "4           White\n",
        "7          Yellow\n",
        "0             NaN\n",
        "dtype: object"
      ]
    },
    {
      "cell_type": "markdown",
      "metadata": {
        "id": "b5BgMEIikF1_"
      },
      "source": [
        "\n",
        "## A few final YOU DOs\n",
        "\n",
        "* **YOU DO**: Create a variable called `rows` and a variable called `cols`. Store the num rows and cols in dataframe into these variables, respectively\n",
        "* **YOU DO**: Print out the number of unique product lines that exist in this data set\n",
        "* **YOU DO**: Print out the values of these product lines, **DROP NULLS**\n",
        "* **YOU DO**: Using `shape` and a dataframe filter, print out how many `R` productlines exist.\n",
        "* **Challenge**: What are the top 3 most expensive list price product that are either in the Women's Mountain category, OR Silver in Color? Return your answer as a DataFrame object, with NewName relabeled as Name, and ListPrice columns. Perform the statement in one execution, and do not mutate the source DataFrame.\n",
        "\n",
        "## Recap\n"
      ]
    },
    {
      "cell_type": "code",
      "execution_count": null,
      "metadata": {
        "id": "2wN4TanTkF1_"
      },
      "outputs": [],
      "source": [
        "\n",
        "# basic DataFrame operations\n",
        "df.head()\n",
        "df.tail()\n",
        "df.shape\n",
        "df.columns\n",
        "df.Index\n",
        "\n",
        "# selecting columns\n",
        "df.column_name\n",
        "df['column_name']\n",
        "\n",
        "# renaming columns\n",
        "df.rename({'old_name':'new_name'}, inplace=True)\n",
        "df.columns = ['new_column_a', 'new_column_b']\n",
        "\n",
        "# notable columns operations\n",
        "df.describe() # five number summary\n",
        "df['col1'].nunique() # number of unique values\n",
        "df['col1'].value_counts() # number of occurrences of each value in column\n",
        "\n",
        "# filtering\n",
        "df[ df['col1'] < 50 ] # filter column to be less than 50\n",
        "df[ (df['col1'] == value1) & (df['col2'] > value2) ] # filter column where col1 is equal to value1 AND col2 is greater to value 2\n",
        "\n",
        "# sorting\n",
        "df.sort_values(by='column_name', ascending = False) # sort biggest to smallest\n"
      ]
    },
    {
      "cell_type": "markdown",
      "metadata": {
        "id": "z5NvYl_SkF1_"
      },
      "source": [
        "\n",
        "\n",
        "🐼 🐼 🐼\n",
        "\n",
        "## DataFrame Reference\n",
        "\n",
        "Please find below a list of useful dataframe properties and methods for use in your exploratory data analysis practice.\n",
        "\n",
        "## Wrangling Data\n",
        "\n",
        "Given the following dataset:\n"
      ]
    },
    {
      "cell_type": "code",
      "execution_count": null,
      "metadata": {
        "id": "J7xD7Kk3kF1_"
      },
      "outputs": [],
      "source": [
        "wine_reviews = pd.read_csv('raw_data/winemag-data-130k.csv')"
      ]
    },
    {
      "cell_type": "markdown",
      "metadata": {
        "id": "zIR53_ppkF2A"
      },
      "source": [
        "\n",
        "After your initial import of some dataset, you'll want to do a gut check to make sure everything is in place. Here are the kind of very basic properties you might want to check:\n",
        "\n",
        "* `df.info()` -- returns index, datatype and memory information\n",
        "* `df.shape` -- returns the number of rows and columns in a data frame\n",
        "* `len(obj)` -- returns # of rows in the object data (*S & df)\n",
        "* `obj.size` -- returns # of elements in the object (*S & df)\n",
        "* `df.index` -- returns index of the rows specifically (*S & df)\n",
        "* `df.columns` -- returns the column labels of the DataFrame.\n",
        "* `df.head(n)` -- returns last n rows of a data frame\n",
        "* `df.tail(n)` -- returns last n rows of a data frame\n",
        "* `copy(obj)` -- create a deep copy of the object (*S & df)\n",
        "* `obj.empty` -- returns booleans for whether object is empty or not\n",
        "\n",
        "## Selecting Data\n",
        "\n",
        "#### Single Values\n",
        "\n",
        "* `df.loc[row_label, col_label]` -- select a single item in a DataFrame by its row and column labels\n",
        "* `df.loc[start_row_label : end_row_label, start_col_label : end_col_label]` -- select a slice of a DataFrame by starting and ending row/column labels\n",
        "* `df.iloc[row_index,:]` -- select a row in a DataFrame by index position\n",
        "* `s.iloc[index]` -- select a single item by its position\n",
        "* `s.loc[index]` -- select a slice of items from a Series\n",
        "\n",
        "#### Subsetting & Slicing\n",
        "\n",
        "* `obj.get(key)` -- returns an item from an object (e.g. a column from a DataFrame, a value from a Series, etc.)\n",
        "* `df[col]` -- select and name a column and return it as a Series\n",
        "* `df.loc[label1, label2, ...]` -- select one or more rows or columns in a DataFrame by its label\n",
        "* `df[[col1, col2]]` -- select and name multiple columns and return them as a new data frame\n",
        "* `df.nlargest(n, key)` -- Select and order top n entries.\n",
        "* `df.nsmallest(n, key)` -- Select and order bottom n entries\n",
        "* `obj.where(cond, other = NaN, inplace = False, axis = None)` -- replace values in the object where the condition is False (*S or df*)\n",
        "* `df.iloc[row_index, col_index]` -- select a single item in a DataFrame by the index position of its row and col\n",
        "* `df.iloc[start_index : end_index, start_index : end_index]` -- select a slice of a DataFrame by starting and ending index row/column positions; (ending index stop at index before it)\n",
        "\n",
        "## Cleaning & Organizing Data\n",
        "\n",
        "#### Editing Existing Data\n",
        "\n",
        "* `obj.truncate([before, after, axis)` -- truncate an object before and after some index value (*S & df*)\n",
        "* `df.drop(columns=[col1, col2, ...])` -- drops specified columns from the dataframe\n",
        "* `s.replace(1,'one')` -- replace all values equal to 1 with 'one'\n",
        "* `s.replace([1,3],['one','three'])` -- replace all values equal to 1 with 'one' and all values equal to 3 with 'three'\n",
        "* `df.rename(columns={'old_name': 'new_ name'})` -- rename specific columns\n",
        "* `df.set_index(keys)` -- change the index of the data frame\n",
        "* `df.reset_index(keys)` -- Reset index of DataFrame to row numbers, moving\n",
        "index to columns.\n",
        "* `shift([periods, freq, axis, fill_value])` -- Shift index by desired number of periods with an optional time freq.\n",
        "* `df.set_axis(labels)`\n",
        "\n",
        "#### Null Values\n",
        "\n",
        "* `pd.isnull()` -- checks for null (NaN values in the data and returns an array of booleans, where \"True\" means missing and \"False\" means present\n",
        "* `pd.notnull()` -- returns all values that are NOT null\n",
        "* `pd.isnull().sum()` -- returns a count of null (NaN)\n",
        "* `df.dropna()` -- Drops all rows that contain null values and returns a new df\n",
        "* `df.dropna(axis=1)` -- Drops all columns that contain null values and returns a new df\n",
        "* `df.dropna(subset=[col1])` -- Drops all rows that contain null values in one or more specific columns and returns a new df\n",
        "* `df.fillna(value=x)` —- replace all missing values with some value `x` (*S & df*)\n",
        "* `s.fillna(s.mean())` -- Replaces all null values with the mean (mean can be replaced with almost any function from the statistics section)\n",
        "\n",
        "#### Duplicate Values\n",
        "\n",
        "* `df.duplicated([subset, keep])` -- Rrturn boolean Series denoting duplicate rows; can choose to consider a subset of columns\n",
        "* `drop_duplicates([subset, keep, inplace])` -- returns DataFrame with duplicate rows removed, optionally only considering certain columns.\n",
        "\n",
        "#### Sorting\n",
        "\n",
        "* `df.transform(func[, axis])` -- return DataFrame with transformed values\n",
        "* `df.transpose(*args, **kwargs)` -- transpose rows and columns\n",
        "* `df.sort_values(col1)` -- sort values in a certain column in *ascending* order\n",
        "* `df.sort_index(axis=1)` -- sort axis values by index in *ascending* order\n",
        "* `df.sort_values(col2,ascending=False)` -- sort values in a certain column in *descending* order\n",
        "* `df.sort_index(axis=1, ascending=False)` -- sort axis values by index in *descending* order\n",
        "* `df.sort_values([col1,col2],ascending=[True,False])` -- sort values in a col1 in *ascending* order, then sort values in col2 in *descending* order\n",
        "\n"
      ]
    }
  ],
  "metadata": {
    "colab": {
      "provenance": []
    },
    "language_info": {
      "name": "python"
    },
    "kernelspec": {
      "name": "python3",
      "display_name": "Python 3"
    }
  },
  "nbformat": 4,
  "nbformat_minor": 0
}