{
  "cells": [
    {
      "cell_type": "markdown",
      "metadata": {
        "id": "0M5Sjsy25pmY"
      },
      "source": [
        "<a href=\"https://colab.research.google.com/github/mottaquikarim/PYTH2/blob/master/src/PSETS/nb/hw2.ipynb\" target=\"_parent\"><img src=\"https://colab.research.google.com/assets/colab-badge.svg\" alt=\"Open In Colab\"/></a>"
      ]
    },
    {
      "cell_type": "markdown",
      "metadata": {
        "id": "UhwT6_RP5pmc"
      },
      "source": [
        "#  LISTS\n",
        "\n",
        "## LIST_MANIPULATION\n",
        "\n",
        "### P1.PY Phone Numbers\n"
      ]
    },
    {
      "cell_type": "code",
      "execution_count": 9,
      "metadata": {
        "colab": {
          "base_uri": "https://localhost:8080/"
        },
        "id": "8X9F9TcG5pmc",
        "outputId": "38eb3f64-b350-4ae4-a1ca-1df992fe1dac"
      },
      "outputs": [
        {
          "output_type": "stream",
          "name": "stdout",
          "text": [
            "11921680143\n"
          ]
        }
      ],
      "source": [
        "\"\"\"\n",
        "Phone Numbers\n",
        "\"\"\"\n",
        "\n",
        "# Parse this phone number so that a computer can process\n",
        "# it. (Hint: It can't include any non-numeric\n",
        "# characters.)\n",
        "\n",
        "cell = '1.192.168.0143'\n",
        "\n",
        "cell = cell.replace(\".\",\"\")\n",
        "print(cell)\n"
      ]
    },
    {
      "cell_type": "markdown",
      "metadata": {
        "id": "Tct_y1XM5pmd"
      },
      "source": [
        "\n",
        "\n",
        "### P2.PY Basic Math Ops\n",
        "\n",
        "\n"
      ]
    },
    {
      "cell_type": "code",
      "execution_count": 17,
      "metadata": {
        "colab": {
          "base_uri": "https://localhost:8080/"
        },
        "id": "Qm9QsDxW5pmd",
        "outputId": "47a85283-b621-49ef-ecd7-14677f8dbe0b"
      },
      "outputs": [
        {
          "output_type": "stream",
          "name": "stdout",
          "text": [
            "my_sum = 174\n",
            "my_min = 2\n",
            "my_max = 30\n",
            "my_range = 28\n",
            "my_mean = 17.4\n"
          ]
        }
      ],
      "source": [
        "\"\"\"\n",
        "Basic Math Ops\n",
        "\"\"\"\n",
        "\n",
        "# Given the list below, assign the correct values to the variables below.\n",
        "\t# my_sum =\n",
        "\t# my_min =\n",
        "\t# my_max =\n",
        "\t# my_range =\n",
        "\t# my_mean =\n",
        "\n",
        "import statistics as s\n",
        "\n",
        "nums = [2, 19, 20, 12, 6, 24, 8, 30, 28, 25]\n",
        "\n",
        "\n",
        "\n",
        "# Once you finish, print out each value **on its own line** in this format: \"my_median = \" etc.\n",
        "\n",
        "import statistics as s\n",
        "\n",
        "nums = [2, 19, 20, 12, 6, 24, 8, 30, 28, 25]\n",
        "\n",
        "# Given the list below, assign the correct values to the variables below.\n",
        "\t# my_sum =\n",
        "\t# my_min =\n",
        "\t# my_max =\n",
        "\t# my_range =\n",
        "\t# my_mean =\n",
        "my_sum = sum(nums)\n",
        "my_min = min(nums)\n",
        "my_max = max(nums)\n",
        "my_range = my_max - my_min\n",
        "my_mean = s.mean(nums)\n",
        "\n",
        "# Once you finish, print out each value **on its own line** in this format: \"my_median = \" etc.\n",
        "print(\"my_sum =\", my_sum)\n",
        "print(\"my_min =\", my_min)\n",
        "print(\"my_max =\", my_max)\n",
        "print(\"my_range =\", my_range)\n",
        "print(\"my_mean =\", my_mean)\n",
        "\n",
        "\n",
        "\n",
        "\n"
      ]
    },
    {
      "cell_type": "markdown",
      "metadata": {
        "id": "GI5XZW2M5pme"
      },
      "source": [
        "\n",
        "\n",
        "### P3.PY Merge Lists with Duplicates\n",
        "\n"
      ]
    },
    {
      "cell_type": "code",
      "execution_count": 28,
      "metadata": {
        "colab": {
          "base_uri": "https://localhost:8080/"
        },
        "id": "Lci-pP7L5pme",
        "outputId": "5f53938d-b118-49e8-af05-ec89b882abd9"
      },
      "outputs": [
        {
          "output_type": "stream",
          "name": "stdout",
          "text": [
            "List3: [2, 8, 6, 2, 8, 6]\n",
            "List4: [2, 8, 6, 10, 4, 12]\n",
            "New list List3: [13, 16, 9, 10, 4, 12]\n",
            "List5: [2, 4, 6, 8, 9, 10, 12, 13, 16]\n"
          ]
        }
      ],
      "source": [
        "\"\"\"\n",
        "Merge Lists with Duplicates\n",
        "\"\"\"\n",
        "\n",
        "# Use the two lists below to solve this problem. Print out the result from each section as you go along.\n",
        "\n",
        "list1, list2 = [2, 8, 6], [10, 4, 12]\n",
        "\n",
        "\n",
        "# A) Add another instance of each item in list1 to list1 again and assign the results to list3.\n",
        "list3 = list1 + list1\n",
        "print(\"List3:\", list3)\n",
        "\n",
        "# B) Combine the two given lists and assign them to list4.\n",
        "list4 = list1 + list2\n",
        "print(\"List4:\", list4)\n",
        "\n",
        "# C) Replace the first 3 items in list 3 with the numbers 13, 16, 9.\n",
        "list3 = [13, 16, 9] + list2\n",
        "print(\"New list List3:\", list3)\n",
        "\n",
        "# D) Merge list3 and list4 to create a list containing no duplicates and store this in list5.\n",
        "list5 = list(set(list3 + list4))\n",
        "print(\"List5:\", list5)\n",
        "\n",
        "\n",
        "# Take a look at your printed statements to see the evolution of your lists with each step of this problem.\n"
      ]
    },
    {
      "cell_type": "markdown",
      "metadata": {
        "id": "DaLXtHKa5pme"
      },
      "source": [
        "\n",
        "\n",
        "### P4.PY Spotify Playlists - Sorting\n"
      ]
    },
    {
      "cell_type": "code",
      "execution_count": 33,
      "metadata": {
        "colab": {
          "base_uri": "https://localhost:8080/"
        },
        "id": "IG2kN2Dh5pmf",
        "outputId": "4b99c910-3d80-4472-f9bf-6ddad2413a1c"
      },
      "outputs": [
        {
          "output_type": "stream",
          "name": "stdout",
          "text": [
            "['At Last', 'Dancing in the Moonlight', 'Fortunate Son', 'Hey Jude', \"I'm Yours\", \"Isn't She Lovely\", 'Just the Way You Are', 'Roxanne', 'Tiny Dancer', 'Vienna']\n",
            "['Vienna', 'Tiny Dancer', 'Roxanne', 'Just the Way You Are', \"Isn't She Lovely\", \"I'm Yours\", 'Hey Jude', 'Fortunate Son', 'Dancing in the Moonlight', 'At Last']\n"
          ]
        }
      ],
      "source": [
        "\"\"\"\n",
        "Spotify Playlists - Sorting\n",
        "\"\"\"\n",
        "\n",
        "# You work for Spotify and are creating a feature for users to alphabetize their playlists by song title. Below is a list of titles from a sample playlist.\n",
        "\n",
        "playlist_titles = ['Tiny Dancer', 'At Last', 'Fortunate Son',\n",
        "'Hey Jude', 'Isn\\'t She Lovely', 'Just the Way You Are', 'I\\'m Yours',\n",
        "'Vienna', 'Roxanne', 'Dancing in the Moonlight']\n",
        "\n",
        "# Alphabetize these songs and print the result.\n",
        "\n",
        "alphabetize_song_list = sorted(playlist_titles)\n",
        "print(alphabetize_song_list)\n",
        "\n",
        "\n",
        "# Now do the reverse.\n",
        "\n",
        "reverse_alphabetize_song_list = sorted(playlist_titles, reverse = True)\n",
        "print(reverse_alphabetize_song_list)"
      ]
    },
    {
      "cell_type": "markdown",
      "metadata": {
        "id": "NMwRcZEd5pmf"
      },
      "source": [
        "\n",
        "\n",
        "### P5.PY Cool Runnings!\n"
      ]
    },
    {
      "cell_type": "code",
      "execution_count": 53,
      "metadata": {
        "colab": {
          "base_uri": "https://localhost:8080/"
        },
        "id": "CE0yjPaQ5pmf",
        "outputId": "0dde0851-bf9e-49a3-b712-634e3b6eb5b4"
      },
      "outputs": [
        {
          "output_type": "stream",
          "name": "stdout",
          "text": [
            "Feeltherhythm\n",
            "Feeltherhyme\n",
            "Getonup\n",
            "It'sYOLOtime!\n"
          ]
        }
      ],
      "source": [
        "from os import replace\n",
        "\"\"\"\n",
        "Cool Runnings!\n",
        "\"\"\"\n",
        "\n",
        "# Here's a quote from the movie 'Cool Runnings'. :)\n",
        "\n",
        "# Replace the word bobsled with \"YOLO\" and print the resultant list as 4 sentences (i.e. NOT a list), each on a new line.\n",
        "\n",
        "cool_runnings = [\n",
        "\t'Feel', 'the', 'rhythm.',\n",
        "\t'Feel', 'the', 'rhyme.',\n",
        "\t'Get', 'on', 'up.',\n",
        "\t'It\\'s', 'bobsled', 'time!'\n",
        "]\n",
        "\n",
        "#convert list cool_runnings to string\n",
        "cool_runnings_string = ''.join(cool_runnings)\n",
        "\n",
        "# Replace the word bobsled with \"YOLO\"\n",
        "cool_runnings_string = cool_runnings_string.replace('bobsled','YOLO')\n",
        "\n",
        "#split into sentences based on punctuation\n",
        "cool_runnings = cool_runnings_string.split('.')\n",
        "\n",
        "#print setnence on new line\n",
        "for line in cool_runnings:\n",
        "\tprint(line.strip())\n",
        "\n",
        "\n",
        "\n",
        "\n"
      ]
    },
    {
      "cell_type": "markdown",
      "metadata": {
        "id": "4-Sgtrnt5pmf"
      },
      "source": [
        "\n",
        "\n",
        "## LIST_CHALLENGES\n",
        "\n",
        "### P1.PY CHALLENGE - Extensions\n"
      ]
    },
    {
      "cell_type": "code",
      "execution_count": 55,
      "metadata": {
        "colab": {
          "base_uri": "https://localhost:8080/"
        },
        "id": "Gb9atKOS5pmf",
        "outputId": "8196215a-df6b-4ae6-b55c-25cacd401878"
      },
      "outputs": [
        {
          "output_type": "stream",
          "name": "stdout",
          "text": [
            "[6, 12, 9, 4, 10, 1, 15, 3, 6, 2, 1, 8]\n"
          ]
        }
      ],
      "source": [
        "\"\"\"\n",
        "CHALLENGE - Extensions\n",
        "\"\"\"\n",
        "\n",
        "# ** Challenge** Add each element of the tuple1 to list1 *individually* and print the result.\n",
        "\n",
        "list1 = [6, 12, 9, 4, 10, 1]\n",
        "tuple1 = [(15,3), (6,2), (1, 8)]\n",
        "\n",
        "# add tuple1 to list1\n",
        "for i in tuple1:\n",
        "  list1.extend(i)\n",
        "\n",
        "print(list1)\n"
      ]
    },
    {
      "cell_type": "markdown",
      "metadata": {
        "id": "rylDhcMo5pmf"
      },
      "source": [
        "\n",
        "\n",
        "### P2.PY CHALLENGE - Core Statistics Calculations\n"
      ]
    },
    {
      "cell_type": "code",
      "execution_count": 57,
      "metadata": {
        "colab": {
          "base_uri": "https://localhost:8080/"
        },
        "id": "JA8NFzGb5pmf",
        "outputId": "f9889ae5-1ff5-4ced-f5f3-b2b3288bd524"
      },
      "outputs": [
        {
          "output_type": "stream",
          "name": "stdout",
          "text": [
            "mean = 17.4\n",
            "median = 19.5\n",
            "mode = 6\n",
            "var = 84.17777777777778\n",
            "stdev = 9.174844836714012\n"
          ]
        }
      ],
      "source": [
        "\"\"\"\n",
        "CHALLENGE - Core Statistics Calculations\n",
        "\"\"\"\n",
        "\n",
        "# Given the sample below, find the mean, median, mode, variance, and standard deviation of this sample. Print them out separately, but in the same format as before.\n",
        "\t# my_median =\n",
        "\t# my_mode =\n",
        "\t# my_variance =\n",
        "\t# my_sd =\n",
        "\n",
        "import statistics as s\n",
        "\n",
        "sample = [6, 19, 20, 12, 6, 24, 8, 30, 28, 25]\n",
        "\n",
        "my_median = s.median(sample)\n",
        "my_mode = s.mode(sample)\n",
        "my_variance = s.variance(sample)\n",
        "my_sd = s.stdev(sample)\n",
        "\n",
        "# Once you finish, print out each value **on its own line** in this format: \"median = \" etc.\n",
        "\n",
        "print\n",
        "\n",
        "# Print each value on its own line\n",
        "print(\"mean =\", my_mean)\n",
        "print(\"median =\", my_median)\n",
        "print(\"mode =\", my_mode)\n",
        "print(\"var =\", my_variance)\n",
        "print(\"stdev =\", my_sd)"
      ]
    },
    {
      "cell_type": "markdown",
      "metadata": {
        "id": "He6EIe-55pmg"
      },
      "source": [
        "\n",
        "\n",
        "#  DICTS\n",
        "\n",
        "## DICT_OPS\n",
        "\n",
        "### P1.PY Basic Dict Concepts\n"
      ]
    },
    {
      "cell_type": "code",
      "execution_count": 81,
      "metadata": {
        "colab": {
          "base_uri": "https://localhost:8080/"
        },
        "id": "Nt7lrute5pmg",
        "outputId": "9af39f8f-617a-4214-ac20-90e8680f6d4e"
      },
      "outputs": [
        {
          "output_type": "stream",
          "name": "stdout",
          "text": [
            "the number of people in d2 is: 5\n",
            "Allison\n",
            "{'Anthony': 'Paollelo', 'Ping': 'Qiao', 'Enrique': 'Alvarez', 'Arjun': 'Dhir', 'Allison': 'Zhang'}\n"
          ]
        }
      ],
      "source": [
        "\"\"\"\n",
        "Basic Dict Concepts\n",
        "\"\"\"\n",
        "\n",
        "# A) Declare an empty dict as d1.\n",
        "\n",
        "d1 = {}\n",
        "\n",
        "# B) Create a dict called d2 containing the first and last names below:\n",
        "# Anthony Paollelo, Ping Qiao, Enrique Alvarez, Arjun Dhir\n",
        "\n",
        "d2 = {\n",
        "    'Anthony': 'Paollelo',\n",
        "    'Ping': 'Qiao',\n",
        "    'Enrique': 'Alvarez',\n",
        "    'Arjun': 'Dhir'}\n",
        "\n",
        "# C) Add Allison Zhang person to d2.\n",
        "\n",
        "d2['Allison'] = 'Zhang'\n",
        "\n",
        "# D) How many people are now in d2? Print out all their *first* names in the vars below.\n",
        "\n",
        "### num_people =\n",
        "num_people = len(d2)\n",
        "print(\"the number of people in d2 is:\", num_people)\n",
        "### first_names =\n",
        "first_names = list(d2.keys())\n",
        "\n",
        "# E) Delete a random person from d2 and print his/her name in the var below.\n",
        "\n",
        "### x =\n",
        "\n",
        "import random\n",
        "\n",
        "# identify random person\n",
        "random_person = random.choice(list(d2.keys()))\n",
        "\n",
        "# store the first and last names of the person to be deleted\n",
        "deleted_first_name = random_person\n",
        "deleted_last_name = d2[random_person]\n",
        "\n",
        "# delete the random person\n",
        "del d2[random_person]\n",
        "\n",
        "x = random_person\n",
        "\n",
        "print(x)\n",
        "\n",
        "# F) Re-add the name you deleted to the end of d2.\n",
        "d2[deleted_first_name] = deleted_last_name\n",
        "\n",
        "# Get name from 'x'\n",
        "name = d2[x]\n",
        "\n",
        "# Re-add the person to the dictionary\n",
        "d2[x] = name\n",
        "\n",
        "print(d2)\n",
        "\n",
        "\n",
        "\n"
      ]
    },
    {
      "cell_type": "markdown",
      "metadata": {
        "id": "lJgQX1745pmg"
      },
      "source": [
        "\n",
        "\n",
        "### P2.PY Merging Dicts\n",
        "\n",
        "\n"
      ]
    },
    {
      "cell_type": "code",
      "execution_count": 82,
      "metadata": {
        "colab": {
          "base_uri": "https://localhost:8080/"
        },
        "id": "CQHNLhw95pmg",
        "outputId": "3b593bd9-08f7-4d50-84cd-34613feb4c75"
      },
      "outputs": [
        {
          "output_type": "stream",
          "name": "stdout",
          "text": [
            "{'a': 100, 'b': 200, 'c': 300, 'd': 400, 'e': 500}\n"
          ]
        }
      ],
      "source": [
        "\"\"\"\n",
        "Merging Dicts\n",
        "\"\"\"\n",
        "\n",
        "# Merge these two dicts without creating a new one.\n",
        "\n",
        "d1 = {'a': 100, 'b': 200}\n",
        "d2 = {'c': 300, 'd': 400, 'e': 500}\n",
        "\n",
        "d1.update(d2)\n",
        "print(d1)"
      ]
    },
    {
      "cell_type": "markdown",
      "metadata": {
        "id": "PBXVJi-g5pmg"
      },
      "source": [
        "\n",
        "\n",
        "### P3.PY Math with Girl Scout Cookies\n",
        "\n",
        "\n"
      ]
    },
    {
      "cell_type": "code",
      "execution_count": 84,
      "metadata": {
        "colab": {
          "base_uri": "https://localhost:8080/"
        },
        "id": "XI2bk5QZ5pmg",
        "outputId": "ed76acc0-c68a-42b5-a1d1-6255557c86ca"
      },
      "outputs": [
        {
          "output_type": "stream",
          "name": "stdout",
          "text": [
            "Wendy: 25\n",
            "Connie: 26\n",
            "Francesca: 42\n",
            "tagalongs: 33\n",
            "thin mints: 30\n",
            "samoas: 30\n",
            "avg tagalongs: 11.0\n",
            "avg thin mints: 10.0\n",
            "avg samoas: 10.0\n",
            "This year we sold 93 boxes!\n"
          ]
        }
      ],
      "source": [
        "\"\"\"\n",
        "Math with Girl Scout Cookies\n",
        "\"\"\"\n",
        "\n",
        "# Print out the number of boxes of girl scout cookies that each girl in the troop sold in the below format:\n",
        "\t# Wendy: _____\n",
        "\t# Connie: _____\n",
        "\t# Francesca: _____\n",
        "\n",
        "Wendy = {'tagalongs': 5, 'thin mints': 12, 'samoas': 8}\n",
        "Connie = {'tagalongs': 10, 'thin mints': 4, 'samoas': 12}\n",
        "Francesca = {'tagalongs': 18, 'thin mints': 14, 'samoas': 10}\n",
        "\n",
        "### salesW =\n",
        "### salesC =\n",
        "### salesF =\n",
        "\n",
        "# Calculate number of cookies sold print sum\n",
        "salesW = sum(Wendy.values())\n",
        "salesC = sum(Connie.values())\n",
        "salesF = sum(Francesca.values())\n",
        "\n",
        "print(\"Wendy:\", salesW)\n",
        "print(\"Connie:\", salesC)\n",
        "print(\"Francesca:\", salesF)\n",
        "\n",
        "# For each type of girl scout cookie, print out the total number of boxes sold in the below format:\n",
        "\t# tagalongs: _____\n",
        "\t# thin mints: _____\n",
        "\t# samoas: _____\n",
        "\n",
        "### total_tagalongs =\n",
        "total_tagalongs = Wendy['tagalongs'] + Connie['tagalongs'] + Francesca['tagalongs']\n",
        "### total_thinmints =\n",
        "total_thinmints = Wendy['thin mints'] + Connie['thin mints'] + Francesca['thin mints']\n",
        "### total_samoas =\n",
        "total_samoas = Wendy['samoas'] + Connie['samoas'] + Francesca['samoas']\n",
        "\n",
        "#print results\n",
        "print(\"tagalongs:\", total_tagalongs)\n",
        "print(\"thin mints:\", total_thinmints)\n",
        "print(\"samoas:\", total_samoas)\n",
        "\n",
        "\n",
        "# For each type of girl scout cookie, print out the average number of boxes sold in the below format:\n",
        "\t# tagalongs: _____\n",
        "\t# thin mints: _____\n",
        "\t# samoas: _____\n",
        "\n",
        "avg_tagalongs = total_tagalongs / 3  # There are 3 girls in the troop\n",
        "avg_thinmints = total_thinmints / 3\n",
        "avg_samoas = total_samoas / 3\n",
        "\n",
        "\n",
        "### avg_tagalongs =\n",
        "### avg_thinmints =\n",
        "### avg_samoas =\n",
        "\n",
        "#print results\n",
        "print(\"avg tagalongs:\", avg_tagalongs)\n",
        "print(\"avg thin mints:\", avg_thinmints)\n",
        "print(\"avg samoas:\", avg_samoas)\n",
        "\n",
        "\n",
        "# Print out total the number of boxes of cookies the girls sold collectively as follows:\n",
        "\n",
        "### boxes_sold =\n",
        "boxes_sold = salesW + salesC + salesF\n",
        "# \"This year we sold ______ boxes!\"\n",
        "print(\"This year we sold\", boxes_sold, \"boxes!\")"
      ]
    },
    {
      "cell_type": "markdown",
      "metadata": {
        "id": "TDoWdEtu5pmg"
      },
      "source": [
        "\n",
        "\n",
        "### P4.PY Inverting Keys & Values\n",
        "\n",
        "\n"
      ]
    },
    {
      "cell_type": "code",
      "execution_count": null,
      "metadata": {
        "id": "Wbd98I1G5pmg"
      },
      "outputs": [],
      "source": [
        "\"\"\"\n",
        "Inverting Keys & Values\n",
        "\"\"\"\n",
        "\n",
        "# Invert dict1 - make the current keys into values and the current values into keys.\n",
        "\n",
        "\n",
        "dict1 = { \"k1\" : \"v1\", \"k2\" : \"v2\", \"k3\" : \"v1\" }\n",
        "\n",
        "#invert key and values\n",
        "#not sure how to accomplish this"
      ]
    },
    {
      "cell_type": "markdown",
      "metadata": {
        "id": "UbEcJX0n5pmg"
      },
      "source": [
        "\n",
        "\n",
        "### P5.PY Lists to Dicts\n",
        "\n",
        "\n"
      ]
    },
    {
      "cell_type": "code",
      "execution_count": 85,
      "metadata": {
        "colab": {
          "base_uri": "https://localhost:8080/"
        },
        "id": "bwrJXKqH5pmh",
        "outputId": "cae86c16-b164-4b1e-b4fd-2866aa1870b9"
      },
      "outputs": [
        {
          "output_type": "stream",
          "name": "stdout",
          "text": [
            "{'Taq': [98, 89, 92, 94], 'Zola': [86, 45, 98, 100], 'Valerie': [76, 79, 80, 82]}\n"
          ]
        }
      ],
      "source": [
        "\"\"\"\n",
        "Lists to Dicts\n",
        "\"\"\"\n",
        "\n",
        "# Turn these two lists into a dict called grades.\n",
        "\n",
        "names = ['Taq', 'Zola', 'Valerie', 'Valerie']\n",
        "scores = [[98, 89, 92, 94], [86, 45, 98, 100], [100, 100, 100, 100], [76, 79, 80, 82]]\n",
        "\n",
        "### grades =\n",
        "\n",
        "grades = {name: score for name, score in zip(names, scores)}\n",
        "print(grades)"
      ]
    },
    {
      "cell_type": "markdown",
      "metadata": {
        "id": "9E37Ng105pmh"
      },
      "source": [
        "\n",
        "\n",
        "## SEARCH_VALIDATION\n",
        "\n",
        "### P1.PY Login Credentials\n",
        "\n",
        "\n"
      ]
    },
    {
      "cell_type": "code",
      "execution_count": 99,
      "metadata": {
        "colab": {
          "base_uri": "https://localhost:8080/"
        },
        "id": "i-LhpTe85pmh",
        "outputId": "1a5aacfc-a5dd-47dc-db2b-d6e7da78b70d"
      },
      "outputs": [
        {
          "output_type": "stream",
          "name": "stdout",
          "text": [
            "Successful login!\n"
          ]
        }
      ],
      "source": [
        "\"\"\"\n",
        "Login Credentials\n",
        "\"\"\"\n",
        "\n",
        "# Imagine you work for a movie streaming service. You're in charge of safeguarding user privacy by ensuring the login feature remains secure. For the sake of example only, below is the dict of user login info. Normally, you wouldn't have access to see this unencrypted of course!\n",
        "\n",
        "users = {\n",
        "\t'person@email.com': 'PassWord',\n",
        "\t'someone@email.com': 'hiitsme',\n",
        "\t'me@email.com': 'myPassword',\n",
        "\t'anyone@email.com': 'IMawesome',\n",
        "\t'guy@email.com': 'pa$$wordz'\n",
        "\t# etc\n",
        "}\n",
        "\n",
        "# A user enters the below login info (email and password) for your app. Search your database of user logins to see if this account exists and if the password matches what you have on file. If the login credentials are correct, print \"Successful login!\". Otherwise, print \"The login info you entered does not match any of our records.\"\n",
        "\n",
        "current_user = {'me@email.com': 'myPassword'}\n",
        "\n",
        "for email, password in current_user.items():\n",
        "    if users.get(email) == password:\n",
        "        print(\"Successful login!\")\n",
        "        break\n",
        "else:\n",
        "    print(\"The login info you entered does not match any of our records.\")"
      ]
    },
    {
      "cell_type": "markdown",
      "metadata": {
        "id": "VaMZXmDO5pmh"
      },
      "source": [
        "\n",
        "\n",
        "## COUNTERS_CHALLENGE\n",
        "\n",
        "### P1.PY CHALLENGE - Word Frequency\n",
        "\n",
        "\n"
      ]
    },
    {
      "cell_type": "code",
      "execution_count": null,
      "metadata": {
        "id": "6h8aFOJh5pmh"
      },
      "outputs": [],
      "source": [
        "\"\"\"\n",
        "CHALLENGE - Word Frequency\n",
        "\"\"\"\n",
        "\n",
        "# Print out the number of words in this movie quote. Find and print out the most common word in the quote and how many times it was used.\n",
        "### Hint: You do not need a loop for this. Look up the Counter docs in python3.\n",
        "\n",
        "from collections import Counter\n",
        "\n",
        "princess_bride = [\n",
        "'Hello', 'my', 'name', 'is', 'Inigo', 'Montoya',\n",
        "'You', 'killed', 'my', 'father',\n",
        "'Prepare', 'to', 'die'\n",
        "]\n",
        "\n",
        "### fave_word =\n",
        "\n",
        "# p.s. You might use this to help analyze the most common topic in comments or reviews from your users to help understand the best places to improve you product."
      ]
    },
    {
      "cell_type": "markdown",
      "metadata": {
        "id": "6BykH-lc5pmh"
      },
      "source": [
        "\n",
        "\n",
        "### P2.PY CHALLENGE - Summing Dict Values\n",
        "\n",
        "\n"
      ]
    },
    {
      "cell_type": "code",
      "execution_count": null,
      "metadata": {
        "id": "40i9FdSi5pmh"
      },
      "outputs": [],
      "source": [
        "\"\"\"\n",
        "CHALLENGE - Summing Dict Values\n",
        "\"\"\"\n",
        "\n",
        "# Two Kindergarten teachers poll their classes for what fruit they want to eat for snacktime tomorrow. Only one of them is going shopping, so she needs to know how many of each fruit she needs to buy in total. Tally these up and assign them to the \"shopping_list\" dict.\n",
        "\n",
        "poll1 = {'apples': 8, 'bananas': 12}\n",
        "poll2 = {'apples': 6, 'bananas': 6, 'clementines': 8}\n",
        "\n",
        "### shopping_list =\n",
        "\n"
      ]
    },
    {
      "cell_type": "markdown",
      "metadata": {
        "id": "mdLKrB_l5pmh"
      },
      "source": [
        "\n"
      ]
    }
  ],
  "metadata": {
    "colab": {
      "provenance": []
    },
    "language_info": {
      "name": "python"
    },
    "kernelspec": {
      "name": "python3",
      "display_name": "Python 3"
    }
  },
  "nbformat": 4,
  "nbformat_minor": 0
}