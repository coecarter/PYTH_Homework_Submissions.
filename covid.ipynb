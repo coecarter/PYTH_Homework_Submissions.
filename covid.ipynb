{
 "cells": [
  {
   "cell_type": "markdown",
   "metadata": {},
   "source": [
    "<img src=\"http://imgur.com/1ZcRyrc.png\" style=\"float: left; margin: 20px; height: 55px\">\n",
    "\n",
    "# Project 2: Analyzing Covid-19 Data\n",
    "\n",
    "_Author: B Rhodes (DC)_\n",
    "\n",
    "---"
   ]
  },
  {
   "cell_type": "markdown",
   "metadata": {},
   "source": [
    "For Project 2, you'll be using Python to perform fundamental exploratory data analysis (EDA) tasks. In the other notebook in this project, we can use Pandas, but this notebook you should only use Python. The purpose here is to flex your Python muscles while thinking about data.\n",
    "\n",
    "Below you'll import a data file with information on Covid-19 in a number of patients from the Cleveland Clinic. The original data along with a data dictionary can be found at the [John Hopkins University: CSSEGISandData/COVID-19](https://github.com/CSSEGISandData/COVID-19/tree/master/csse_covid_19_data). \n",
    "\n",
    "\n",
    "For these exercises, you will conduct basic exploratory data analysis using Python (Pandas is not allowed for this notebook). The goal is to understand the some fundamentals of the COVID-19 data: These exercises will allow you to practice business analysis skills while also becoming more comfortable with Python."
   ]
  },
  {
   "cell_type": "markdown",
   "metadata": {},
   "source": [
    "---\n",
    "\n",
    "## Part 1: Load the data & initial exploration"
   ]
  },
  {
   "cell_type": "markdown",
   "metadata": {},
   "source": [
    "### Problem 1: Load the file and store it in an object called `covid_csv`.\n",
    "\n",
    "Hint: This is a csv (comma-separated value) file, so we'll use `csv.reader()` \n",
    "\n",
    "See: [Python Docs - csv](https://docs.python.org/2/library/csv.html).\n",
    "\n"
   ]
  },
  {
   "cell_type": "code",
   "execution_count": 8,
   "metadata": {},
   "outputs": [
    {
     "name": "stdout",
     "output_type": "stream",
     "text": [
      "Requirement already satisfied: pandas in c:\\users\\carte\\anaconda3\\lib\\site-packages (2.1.4)\n",
      "Requirement already satisfied: numpy<2,>=1.23.2 in c:\\users\\carte\\anaconda3\\lib\\site-packages (from pandas) (1.26.4)\n",
      "Requirement already satisfied: python-dateutil>=2.8.2 in c:\\users\\carte\\anaconda3\\lib\\site-packages (from pandas) (2.8.2)\n",
      "Requirement already satisfied: pytz>=2020.1 in c:\\users\\carte\\anaconda3\\lib\\site-packages (from pandas) (2023.3.post1)\n",
      "Requirement already satisfied: tzdata>=2022.1 in c:\\users\\carte\\anaconda3\\lib\\site-packages (from pandas) (2023.3)\n",
      "Requirement already satisfied: six>=1.5 in c:\\users\\carte\\anaconda3\\lib\\site-packages (from python-dateutil>=2.8.2->pandas) (1.16.0)\n",
      "Note: you may need to restart the kernel to use updated packages.\n"
     ]
    }
   ],
   "source": [
    "%pip install pandas"
   ]
  },
  {
   "cell_type": "code",
   "execution_count": 9,
   "metadata": {
    "ExecuteTime": {
     "end_time": "2020-08-14T08:48:00.803445Z",
     "start_time": "2020-08-14T08:48:00.786213Z"
    }
   },
   "outputs": [],
   "source": [
    "import csv\n",
    "\n",
    "# import namedtuple as an option to store the data rows\n",
    "from collections import namedtuple, defaultdict\n",
    "\n",
    "DATA_FILE = r'C:\\Users\\carte\\OneDrive\\General Assembly\\GA Homework./data/covid.csv'\n"
   ]
  },
  {
   "cell_type": "markdown",
   "metadata": {},
   "source": [
    "#### Load the data"
   ]
  },
  {
   "cell_type": "code",
   "execution_count": 14,
   "metadata": {
    "ExecuteTime": {
     "end_time": "2020-08-14T08:48:35.742763Z",
     "start_time": "2020-08-14T08:48:35.712230Z"
    }
   },
   "outputs": [
    {
     "name": "stdout",
     "output_type": "stream",
     "text": [
      "            Combined_Key      Country_Region  Confirmed  Deaths  Recovered  \\\n",
      "0            Afghanistan         Afghanistan      37345    1354      26694   \n",
      "1                Albania             Albania       6817     208       3552   \n",
      "2                Algeria             Algeria      36699    1333      25627   \n",
      "3                Andorra             Andorra        977      53        855   \n",
      "4                 Angola              Angola       1762      80        577   \n",
      "...                  ...                 ...        ...     ...        ...   \n",
      "3936  West Bank and Gaza  West Bank and Gaza      15184     105       8369   \n",
      "3937      Western Sahara      Western Sahara         10       1          8   \n",
      "3938               Yemen               Yemen       1841     528        937   \n",
      "3939              Zambia              Zambia       8501     246       7233   \n",
      "3940            Zimbabwe            Zimbabwe       4893     122       1620   \n",
      "\n",
      "      Active  Incidence_Rate  Case_Fatality_Ratio  \n",
      "0     9297.0       95.932678             3.625653  \n",
      "1     3057.0      236.882341             3.051196  \n",
      "2     9739.0       83.690142             3.632252  \n",
      "3       69.0     1264.479389             5.424770  \n",
      "4     1105.0        5.361120             4.540295  \n",
      "...      ...             ...                  ...  \n",
      "3936  6710.0      297.642851             0.691517  \n",
      "3937     1.0        1.674116            10.000000  \n",
      "3938   376.0        6.172474            28.680065  \n",
      "3939  1022.0       46.241407             2.893777  \n",
      "3940  3151.0       32.920837             2.493358  \n",
      "\n",
      "[3941 rows x 8 columns]\n"
     ]
    }
   ],
   "source": [
    "import pandas as pd\n",
    "\n",
    "DATA_FILE = r'C:\\Users\\carte\\OneDrive\\General Assembly\\GA Homework\\covid.csv'\n",
    "\n",
    "# import csv to dataFrame\n",
    "df = pd.read_csv(DATA_FILE)\n",
    "\n",
    "print(df)\n",
    "\n"
   ]
  },
  {
   "cell_type": "markdown",
   "metadata": {},
   "source": [
    "### Problem 2: Separate ```covid_csv``` into a `header` and `data`. \n",
    "\n",
    "Complete the following tasks:\n",
    "\n",
    "1. Split the covid_csv object into a ```header``` and ```data```.\n",
    "    1. display the ```header```\n",
    "    2. display the first 3 rows of ```data```.\n",
    "2. What are dimensions of your data? Print the result (neatly formatted and each dimension identified.)\n"
   ]
  },
  {
   "cell_type": "markdown",
   "metadata": {},
   "source": [
    "**Define the header and display the contents.**"
   ]
  },
  {
   "cell_type": "code",
   "execution_count": 19,
   "metadata": {
    "ExecuteTime": {
     "end_time": "2020-08-14T08:48:37.324846Z",
     "start_time": "2020-08-14T08:48:37.313307Z"
    },
    "scrolled": true
   },
   "outputs": [
    {
     "data": {
      "text/html": [
       "<div>\n",
       "<style scoped>\n",
       "    .dataframe tbody tr th:only-of-type {\n",
       "        vertical-align: middle;\n",
       "    }\n",
       "\n",
       "    .dataframe tbody tr th {\n",
       "        vertical-align: top;\n",
       "    }\n",
       "\n",
       "    .dataframe thead th {\n",
       "        text-align: right;\n",
       "    }\n",
       "</style>\n",
       "<table border=\"1\" class=\"dataframe\">\n",
       "  <thead>\n",
       "    <tr style=\"text-align: right;\">\n",
       "      <th></th>\n",
       "      <th>Combined_Key</th>\n",
       "      <th>Country_Region</th>\n",
       "      <th>Confirmed</th>\n",
       "      <th>Deaths</th>\n",
       "      <th>Recovered</th>\n",
       "      <th>Active</th>\n",
       "      <th>Incidence_Rate</th>\n",
       "      <th>Case_Fatality_Ratio</th>\n",
       "    </tr>\n",
       "  </thead>\n",
       "  <tbody>\n",
       "    <tr>\n",
       "      <th>0</th>\n",
       "      <td>Afghanistan</td>\n",
       "      <td>Afghanistan</td>\n",
       "      <td>37345</td>\n",
       "      <td>1354</td>\n",
       "      <td>26694</td>\n",
       "      <td>9297.0</td>\n",
       "      <td>95.932678</td>\n",
       "      <td>3.625653</td>\n",
       "    </tr>\n",
       "    <tr>\n",
       "      <th>1</th>\n",
       "      <td>Albania</td>\n",
       "      <td>Albania</td>\n",
       "      <td>6817</td>\n",
       "      <td>208</td>\n",
       "      <td>3552</td>\n",
       "      <td>3057.0</td>\n",
       "      <td>236.882341</td>\n",
       "      <td>3.051196</td>\n",
       "    </tr>\n",
       "    <tr>\n",
       "      <th>2</th>\n",
       "      <td>Algeria</td>\n",
       "      <td>Algeria</td>\n",
       "      <td>36699</td>\n",
       "      <td>1333</td>\n",
       "      <td>25627</td>\n",
       "      <td>9739.0</td>\n",
       "      <td>83.690142</td>\n",
       "      <td>3.632252</td>\n",
       "    </tr>\n",
       "    <tr>\n",
       "      <th>3</th>\n",
       "      <td>Andorra</td>\n",
       "      <td>Andorra</td>\n",
       "      <td>977</td>\n",
       "      <td>53</td>\n",
       "      <td>855</td>\n",
       "      <td>69.0</td>\n",
       "      <td>1264.479389</td>\n",
       "      <td>5.424770</td>\n",
       "    </tr>\n",
       "    <tr>\n",
       "      <th>4</th>\n",
       "      <td>Angola</td>\n",
       "      <td>Angola</td>\n",
       "      <td>1762</td>\n",
       "      <td>80</td>\n",
       "      <td>577</td>\n",
       "      <td>1105.0</td>\n",
       "      <td>5.361120</td>\n",
       "      <td>4.540295</td>\n",
       "    </tr>\n",
       "  </tbody>\n",
       "</table>\n",
       "</div>"
      ],
      "text/plain": [
       "  Combined_Key Country_Region  Confirmed  Deaths  Recovered  Active  \\\n",
       "0  Afghanistan    Afghanistan      37345    1354      26694  9297.0   \n",
       "1      Albania        Albania       6817     208       3552  3057.0   \n",
       "2      Algeria        Algeria      36699    1333      25627  9739.0   \n",
       "3      Andorra        Andorra        977      53        855    69.0   \n",
       "4       Angola         Angola       1762      80        577  1105.0   \n",
       "\n",
       "   Incidence_Rate  Case_Fatality_Ratio  \n",
       "0       95.932678             3.625653  \n",
       "1      236.882341             3.051196  \n",
       "2       83.690142             3.632252  \n",
       "3     1264.479389             5.424770  \n",
       "4        5.361120             4.540295  "
      ]
     },
     "execution_count": 19,
     "metadata": {},
     "output_type": "execute_result"
    }
   ],
   "source": [
    "df.head()"
   ]
  },
  {
   "cell_type": "markdown",
   "metadata": {},
   "source": [
    "**Define the data and display the first 3 rows.**"
   ]
  },
  {
   "cell_type": "code",
   "execution_count": 18,
   "metadata": {
    "ExecuteTime": {
     "end_time": "2020-08-14T08:48:37.844128Z",
     "start_time": "2020-08-14T08:48:37.837074Z"
    },
    "scrolled": false
   },
   "outputs": [
    {
     "data": {
      "text/html": [
       "<div>\n",
       "<style scoped>\n",
       "    .dataframe tbody tr th:only-of-type {\n",
       "        vertical-align: middle;\n",
       "    }\n",
       "\n",
       "    .dataframe tbody tr th {\n",
       "        vertical-align: top;\n",
       "    }\n",
       "\n",
       "    .dataframe thead th {\n",
       "        text-align: right;\n",
       "    }\n",
       "</style>\n",
       "<table border=\"1\" class=\"dataframe\">\n",
       "  <thead>\n",
       "    <tr style=\"text-align: right;\">\n",
       "      <th></th>\n",
       "      <th>Combined_Key</th>\n",
       "      <th>Country_Region</th>\n",
       "      <th>Confirmed</th>\n",
       "      <th>Deaths</th>\n",
       "      <th>Recovered</th>\n",
       "      <th>Active</th>\n",
       "      <th>Incidence_Rate</th>\n",
       "      <th>Case_Fatality_Ratio</th>\n",
       "    </tr>\n",
       "  </thead>\n",
       "  <tbody>\n",
       "    <tr>\n",
       "      <th>0</th>\n",
       "      <td>Afghanistan</td>\n",
       "      <td>Afghanistan</td>\n",
       "      <td>37345</td>\n",
       "      <td>1354</td>\n",
       "      <td>26694</td>\n",
       "      <td>9297.0</td>\n",
       "      <td>95.932678</td>\n",
       "      <td>3.625653</td>\n",
       "    </tr>\n",
       "    <tr>\n",
       "      <th>1</th>\n",
       "      <td>Albania</td>\n",
       "      <td>Albania</td>\n",
       "      <td>6817</td>\n",
       "      <td>208</td>\n",
       "      <td>3552</td>\n",
       "      <td>3057.0</td>\n",
       "      <td>236.882341</td>\n",
       "      <td>3.051196</td>\n",
       "    </tr>\n",
       "    <tr>\n",
       "      <th>2</th>\n",
       "      <td>Algeria</td>\n",
       "      <td>Algeria</td>\n",
       "      <td>36699</td>\n",
       "      <td>1333</td>\n",
       "      <td>25627</td>\n",
       "      <td>9739.0</td>\n",
       "      <td>83.690142</td>\n",
       "      <td>3.632252</td>\n",
       "    </tr>\n",
       "  </tbody>\n",
       "</table>\n",
       "</div>"
      ],
      "text/plain": [
       "  Combined_Key Country_Region  Confirmed  Deaths  Recovered  Active  \\\n",
       "0  Afghanistan    Afghanistan      37345    1354      26694  9297.0   \n",
       "1      Albania        Albania       6817     208       3552  3057.0   \n",
       "2      Algeria        Algeria      36699    1333      25627  9739.0   \n",
       "\n",
       "   Incidence_Rate  Case_Fatality_Ratio  \n",
       "0       95.932678             3.625653  \n",
       "1      236.882341             3.051196  \n",
       "2       83.690142             3.632252  "
      ]
     },
     "execution_count": 18,
     "metadata": {},
     "output_type": "execute_result"
    }
   ],
   "source": [
    "# Assign the data only\n",
    "\n",
    "# display the first 3 rows\n",
    "\n",
    "df.head(3)\n"
   ]
  },
  {
   "cell_type": "markdown",
   "metadata": {},
   "source": [
    "**Bonus: Use ```namedtuple``` to assign the data.**"
   ]
  },
  {
   "cell_type": "code",
   "execution_count": 24,
   "metadata": {
    "ExecuteTime": {
     "end_time": "2020-08-14T08:48:38.723883Z",
     "start_time": "2020-08-14T08:48:38.714643Z"
    },
    "scrolled": false
   },
   "outputs": [],
   "source": [
    "# Alternative : use namedtuple\n",
    "\n",
    "from collections import namedtuple\n",
    "\n",
    "# define the namedtuple called CovidData and assign column names\n",
    "CovidData = namedtuple('CovidData', df.columns)\n",
    "\n",
    "# create the tuples from the original data\n",
    "covid_data_list = namedtuple('CovidData', df.columns)\n",
    "\n",
    "# use a list comprehension for compactness - could also be a for-loop.\n",
    "data_named = []\n"
   ]
  },
  {
   "cell_type": "code",
   "execution_count": null,
   "metadata": {
    "ExecuteTime": {
     "end_time": "2020-08-14T08:48:38.992031Z",
     "start_time": "2020-08-14T08:48:38.986936Z"
    }
   },
   "outputs": [],
   "source": [
    "# Check the header of the namedtuple\n"
   ]
  },
  {
   "cell_type": "markdown",
   "metadata": {
    "ExecuteTime": {
     "end_time": "2020-08-13T02:39:10.637414Z",
     "start_time": "2020-08-13T02:39:10.631934Z"
    }
   },
   "source": [
    "**How many rows and how many columns?**"
   ]
  },
  {
   "cell_type": "code",
   "execution_count": 23,
   "metadata": {
    "ExecuteTime": {
     "end_time": "2020-08-14T08:48:39.805222Z",
     "start_time": "2020-08-14T08:48:39.801020Z"
    }
   },
   "outputs": [
    {
     "name": "stdout",
     "output_type": "stream",
     "text": [
      "Rows:3941\n",
      "Columns:8\n"
     ]
    }
   ],
   "source": [
    "# print the rows and columns in data - label the output\n",
    "df_shape = df.shape\n",
    "\n",
    "print(f\"Rows:{df_shape[0]}\")\n",
    "print(f\"Columns:{df_shape[1]}\")"
   ]
  },
  {
   "cell_type": "code",
   "execution_count": null,
   "metadata": {
    "ExecuteTime": {
     "end_time": "2020-08-14T08:48:40.065813Z",
     "start_time": "2020-08-14T08:48:40.061274Z"
    }
   },
   "outputs": [],
   "source": [
    "# print the rows and columns in the namedtuple data_named - label the output\n",
    "\n",
    "\n"
   ]
  },
  {
   "cell_type": "markdown",
   "metadata": {},
   "source": [
    "### Problem 3: Check the data type of each column and convert all numeric values to floats. \n",
    "\n",
    "Complete the following tasks:\n",
    "\n",
    "1. Check data types (you only have to do this for one row).\n",
    "2. Convert all numeric values to floats.\n",
    "\n",
    "\n",
    "Note: only print the data type once per column (i.e. only do this for 1 row of data. \n",
    "\n",
    "**Format your output neatly and annotate properly.** Unannotated lists of data types will not receive credit. This means you should match each column name to a data type and display the combination."
   ]
  },
  {
   "cell_type": "code",
   "execution_count": 27,
   "metadata": {
    "ExecuteTime": {
     "end_time": "2020-08-14T08:48:40.615195Z",
     "start_time": "2020-08-14T08:48:40.609072Z"
    }
   },
   "outputs": [
    {
     "data": {
      "text/plain": [
       "Combined_Key            object\n",
       "Country_Region          object\n",
       "Confirmed                int64\n",
       "Deaths                   int64\n",
       "Recovered                int64\n",
       "Active                 float64\n",
       "Incidence_Rate         float64\n",
       "Case_Fatality_Ratio    float64\n",
       "dtype: object"
      ]
     },
     "execution_count": 27,
     "metadata": {},
     "output_type": "execute_result"
    }
   ],
   "source": [
    "# check data types for each column\n",
    "\n",
    "df.dtypes\n"
   ]
  },
  {
   "cell_type": "code",
   "execution_count": 28,
   "metadata": {
    "ExecuteTime": {
     "end_time": "2020-08-14T08:48:40.916301Z",
     "start_time": "2020-08-14T08:48:40.910649Z"
    },
    "scrolled": true
   },
   "outputs": [
    {
     "data": {
      "text/plain": [
       "Combined_Key            object\n",
       "Country_Region          object\n",
       "Confirmed                int64\n",
       "Deaths                   int64\n",
       "Recovered                int64\n",
       "Active                 float64\n",
       "Incidence_Rate         float64\n",
       "Case_Fatality_Ratio    float64\n",
       "dtype: object"
      ]
     },
     "execution_count": 28,
     "metadata": {},
     "output_type": "execute_result"
    }
   ],
   "source": [
    "# check data types for each column\n",
    "\n",
    "df.dtypes"
   ]
  },
  {
   "cell_type": "markdown",
   "metadata": {},
   "source": [
    "#### Convert numeric data to floats.\n",
    "1. use a loop to convert only the numeric data (i.e. numbers represented as strings) to float values. You'll have to come up with a way to skip the non-numeric data.\n",
    "\n",
    "2. If you used namedtuples this is a little trickier since namedtuples are immutable (can't be changed).\n",
    "\n",
    "Hint: you need to use a placeholder data type that you can convert the values. After conversion put everything back into a namedtuple."
   ]
  },
  {
   "cell_type": "markdown",
   "metadata": {},
   "source": [
    "##### Convert the appropriate elements of ```data``` to floats."
   ]
  },
  {
   "cell_type": "code",
   "execution_count": 117,
   "metadata": {
    "ExecuteTime": {
     "end_time": "2020-08-14T08:48:41.787129Z",
     "start_time": "2020-08-14T08:48:41.765082Z"
    }
   },
   "outputs": [
    {
     "name": "stdout",
     "output_type": "stream",
     "text": [
      "            Combined_Key      Country_Region  Confirmed  Deaths  Recovered  \\\n",
      "0            Afghanistan         Afghanistan    37345.0  1354.0    26694.0   \n",
      "1                Albania             Albania     6817.0   208.0     3552.0   \n",
      "2                Algeria             Algeria    36699.0  1333.0    25627.0   \n",
      "3                Andorra             Andorra      977.0    53.0      855.0   \n",
      "4                 Angola              Angola     1762.0    80.0      577.0   \n",
      "...                  ...                 ...        ...     ...        ...   \n",
      "3936  West Bank and Gaza  West Bank and Gaza    15184.0   105.0     8369.0   \n",
      "3937      Western Sahara      Western Sahara       10.0     1.0        8.0   \n",
      "3938               Yemen               Yemen     1841.0   528.0      937.0   \n",
      "3939              Zambia              Zambia     8501.0   246.0     7233.0   \n",
      "3940            Zimbabwe            Zimbabwe     4893.0   122.0     1620.0   \n",
      "\n",
      "      Active  Incidence_Rate  Case_Fatality_Ratio  \n",
      "0     9297.0       95.932678             3.625653  \n",
      "1     3057.0      236.882341             3.051196  \n",
      "2     9739.0       83.690142             3.632252  \n",
      "3       69.0     1264.479389             5.424770  \n",
      "4     1105.0        5.361120             4.540295  \n",
      "...      ...             ...                  ...  \n",
      "3936  6710.0      297.642851             0.691517  \n",
      "3937     1.0        1.674116            10.000000  \n",
      "3938   376.0        6.172474            28.680065  \n",
      "3939  1022.0       46.241407             2.893777  \n",
      "3940  3151.0       32.920837             2.493358  \n",
      "\n",
      "[3941 rows x 8 columns]\n"
     ]
    }
   ],
   "source": [
    "def convert_to_float(value):\n",
    "    try:\n",
    "        return float(value)\n",
    "    except ValueError:\n",
    "        return value\n",
    "\n",
    "# convert all numerical data to floats.\n",
    "for column in df.columns:\n",
    "    df[column] = df[column].apply(convert_to_float)\n",
    "\n",
    "print(df)"
   ]
  },
  {
   "cell_type": "markdown",
   "metadata": {},
   "source": [
    "##### an alternative approach to convert the elements of ```data``` to floats."
   ]
  },
  {
   "cell_type": "code",
   "execution_count": 118,
   "metadata": {
    "ExecuteTime": {
     "end_time": "2020-08-14T08:48:42.317076Z",
     "start_time": "2020-08-14T08:48:42.304873Z"
    }
   },
   "outputs": [
    {
     "name": "stdout",
     "output_type": "stream",
     "text": [
      "            Combined_Key      Country_Region  Confirmed  Deaths  Recovered  \\\n",
      "0            Afghanistan         Afghanistan    37345.0  1354.0    26694.0   \n",
      "1                Albania             Albania     6817.0   208.0     3552.0   \n",
      "2                Algeria             Algeria    36699.0  1333.0    25627.0   \n",
      "3                Andorra             Andorra      977.0    53.0      855.0   \n",
      "4                 Angola              Angola     1762.0    80.0      577.0   \n",
      "...                  ...                 ...        ...     ...        ...   \n",
      "3936  West Bank and Gaza  West Bank and Gaza    15184.0   105.0     8369.0   \n",
      "3937      Western Sahara      Western Sahara       10.0     1.0        8.0   \n",
      "3938               Yemen               Yemen     1841.0   528.0      937.0   \n",
      "3939              Zambia              Zambia     8501.0   246.0     7233.0   \n",
      "3940            Zimbabwe            Zimbabwe     4893.0   122.0     1620.0   \n",
      "\n",
      "      Active  Incidence_Rate  Case_Fatality_Ratio  \n",
      "0     9297.0       95.932678             3.625653  \n",
      "1     3057.0      236.882341             3.051196  \n",
      "2     9739.0       83.690142             3.632252  \n",
      "3       69.0     1264.479389             5.424770  \n",
      "4     1105.0        5.361120             4.540295  \n",
      "...      ...             ...                  ...  \n",
      "3936  6710.0      297.642851             0.691517  \n",
      "3937     1.0        1.674116            10.000000  \n",
      "3938   376.0        6.172474            28.680065  \n",
      "3939  1022.0       46.241407             2.893777  \n",
      "3940  3151.0       32.920837             2.493358  \n",
      "\n",
      "[3941 rows x 8 columns]\n"
     ]
    }
   ],
   "source": [
    "# convert all numerical data to floats.\n",
    "numeric_columns = df.select_dtypes(include=['int64', 'float64']).columns\n",
    "df[numeric_columns] = df[numeric_columns].astype(float)\n",
    "print(df)"
   ]
  },
  {
   "cell_type": "markdown",
   "metadata": {},
   "source": [
    "##### Convert the appropriate elements of data_named to floats.\n",
    "Note that this is a touch more complicated since namedtuples are immutable and elements cannot be changed. \n",
    "\n",
    "So the approach is to create a dictionary for each row and add each element of the namedtuples to the dictionary, converting the type when necessary. We end up with a list of dictionaries with all the same information, but all numerical values are now floats."
   ]
  },
  {
   "cell_type": "code",
   "execution_count": null,
   "metadata": {
    "ExecuteTime": {
     "end_time": "2020-08-14T08:48:43.027222Z",
     "start_time": "2020-08-14T08:48:43.000941Z"
    },
    "scrolled": false
   },
   "outputs": [],
   "source": [
    "# alternative approach\n"
   ]
  },
  {
   "cell_type": "code",
   "execution_count": null,
   "metadata": {
    "ExecuteTime": {
     "end_time": "2020-08-14T08:48:43.262775Z",
     "start_time": "2020-08-14T08:48:43.253739Z"
    }
   },
   "outputs": [],
   "source": [
    "# namedtuple approach \n",
    "\n"
   ]
  },
  {
   "cell_type": "code",
   "execution_count": null,
   "metadata": {
    "ExecuteTime": {
     "end_time": "2020-08-14T08:48:43.511267Z",
     "start_time": "2020-08-14T08:48:43.504351Z"
    }
   },
   "outputs": [],
   "source": [
    "# check the result - "
   ]
  },
  {
   "cell_type": "markdown",
   "metadata": {},
   "source": [
    "### Part 4: Calculate the average number of active cases and average number of deaths.\n",
    "\n",
    "1. Compute the average for active cases\n",
    "2. Compute the average number of deaths.\n",
    "3. Compute the average total number of cases.\n",
    "\n",
    "Hint: Review the data dictionary to determine the correct information to use.\n",
    "\n",
    "Hint: Don't over think this. Try to find the simplest approach.\n"
   ]
  },
  {
   "cell_type": "markdown",
   "metadata": {},
   "source": [
    "#### Find the average using the standard ```data```"
   ]
  },
  {
   "cell_type": "code",
   "execution_count": 48,
   "metadata": {
    "ExecuteTime": {
     "end_time": "2020-08-14T08:48:44.417847Z",
     "start_time": "2020-08-14T08:48:44.413006Z"
    }
   },
   "outputs": [
    {
     "name": "stdout",
     "output_type": "stream",
     "text": [
      "Active Cases:[9297.0, 3057.0, 9739.0, 69.0, 1105.0, 13.0, 76078.0, 6496.0, 0.0, 882.0, 2.0, 7.0, 6.0, 1.0, 8317.0, 3.0, 1447.0, 2269.0, 899.0, 3262.0, 109896.0, 22.0, 2614.0, 47864.0, 176.0, 295.0, 16.0, 58414.0, 5681.0, 984.0, 6117.0, 4753.0, 11422.0, 13168.0, 14441.0, 19416.0, 16682.0, 11025.0, 5925.0, 6278.0, 20348.0, 5622.0, 27745.0, 8167.0, 43715.0, 37205.0, 12074.0, -516.0, 26310.0, 7746.0, 5421.0, 6768.0, 27899.0, 10983.0, 175700.0, 16503.0, 13439.0, 1.0, 4932.0, 164.0, 37.0, 93.0, 795.0, 49.0, 2542.0, 1044.0, 472.0, 0.0, 202.0, 8.0, 2.0, 0.0, 0.0, 1104.0, 5.0, 1834.0, 150.0, 2.0, 2863.0, 14.0, 1124.0, 268.0, 760.0, 1010.0, 12.0, 1471.0, 906.0, 943.0, 69.0, 310.0, 805.0, 5619.0, 275.0, 941.0, 646.0, 2.0, 1383.0, 0.0, 6.0, 0.0, 3.0, 2.0, 21.0, 0.0, 0.0, 0.0, 2.0, 1.0, 0.0, 991.0, 4.0, 0.0, 4.0, 3.0, 0.0, 1.0, 57.0, 0.0, 0.0, 0.0, 14.0, 25.0, 56.0, 0.0, 13.0, 0.0, 0.0, 505.0, 1.0, 6.0, 148.0, 28935.0, 305.0, 9667.0, 3611.0, 955.0, 922.0, 66560.0, 1904.0, 319.0, 1236.0, 2427.0, 625.0, 5615.0, 5492.0, 6.0, 107.0, 1253.0, 1110.0, 3381.0, 2051.0, 3679.0, 2994.0, 959.0, 276.0, 1760.0, 25.0, 5069.0, 2552.0, 1835.0, 13039.0, 76.0, 4.0, 13.0, 2060.0, 892.0, 16605.0, 3421.0, 686.0, 536.0, 401.0, 5277.0, 114.0, 0.0, 1383.0, 48.0, 149.0, 0.0, 33758.0, 12239.0, 34977.0, 11011.0, 2556.0, 37.0, 136.0, 1552.0, 13621.0, 8.0, 259.0, 660.0, 75.0, 64.0, 222.0, 217.0, 1.0, 98.0, 7.0, 3.0, 36.0, 128721.0, 2106.0, 1197.0, 203.0, 1106.0, 1376.0, 663.0, 92.0, 60.0, 411.0, 850.0, 86.0, 767.0, 4223.0, 448.0, 84.0, 152.0, 92.0, 296.0, 69.0, 1880.0, 2029.0, 4614.0, 1.0, 9428.0, 1006.0, 1044.0, 410.0, 2433.0, 0.0, 40179.0, 634.0, 115.0, 1050.0, 90425.0, 768.0, 21629.0, 30119.0, 702.0, 3881.0, 446.0, 10946.0, 3194.0, 14184.0, 6827.0, 1256.0, 7392.0, 8731.0, 80351.0, 13096.0, 528.0, 0.0, 9317.0, 147820.0, 1739.0, 656.0, 319.0, 1997.0, 13888.0, 2609.0, 9022.0, 13630.0, 379.0, 52929.0, 22736.0, 1647.0, 0.0, 49347.0, 4059.0, 26003.0, 39017.0, 24467.0, 40307.0, 1700.0, 25403.0, 221.0, 72.0, 110.0, 424.0, 1807.0, 164.0, 1121.0, 227.0, 5521.0, 167.0, 29.0, 130.0, 68.0, 855.0, 262.0, 83.0, 562.0, 563.0, 57.0, 15.0, 1333.0, 298.0, 2008.0, 20.0, 5.0, 645.0, 15.0, 18.0, 1444.0, 12.0, 134.0, 59.0, 98.0, 149.0, 356.0, 118.0, 81.0, 6.0, 13.0, 44.0, 619.0, 3.0, 217.0, 229.0, 161.0, 25.0, 145.0, 39.0, 132.0, 101.0, 15.0, 29.0, 33.0, 757.0, 1825.0, 456.0, 75.0, 622.0, 133.0, 100.0, 102.0, -1548.0, 56.0, 3928.0, 16.0, 53.0, 0.0, 22.0, 0.0, 25.0, 34.0, 77.0, 23347.0, 13038.0, 648.0, 4020.0, 7845.0, 6278.0, 1.0, 193.0, 4917.0, 599.0, 432.0, 5701.0, 2.0, 545.0, 916.0, 7.0, 1712.0, 2071.0, 172.0, 2461.0, 480.0, 486.0, 724.0, 0.0, 385.0, 772.0, 1040.0, 208.0, 165.0, 512.0, 5656.0, 2456.0, 532.0, 673.0, 2670.0, 1065.0, 954.0, 1823.0, 4164.0, 1278.0, 301.0, 508.0, 2541.0, 773.0, 1834.0, 507.0, 875.0, 1796.0, 655.0, 891.0, 1542.0, 1422.0, 452.0, 1893.0, 1380.0, 809.0, 7836.0, 23.0, 28.0, 1102.0, 10461.0, 1589.0, 2549.0, 7613.0, 681.0, 6.0, 1.0, 534.0, 1019.0, 632.0, 6166.0, 439.0, 4276.0, 9331.0, 8901.0, 2958.0, 129.0, 538.0, 4340.0, 881.0, 14451.0, 36.0, 1074.0, 17.0, 12844.0, 3200.0, 670.0, 4688.0, 134.0, 1448.0, 342.0, 2130.0, 1464.0, 6297.0, 4660.0, 24077.0, 206.0, 2541.0, 7359.0, 13573.0, 1445.0, 19954.0, 5187.0, 9116.0, 22462.0, 7295.0, 2564.0, 8330.0, 14522.0, 9655.0, 16708.0, 17895.0, 240525.0, 12072.0, 4173.0, 4934.0, 2739.0, 21851.0, 3938.0, 10170.0, 4637.0, 4637.0, 11101.0, -341938.0, 72348.0, 14235.0, 12519.0, 3121.0, 31322.0, 570.0, 1645.0, 272.0, 489.0, 726.0, 849.0, 1607.0, 771.0, 1379.0, 625.0, 695.0, 4422.0, 10.0, 2506.0, 532.0, 523.0, 4011.0, 1222.0, 55.0, 329.0, 575.0, 857.0, 1211.0, 449.0, 1016.0, 908.0, 1361.0, 2300.0, 283.0, 2384.0, 754.0, 1088.0, 739.0, 1190.0, 2034.0, 374.0, 1162.0, 1528.0, 764.0, 394.0, 450.0, 1082.0, 52314.0, 15276.0, 3165.0, 193.0, 2879.0, 340.0, 1070.0, 1331.0, 2242.0, 1339.0, 1569.0, 570.0, 1758.0, 1587.0, 1089.0, 2337.0, 631.0, 6919.0, 836.0, 1606.0, 1679.0, 3953.0, 1116.0, 2829.0, 3705.0, 1030.0, 1111.0, 1381.0, 1050.0, 821.0, 520.0, 924.0, 413.0, 2889.0, 447.0, 3628.0, 394.0, 1788.0, 855.0, 639.0, 250.0, 657.0, 0.0, 0.0, 5.0, 0.0, 60.0, 32499.0, 3822.0, 28093.0, 1.0, 385.0, 4848.0, 775.0, 214.0, 1406.0, 125880.0, 1255.0, 5945.0, 14655.0, 1336.0, 2022.0, 4522.0, 1406.0, 317.0, 10153.0, 10649.0, 58000.0, 1.0, 490.0, 654.0, 860.0, 34406.0, 53.0, 787.0, 3277.0, 1296.0, 0.0, 232.0, 4965.0, 825.0, 531.0, 1855.0, 3027.0, 282.0, 1846.0, 1098.0, 4627.0, 735.0, 1137.0, 1547.0, 2412.0, 3372.0, 3707.0, 2158.0, 21461.0, 3397.0, 1026.0, 894.0, 1692.0, 2515.0, 18362.0, 2478.0, 889.0, 24.0, 1153.0, 305.0, 129.0, 1.0, 284.0, 179.0, 450.0, 11412.0, 1166.0, 3681.0, 575.0, 448.0, 820.0, 481.0, 737.0, 1809.0, 810.0, 271.0, 818.0, 277.0, 811.0, 272.0, 128.0, 773.0, 1207.0, 384.0, 102.0, 725.0, 323.0, 1226.0, 821.0, 1322.0, 1838.0, 1728.0, 1077.0, 2156.0, 218.0, 1286.0, 263.0, 242.0, 462.0, 261.0, 1437.0, 1068.0, 13202.0, 228.0, 1183.0, 353.0, 2677.0, 1365.0, 551.0, 327.0, 5475.0, 551.0, 561.0, 3161.0, 10455.0, 418.0, 6802.0, 2405.0, 0.0, 442.0, 401.0, 709.0, 392.0, 1389.0, 3324.0, 1355.0, 348.0, 1055.0, 797.0, 4247.0, 3917.0, 1483.0, 436.0, 426.0, 446.0, 2.0, 4.0, 2246.0, 23.0, 10.0, 1.0, 2.0, 441.0, 4.0, 114.0, 338.0, 36.0, 6.0, 7.0, 352.0, 19.0, 19.0, 41.0, 5.0, 9.0, 28.0, 17.0, 0.0, 59.0, 8.0, 8.0, 53.0, 3073.0, 1676.0, 3011.0, 935.0, 540.0, 56.0, 474.0, 124695.0, 3072.0, 5204.0, 18003.0, 8391.0, 2621.0, 0.0, 1994.0, 11351.0, 232.0, 330.0, 76.0, 4782.0, 215.0, 203.0, 17.0, 372.0, 729.0, 181.0, 136.0, 201.0, 110.0, 211.0, 153.0, 1407.0, 663.0, 1378.0, 208.0, 64.0, 201.0, 218.0, 1334.0, 131.0, 44.0, 1098.0, 142.0, 503.0, 251.0, 1552.0, 356.0, 566.0, 57.0, 116.0, 1577.0, 674.0, 56.0, 212.0, 890.0, 1212.0, 188.0, 322.0, 537.0, 269.0, 30.0, 514.0, 1054.0, 64.0, 37.0, 137.0, 96.0, 105.0, 55.0, 323.0, 117.0, 305.0, 153.0, 1353.0, 102.0, 5700.0, 235.0, 1126.0, 68.0, 32.0, 2276.0, 999.0, 112.0, 1225.0, 73.0, 1801.0, 504.0, 51.0, 6299.0, 339.0, 22.0, 1060.0, 13903.0, 2.0, 185.0, 1272.0, 160.0, 392.0, 9954.0, 104.0, 783.0, 17787.0, 433.0, 289.0, 9667.0, 108.0, 24996.0, 5005.0, 251.0, 683.0, 209171.0, 2550.0, 5390.0, 61.0, 468.0, 6028.0, 5.0, 159.0, 5589.0, 1131.0, 356.0, 41078.0, 2353.0, 37.0, 42552.0, 12095.0, 763.0, 37735.0, 32555.0, 7767.0, 13635.0, 2283.0, 6413.0, 7001.0, 12755.0, 1310.0, 459.0, 5.0, 106.0, 4297.0, 3774.0, 10678.0, 1012.0, 303.0, 6.0, 11438.0, 157.0, 0.0, 8647.0, 1853.0, 674.0, 6445.0, 223.0, 7042.0, 38.0, 15.0, 9.0, 2022.0, 450.0, 287.0, 9.0, 29.0, 23.0, 23.0, 72.0, 11.0, 128.0, 9953.0, 1.0, 1706.0, 1124.0, 5089.0, 106.0, 131.0, 772.0, 17.0, 52.0, 268.0, 3.0, 7.0, 9.0, 4056.0, 63.0, 223.0, 80.0, 1568.0, 18.0, 8.0, 650.0, 339.0, 18.0, 31.0, 109.0, 300.0, 641.0, 72.0, 12.0, 0.0, 41.0, 19.0, 188.0, 58.0, 677.0, 20.0, 89.0, 116.0, 104.0, 2.0, 91.0, 10.0, 340.0, 134.0, 0.0, 49.0, 3609.0, 63.0, 16678.0, 11414.0, 1478.0, 1216.0, 12145.0, 1365.0, 991.0, 236.0, 733.0, 2210.0, 7018.0, 5689.0, 256.0, 49.0, 12366.0, 4283.0, 1040.0, 4499.0, 531.0, 6088.0, 63221.0, 474.0, 2201.0, 1576.0, 3282.0, 10384.0, 2921.0, 1364.0, 562.0, 23762.0, 9792.0, 1088.0, 431.0, 1943.0, 374.0, 405.0, 693.0, 621.0, 984.0, 1776.0, 2053.0, 1464.0, 32772.0, 509.0, 2517.0, 1910.0, 457.0, 191.0, 5217.0, 16510.0, 5124.0, 704.0, 400.0, 724.0, 9226.0, 6694.0, 3763.0, 137332.0, 1543.0, 1259.0, 3559.0, 1069.0, 32016.0, 9829.0, 36980.0, 7077.0, 17695.0, 14478.0, 1522.0, 4012.0, 6228.0, 7127.0, 3735.0, 5785.0, 1339.0, 1874.0, 995.0, 703.0, 443.0, 7983.0, 725.0, 1425.0, 873.0, 702.0, 327.0, 440.0, 64.0, 1053.0, 275.0, 1321.0, 1889.0, 473.0, 317.0, 3722.0, 251.0, 251.0, 402.0, 687.0, 1318.0, 497.0, 457.0, 204.0, 799.0, 265.0, 1858.0, 667.0, 436.0, 5903.0, 764.0, 298.0, 3642.0, 2131.0, 91.0, 5131.0, 200.0, 13953.0, 1499.0, 1557.0, 2416.0, 448.0, 1546.0, 107.0, 383.0, 134.0, 426.0, 14238.0, 818.0, 240.0, 247.0, 2602.0, 2719.0, 340.0, 223.0, 765.0, 368.0, 526.0, 279.0, 350.0, 1156.0, 1630.0, 2390.0, 417.0, 20685.0, 647.0, 23.0, 2572.0, 1241.0, 515.0, 319.0, 20410.0, 1123.0, 6194.0, 293.0, 224.0, 651.0, 318.0, 143.0, 3459.0, 1986.0, 171.0, 1101.0, 168.0, 477.0, 523.0, 227.0, 240.0, 322.0, 268.0, 221.0, 1047.0, 542.0, 774.0, 149.0, 131.0, 3225.0, 364.0, 171.0, 417.0, 151.0, 376.0, 191.0, 403.0, 149.0, 617.0, 445.0, 155.0, 295.0, 621.0, 4775.0, 1850.0, 440.0, 229.0, 16374.0, 1766.0, 387.0, 415.0, 411.0, 223.0, 866.0, 130.0, 431.0, 30.0, 227.0, 248.0, 4577.0, 1372.0, 73.0, 207.0, 216.0, 942.0, 650.0, 249.0, 728.0, 139.0, 13.0, 544.0, 92.0, 290.0, 276.0, 1103.0, 1332.0, 780.0, 153.0, 129.0, 2264.0, 239.0, 120.0, 2722.0, 291.0, 528.0, 725.0, 1149.0, 1149.0, 86.0, 495.0, 814.0, 38.0, 96.0, 364.0, 3589.0, 169.0, 192.0, 210.0, 434.0, 100.0, 444.0, 135.0, 3527.0, 51.0, 185.0, 22.0, 0.0, 9340.0, 20.0, 441.0, 20.0, 76.0, 295.0, 572.0, 50.0, 189.0, 1172.0, 38.0, 1.0, 6013.0, 33.0, 531.0, 9.0, 17.0, 11.0, 215.0, 52.0, 89.0, 182.0, 173.0, 33.0, 218.0, 493.0, 1906.0, 113.0, 35.0, 0.0, 59.0, 175.0, 484.0, 143.0, 16.0, 266.0, 414.0, 62.0, 130.0, 86.0, 1432.0, 5.0, 65.0, 214.0, 574.0, 37.0, 61.0, 747.0, 15.0, 238.0, 11.0, 60.0, 227.0, 1690.0, 140.0, 85.0, 27.0, 402.0, 499.0, 108110.0, 29.0, 54.0, 34.0, 925.0, 126.0, 11989.0, 29.0, 24.0, 182.0, 68.0, 48.0, 197.0, 37.0, 49.0, 66.0, 338.0, 30.0, 67.0, 18.0, 14.0, 261.0, 257.0, 720.0, 52.0, 284.0, 120.0, 132.0, 70.0, 9643.0, 1738.0, 1389.0, 323.0, 800.0, 12490.0, 51.0, 185.0, 127.0, 165.0, 655.0, 197.0, 2699.0, 169.0, 28.0, 57.0, 42.0, 132.0, 3165.0, 671.0, 58.0, 73.0, 319.0, 167.0, 280.0, 93.0, 415.0, 0.0, 1681.0, 182.0, 64.0, 26.0, 11.0, 96.0, 14.0, 479.0, 22.0, 1746.0, 132.0, 1290.0, 19.0, 27.0, 89.0, 3993.0, 7.0, 329.0, 573.0, 1186.0, 307.0, 247.0, 42.0, 194.0, 67.0, 64.0, 72.0, 350.0, 9140.0, 447.0, 3675.0, 167.0, 115.0, 3877.0, 774.0, 64.0, 64.0, 651.0, 73.0, 197.0, 1797.0, 1257.0, 126.0, 446.0, 45.0, 259.0, 234.0, 488.0, 310.0, 708.0, 701.0, 4869.0, 188.0, 773.0, 74.0, 232.0, 171.0, 229.0, 501.0, 220.0, 2783.0, 649.0, 328.0, 1835.0, 398.0, 855.0, 124.0, 592.0, 255.0, 92.0, 164.0, 216.0, 1675.0, 164.0, 860.0, 556.0, 905.0, 7461.0, 330.0, 964.0, 15463.0, 771.0, 50.0, 275.0, 735.0, 339.0, 455.0, 111.0, 661.0, 59.0, 154.0, 104.0, 54.0, 174.0, 62.0, 1323.0, 180.0, 81.0, 313.0, 123.0, 205.0, 85.0, 263.0, 540.0, 136.0, 3527.0, 173.0, 212.0, 140.0, 53.0, 1234.0, 137.0, -208.0, 41.0, 2040.0, 59.0, 703.0, 166.0, 23.0, 558.0, 143.0, 378.0, 176.0, 366.0, 150.0, 34.0, 17.0, 154.0, 49.0, 28.0, 159.0, 3114.0, 263.0, 224.0, 129.0, 1785.0, 125.0, 84.0, 194.0, 81.0, 134.0, 627.0, 109.0, 56.0, 203.0, 202.0, 105.0, 417.0, 733.0, 1878.0, 59.0, 26.0, 122.0, 192.0, 381.0, 1691.0, 189.0, 86.0, 160.0, 236.0, 44.0, 42.0, 81.0, 132.0, 251.0, 121.0, 185.0, 109.0, 132.0, 50.0, 121.0, 32.0, 96.0, 157.0, 457.0, 87.0, 2103.0, 132.0, 38.0, 95.0, 117.0, 2357.0, 364.0, 69.0, 117.0, 125.0, 125.0, 177.0, 1426.0, 92.0, 80.0, 91.0, 66.0, 56.0, 809.0, 138.0, 85.0, 96.0, 90.0, 462.0, 116.0, 10327.0, 1321.0, 151.0, 22.0, 86.0, 1744.0, 186.0, 647.0, 1166.0, 527.0, 100.0, 7.0, 77.0, 35.0, 894.0, 581.0, 295.0, 19.0, 834.0, 89.0, 96.0, 3702.0, 68.0, 477.0, 20.0, 31.0, 82.0, 4.0, 154.0, 77.0, 41.0, 289.0, 48.0, 6.0, 131.0, 4.0, 43.0, 18.0, 40.0, 60.0, 7.0, 176.0, 388.0, 5.0, 49.0, 48.0, 760.0, 10.0, 1.0, 144.0, 21.0, 1785.0, 2083.0, 209.0, 151.0, 6.0, 17.0, 117.0, 84.0, 4.0, 23.0, 39.0, 14.0, 210.0, 44.0, 11.0, 154.0, 85.0, 11.0, 5903.0, 62.0, 20.0, 8.0, 148.0, 5.0, 1494.0, 6.0, 43.0, 2.0, 702.0, 47.0, 15.0, 147.0, 52.0, 150.0, 28.0, 165.0, 13.0, 7.0, 48.0, 65.0, 6.0, 23.0, 46.0, 4.0, 35.0, 8.0, 43.0, 109.0, 35.0, 389.0, 32.0, 39.0, 484.0, 18.0, 10.0, 16.0, 382.0, 53.0, 5022.0, 1239.0, 1631.0, 7.0, 16.0, 3.0, 5.0, 19.0, 46.0, 98.0, 44.0, 5.0, 43.0, 1.0, 4.0, 11.0, 12.0, 4929.0, 196.0, 222.0, 88.0, 36.0, 380.0, 40.0, 320.0, 1093.0, 85.0, 192.0, 161.0, 33.0, 32.0, 74.0, 396.0, 283.0, 53.0, 253.0, 579.0, 44.0, 162.0, 103.0, 191.0, 514.0, 160.0, 154.0, 37.0, 31.0, 63.0, 784.0, 100.0, 14.0, 27.0, 3193.0, 62.0, 104.0, 322.0, 88.0, 74.0, 83.0, 120.0, 549.0, 202.0, 38.0, 120.0, 50.0, 675.0, 236.0, 123.0, 108.0, 357.0, 127.0, 55.0, 397.0, 137.0, 8558.0, 356.0, 66.0, 1408.0, 65.0, 246.0, 59.0, 451.0, 37.0, 7.0, 32.0, 62.0, 53.0, 115.0, 34.0, 318.0, 28.0, 582.0, 41.0, 124.0, 138.0, 37.0, 53.0, 373.0, 42.0, 42.0, 96.0, 28.0, 86.0, 60.0, 94.0, 128.0, 30.0, 618.0, 228.0, 20.0, 352.0, 624.0, 54.0, 13.0, 47.0, 244.0, 249.0, 62.0, 333.0, 3.0, 74.0, 84.0, 119.0, 407.0, 765.0, 145.0, 128.0, 142.0, 34.0, 56.0, 33.0, 0.0, 70.0, 2680.0, 92.0, 73.0, 89.0, 167.0, 16.0, 165.0, 2565.0, 1291.0, 2863.0, 578.0, 1073.0, 843.0, 357.0, 2308.0, 6475.0, 6777.0, 225.0, 171.0, 295.0, 275.0, 338.0, 719.0, 12117.0, 518.0, 570.0, 925.0, 935.0, 311.0, 2502.0, 1212.0, 365.0, 14980.0, 1018.0, 322.0, 7693.0, 2795.0, 783.0, 2940.0, 619.0, 523.0, 792.0, 10287.0, 4853.0, 0.0, 443.0, 783.0, 3261.0, 237.0, 607.0, 653.0, 1096.0, 1445.0, 275.0, 691.0, 1349.0, 2732.0, 1711.0, 1586.0, 5148.0, 3492.0, 91.0, 3009.0, 118.0, 685.0, 1629.0, 760.0, 1240.0, 887.0, 697.0, 292.0, 375.0, 443.0, 560.0, 32.0, 2028.0, 44.0, 36.0, 160.0, 26.0, 34.0, 0.0, 55.0, 148.0, 4.0, 56.0, 32.0, 1.0, 48.0, 13.0, 667.0, 285.0, 7251.0, 12896.0, 12557.0, 687.0, 451.0, 1454.0, 684.0, 1993.0, 373.0, 2997.0, 53.0, 1965.0, 3829.0, 220.0, 17835.0, 23334.0, 414.0, 138.0, 960.0, 400.0, -14.0, 1010.0, 1316.0, 684.0, 1645.0, 621.0, 8771.0, 102.0, 16736.0, 350.0, 6928.0, 1054.0, 24559.0, 9685.0, 8565.0, 20941.0, 320.0, 12679.0, 28.0, 15.0, 536.0, 117.0, 41.0, 40.0, 5.0, 189.0, 622.0, 29.0, 1320.0, 365.0, 769.0, 326.0, 48.0, 48.0, 43.0, 71.0, 413.0, 102.0, 101.0, 56.0, 453.0, 63.0, 189.0, 3387.0, 57.0, 124.0, 215.0, 142.0, 253.0, 50.0, 157.0, 1538.0, 267.0, 122.0, 19.0, 201.0, 688.0, 1603.0, 50.0, 7472.0, 3.0, 26.0, 439.0, 73.0, 428.0, 822.0, 4.0, 26.0, 9845.0, 40.0, 161.0, 103.0, 67.0, 150.0, 4529.0, 334.0, 40.0, 991.0, 192.0, 8.0, 1136.0, 254.0, 14743.0, 473.0, 51.0, 18.0, 71.0, 23.0, 124.0, 1799.0, 101.0, 19.0, 53.0, 1943.0, 103.0, 13.0, 320.0, 776.0, 594.0, 333.0, 8.0, 451.0, 2500.0, 25563.0, 66.0, 39.0, 3677.0, 160.0, 249.0, 320.0, 22.0, 936.0, 87.0, 145.0, 887.0, 74.0, 108.0, 206.0, 752.0, 14.0, 5.0, 177.0, 232.0, 4452.0, 131.0, 142.0, 89.0, 71.0, 359.0, 193.0, 53.0, 18837.0, 44.0, 35.0, 131.0, 134.0, 79.0, 35.0, 704.0, 3.0, 77.0, 8.0, 22.0, 4.0, 229.0, 59.0, 422.0, 26.0, 29.0, 204.0, 208.0, 85.0, 69.0, 92.0, 1105.0, 123.0, 338.0, 1767.0, 40.0, 1758.0, 195.0, 74.0, 129.0, 149.0, 152.0, 48.0, 7506.0, 24.0, 36.0, 62.0, 1034.0, 85.0, 53.0, 1586.0, 727.0, 82.0, 580.0, 2893.0, 349.0, 18.0, 54.0, 427.0, 11.0, 87.0, 92.0, 27.0, 149.0, 2145.0, 327.0, 32.0, 249.0, 898.0, 52.0, 616.0, 434.0, 234.0, 508.0, 153.0, 1120.0, 417.0, 251.0, 469.0, 134.0, 395.0, 315.0, 390.0, 776.0, 943.0, 622.0, 3722.0, 1801.0, 133.0, 595.0, 249.0, 830.0, 394.0, 2615.0, 5647.0, 874.0, 287.0, 25.0, 385.0, 2346.0, 399.0, 189.0, 234.0, 1885.0, 226.0, 998.0, 1226.0, 1346.0, 321.0, 772.0, 1521.0, 891.0, 803.0, 1062.0, 2417.0, 668.0, 720.0, 776.0, 339.0, 1212.0, 544.0, 451.0, 1097.0, 1074.0, 527.0, 240.0, 914.0, 848.0, 431.0, 274.0, 2284.0, 997.0, 201.0, 790.0, 399.0, 219.0, 1044.0, 536.0, 716.0, 374.0, 435.0, 358.0, 0.0, 683.0, 490.0, 1102.0, 1678.0, 768.0, 235.0, 207.0, 619.0, 308.0, 857.0, 174.0, 88.0, 18.0, 206.0, 262.0, 70.0, 50.0, 112.0, 74.0, 1454.0, 1096.0, 287.0, 35.0, 162.0, 364.0, 684.0, 102.0, 20.0, 776.0, 41.0, 19.0, 391.0, 23.0, 1065.0, 90.0, 457.0, 140.0, 83.0, 15.0, 67.0, 18.0, 37.0, 15.0, 87.0, 332.0, 651.0, 29.0, 76.0, 1676.0, 28.0, 59.0, 86.0, 35.0, 27.0, 55.0, 157.0, 22.0, 4206.0, 1807.0, 1704.0, 496.0, 7012.0, 32.0, 208.0, 181.0, 238.0, 49.0, 411.0, 34.0, 63.0, 62.0, 28.0, 24.0, 222.0, 945.0, 13.0, 136.0, 148.0, 153.0, 33.0, 42.0, 87.0, 266.0, 910.0, 190.0, 16.0, 52.0, 15.0, 234.0, 240.0, 576.0, 100.0, 119.0, 375.0, 219.0, 248.0, 12.0, 42.0, 73.0, 119.0, 16.0, 58.0, 452.0, 10.0, 14.0, 408.0, 43.0, 40.0, 4229.0, 24.0, 419.0, 14813.0, 5186.0, 61.0, 227.0, 149.0, 147.0, 655.0, 60.0, 0.0, 56.0, 212.0, 93.0, 62.0, 139.0, 9.0, 65.0, 65.0, 450.0, 13.0, 14.0, 74.0, 163.0, 10.0, 59.0, 3.0, 20.0, 26.0, 2.0, 14.0, 354.0, 956.0, 12.0, 76.0, 3.0, 17.0, 44.0, 29.0, 3.0, 183.0, 161.0, 1.0, 75.0, 82.0, 5.0, 4.0, 2.0, 335.0, 3.0, 57.0, 68.0, 11.0, 1.0, 2.0, 1.0, 81.0, 45.0, 24.0, 52.0, 10.0, 5.0, 102.0, 27.0, 4.0, 15.0, 38.0, 2.0, 0.0, 23.0, 3.0, 3.0, 1356.0, 351.0, 20.0, 1.0, 2.0, 0.0, 8.0, 14.0, 6.0, 0.0, 455.0, 41.0, 63.0, 187.0, 23.0, 7.0, 4.0, 26.0, 50.0, 700.0, 68.0, 48.0, 1889.0, 10.0, 959.0, 2.0, 55.0, 812.0, 11469.0, 1.0, 26.0, 13.0, 3.0, 14.0, 89.0, 4.0, 4.0, 19.0, 0.0, 10.0, 1710.0, 88.0, 1.0, 0.0, 1.0, 13.0, 4.0, 51.0, 18.0, 14.0, 62.0, 28.0, 0.0, 15.0, 35.0, 3339.0, 144.0, 0.0, 0.0, 461.0, 5.0, 63.0, 63.0, 9.0, 39.0, 5.0, 56.0, 9.0, 12.0, 41.0, 29.0, 797.0, 27.0, 17.0, 23.0, 3.0, 595.0, 2338.0, 163.0, 299.0, 124.0, 11.0, 12.0, 5.0, 32.0, 27.0, 2.0, 207.0, 160.0, 11.0, 130.0, 38.0, 10.0, 2.0, 87.0, 356.0, 68.0, 49239.0, 207.0, 560.0, 0.0, 4.0, 100.0, 50.0, 5.0, 233.0, 11.0, 399.0, 14.0, 6.0, 0.0, 5786.0, 14.0, 113.0, 94.0, 100.0, 17.0, 104.0, 3592.0, 446.0, 1607.0, 350.0, 43.0, 1.0, 3257.0, 18863.0, 5596.0, 8066.0, 754.0, 3219.0, 17703.0, 3096.0, 18244.0, 1026.0, 7522.0, 16579.0, 9512.0, 6457.0, 9632.0, 16506.0, 820.0, 4711.0, 1143.0, 740.0, 15432.0, 1175.0, 5092.0, 4.0, 479.0, 353.0, 17.0, 567.0, 0.0, 2523.0, 332.0, 69.0, 32.0, 1.0, 90.0, 858.0, 128.0, 24.0, 249.0, 3848.0, 6.0, 194.0, 36.0, 312.0, 167.0, 2884.0, 46.0, 1113.0, 657.0, 31.0, 69.0, 111.0, 60.0, 1304.0, 28.0, 437.0, 2496.0, 79.0, 1081.0, 162.0, 159.0, 249.0, 174.0, 212.0, 125.0, 511.0, 96.0, 102.0, 4478.0, 8342.0, 56.0, 54.0, 275.0, 275.0, 277.0, 8.0, 273.0, 142.0, 46.0, 168.0, 397.0, 4750.0, 173.0, 41566.0, 205127.0, 1416.0, 2065.0, 3413.0, 329.0, 10700.0, 244.0, 254.0, 113.0, 1387.0, 750.0, 13292.0, 751.0, 1042.0, 69.0, 22.0, 88.0, 259.0, 258.0, 41950.0, 1443.0, 169.0, 234.0, 1985.0, 0.0, 279.0, 246.0, 255.0, 34877.0, 113.0, 50.0, 2485.0, 312.0, 170.0, 336.0, 165.0, 109.0, 435.0, 282.0, 620.0, 1251.0, 1879.0, 1748.0, 2631.0, 1218.0, 73.0, 370.0, 194.0, 2150.0, 1253.0, 292.0, 156.0, 76.0, 1195.0, 883.0, 738.0, 3232.0, 77.0, 208.0, 1799.0, 424.0, 1967.0, 6151.0, 659.0, 5328.0, 865.0, 3337.0, 45.0, 43.0, 1249.0, 330.0, 5597.0, 715.0, 1297.0, 426.0, 1450.0, 347.0, 727.0, 46.0, 1887.0, 450.0, 3311.0, 91.0, 1295.0, 587.0, 859.0, 476.0, 49.0, 262.0, 674.0, 22369.0, 117.0, 726.0, 1011.0, 1208.0, 2676.0, 335.0, 1127.0, 1303.0, 72.0, 403.0, 666.0, 86.0, 226.0, 2094.0, 158.0, 2161.0, 515.0, 2799.0, 559.0, 2199.0, 766.0, 1493.0, 369.0, 1072.0, 293.0, 957.0, 119.0, 144.0, 98.0, 0.0, 3127.0, 746.0, 12085.0, 254.0, 132.0, 316.0, 2403.0, 840.0, 1479.0, 551.0, 114.0, 3.0, 38.0, 143.0, 2.0, 20.0, 11.0, 23.0, 1247.0, 2997.0, 31.0, 13.0, 3.0, 31.0, 19.0, 17.0, 26.0, 6.0, 703.0, 4.0, 34.0, 6.0, 18.0, 16.0, 7.0, 16.0, 37.0, 89.0, 79.0, 31.0, 403.0, 140.0, 26.0, 7.0, 27.0, 13.0, 73.0, 28.0, 9.0, 112.0, 82.0, 10.0, 9.0, 88.0, 4.0, 295.0, 15.0, 125.0, 5.0, 57.0, 0.0, 106.0, 237.0, 23.0, 286.0, 47.0, 62.0, 748.0, 152.0, 531.0, 359.0, 269.0, 601.0, 148.0, 2969.0, 108.0, 186.0, 1198.0, 951.0, 165.0, 1623.0, 189.0, 172.0, 13357.0, 385.0, 150.0, 1346.0, 582.0, 1400.0, 124.0, 18434.0, 154.0, 73.0, 517.0, 718.0, 112.0, 9585.0, 394.0, 163.0, 25.0, 120.0, 167.0, 113.0, 325.0, 406.0, 77.0, 237.0, 207.0, 1104.0, 318.0, 1294.0, 165.0, 1754.0, 5186.0, 493.0, 2367.0, 2897.0, 923.0, 58.0, 628.0, 829.0, 76.0, 4391.0, 30.0, 177.0, 247.0, 17.0, 378.0, 70.0, 145.0, 2358.0, 80.0, 712.0, 210.0, 195.0, 607.0, 505.0, 382.0, 258.0, 230.0, 211.0, 1762.0, 3443.0, 1453.0, 783.0, 0.0, 272.0, 71.0, 30.0, 1811.0, 189.0, 495.0, 134.0, 1032.0, 142.0, 340.0, 3.0, 79.0, 39.0, 60.0, 43.0, 478.0, 417.0, 1247.0, 347.0, 454.0, 195.0, 3.0, 3028.0, 40.0, 844.0, 17.0, 88.0, 622.0, 211.0, 425.0, 10.0, 5.0, 507.0, 232.0, 444.0, 16.0, 75.0, 32.0, 10.0, 66.0, 144.0, 524.0, 33.0, 48.0, 241.0, 139.0, 29.0, 92.0, 375.0, 178.0, 227.0, 76.0, 34.0, 110.0, 325.0, 453.0, 848.0, 201.0, 76.0, 515.0, 85.0, 59.0, 73.0, 10832.0, 491.0, 425.0, 392.0, 0.0, 145.0, 762.0, 379.0, 205.0, 456.0, 112.0, 8.0, 1013.0, 243.0, 357.0, 201.0, 1053.0, 58.0, 10788.0, 6.0, 880.0, 608.0, 31.0, 20.0, 44.0, 42.0, 172.0, 1548.0, 89.0, 102.0, 91.0, 49.0, 17.0, 607.0, 158.0, 4.0, 4.0, 11.0, 205.0, 497.0, 375.0, 126.0, 202.0, 32.0, 603.0, 412.0, 292.0, 825.0, 2932.0, 375.0, 4958.0, 318.0, 16.0, 34.0, 2311.0, 0.0, 393.0, 19.0, 192.0, 3175.0, 0.0, 461.0, 515.0, 8819.0, 222.0, 1258.0, 141.0, 5098.0, 295.0, 87.0, 6693.0, 679.0, 348.0, 7.0, 349.0, 367.0, 4884.0, 81.0, 176.0, 119.0, 446.0, 161.0, 1256.0, 2714.0, 8730.0, 52.0, 1121.0, 576.0, 10.0, 1339.0, 25.0, 117.0, 305.0, 328.0, 73.0, 129.0, 1734.0, 5611.0, 385.0, 1571.0, 4684.0, 3342.0, 391.0, 33.0, 445.0, 120.0, 1526.0, 9360.0, 101.0, 3663.0, 498.0, 120.0, 30016.0, 505.0, 20.0, 877.0, 110.0, 135.0, 10.0, 190.0, 36.0, 0.0, 274.0, 67.0, 22.0, 858.0, 152.0, 1526.0, 53.0, 2583.0, 95.0, 148.0, 233.0, 138.0, 93.0, 150.0, 341.0, 96.0, 96.0, 264.0, 1663.0, 220.0, 795.0, 145.0, 412.0, 1389.0, 205.0, 203.0, 72.0, 161.0, 181.0, 155.0, 130.0, 249.0, 19.0, 341.0, 276.0, 188.0, 62.0, 168.0, 132.0, 907.0, 274.0, 118.0, 98.0, 201.0, 142.0, 180.0, 204.0, 149.0, 84.0, 192.0, 72.0, 168.0, 136.0, 119.0, 274.0, 42.0, 64.0, 519.0, 181.0, 276.0, 99.0, 317.0, 230.0, 655.0, 108.0, 78.0, 510.0, 81.0, 101.0, 317.0, 132.0, 196.0, 147.0, 3657.0, 186.0, 245.0, 102.0, 627.0, 580.0, 562.0, 283.0, 78.0, 266.0, 443.0, 71.0, 85.0, 145.0, 258.0, -1753760.0, 322.0, 1544.0, 405.0, 15644.0, 575.0, 621.0, 345.0, 1949.0, 226.0, 2373.0, 456.0, 426.0, 4156.0, 4229.0, 367.0, 12349.0, 648.0, 695.0, 770.0, 813.0, 797.0, 1310.0, 632.0, 3096.0, 334.0, 550.0, 3432.0, 1468.0, 10838.0, 1435.0, 432.0, 8544.0, 591.0, 1391.0, 1239.0, 1307.0, 531.0, 4939.0, 553.0, 513.0, 125.0, 863.0, 836.0, 2392.0, 1855.0, 8891.0, 459.0, 4114.0, 2533.0, 0.0, 374.0, 1005.0, 3649.0, 38.0, 585.0, 6.0, 13.0, 141.0, 449.0, 46.0, 106.0, 17.0, 3.0, 103.0, 16.0, 132.0, 142.0, 37.0, 36.0, 95.0, 23.0, 11.0, 49.0, 19.0, 18.0, 22.0, 27.0, 27.0, 7.0, 2.0, 24.0, 9.0, 21.0, 91.0, 30.0, 4.0, 10.0, 38.0, 2.0, 14.0, 93.0, 62.0, 665.0, 87.0, 10.0, 29.0, 8.0, 96.0, 24.0, 15.0, 4430.0, 32.0, 154.0, 878.0, 6.0, 1.0, 79.0, 13.0, 26.0, 14.0, 3.0, 68.0, 20.0, 53.0, 0.0, 213.0, 18.0, 123.0, 35.0, 705.0, 929.0, 160.0, 715.0, 1318.0, 1998.0, 256.0, 157.0, 336.0, 558.0, 598.0, 228.0, 281.0, 83.0, 480.0, 570.0, 272.0, 477.0, 20823.0, 368.0, 215.0, 715.0, 671.0, 710.0, 98.0, 339.0, 741.0, 378.0, 206.0, 515.0, 120.0, 1410.0, 6353.0, 80.0, 950.0, 478.0, 490.0, 515.0, 624.0, 303.0, 276.0, 62.0, 128.0, 130.0, 592.0, 307.0, 4812.0, 796.0, 514.0, 586.0, 75.0, 319.0, 771.0, 857.0, 1201.0, 225.0, 306.0, 1291.0, 547.0, 391.0, 109.0, 449.0, 2001.0, 64.0, 129.0, 594.0, 2886.0, 220.0, 83.0, 39.0, 209.0, 1822.0, 545.0, 494.0, 1567.0, 6663.0, 122.0, 112.0, 1907.0, 23470.0, 457.0, 79.0, 1060.0, 3428.0, 1207.0, 1577.0, 3121.0, 175.0, 165.0, 37.0, 541.0, 1350.0, 228.0, 499.0, 305.0, 3630.0, 2351.0, 2414.0, 297.0, 1822.0, 167.0, 28.0, 8.0, 468.0, 283.0, 175.0, 90.0, 1368.0, 12.0, 1265.0, 3992.0, 42629.0, 109.0, 0.0, 172.0, 739.0, 7491.0, 4058.0, 185.0, 11.0, 131.0, 385.0, 241.0, 561.0, 1135.0, 541.0, 45.0, 16584.0, 233.0, 16.0, 177.0, 201.0, 989.0, 1159.0, 48.0, 42.0, 32.0, 40.0, 28.0, 8220.0, 12.0, 331.0, 1857.0, 157.0, 31.0, 249.0, 691.0, 16.0, 69.0, 153.0, 62.0, 16.0, 190.0, 54993.0, 153.0, 696.0, 662.0, 17.0, 7864.0, 4.0, 154.0, 49.0, 185.0, 82.0, 3613.0, 28.0, 16900.0, 3170.0, 559.0, 136.0, 261.0, 376.0, 28.0, 84.0, 2.0, 10314.0, 90.0, 164.0, 511.0, 183.0, 9591.0, 96.0, 171.0, 6.0, 91.0, 689.0, 216.0, 1178.0, 1561.0, 870.0, 1667.0, 1408.0, 13.0, 86.0, 80.0, 22.0, 983.0, 86815.0, 687.0, 91.0, 43.0, 5041.0, 44.0, 645.0, 19886.0, 324.0, 212.0, 578.0, 202.0, 311.0, 172.0, 31.0, 1181.0, 126.0, 9.0, 68.0, 402.0, 320.0, 8.0, 5979.0, 63.0, 771.0, 2006.0, 599.0, 639.0, 2294.0, 161.0, 5.0, 3.0, 398.0, 13.0, 0.0, 20.0, 451.0, 59.0, 360.0, 650.0, 219.0, 111.0, 613.0, 166.0, 142.0, 1007.0, 255.0, 21.0, 232.0, 88.0, 0.0, 6220.0, 70.0, 674.0, 125.0, 59.0, 60.0, 755.0, 2277.0, 52.0, 5048.0, 10.0, 905.0, 18.0, 2739.0, 352.0, 24.0, 68.0, 77.0, 6725.0, 1050.0, 124.0, 6.0, 1129.0, 896.0, 112.0, 133.0, 15975.0, 97.0, 13.0, 1470.0, 295.0, 279.0, 1310.0, 342.0, 247.0, 749.0, 3686.0, 45.0, 50.0, 1744.0, 61.0, 87.0, 126.0, 143.0, 231.0, 6.0, 234.0, 1018.0, 138.0, 382.0, 56.0, 164.0, 174.0, 941.0, 25.0, 35.0, 487.0, 20.0, 388.0, 43.0, 2584.0, 79.0, 2185.0, 46.0, 0.0, 5.0, 65.0, 80.0, 32197.0, 1109.0, 2.0, 159.0, 2.0, 1274.0, 2747.0, 23108.0, 153.0, 125.0, 0.0, 255.0, 15.0, 552.0, 1644.0, 428.0, 3491.0, 3053.0, 480.0, 92.0, 481.0, 8635.0, 836.0, 33.0, 1045.0, 76.0, 690.0, 6977.0, 439.0, 84.0, 467.0, 337.0, 111.0, 185.0, 176.0, 227.0, 2342.0, 435.0, 3273.0, 20832.0, 625.0, 113.0, 3222.0, 716.0, 588.0, 181.0, 0.0, 8946.0, 579.0, 2887.0, 72.0, 89.0, 28.0, 696.0, 6.0, 111.0, 13.0, 42.0, 15.0, 14.0, 99.0, 8.0, 55.0, 101.0, 71.0, 630.0, 1091.0, 840.0, 2954.0, 58.0, 80.0, 183.0, 89.0, 2983.0, 283.0, 4.0, 362.0, 25.0, 209.0, 88.0, 237.0, 79.0, 603.0, 57.0, 214.0, 213.0, 319.0, 48.0, 55.0, 535.0, 2970.0, 4395.0, 72.0, 181.0, 13.0, 17.0, 1000.0, 77.0, 412.0, 48.0, 216.0, 165.0, 104.0, 16113.0, 85.0, 55.0, 614.0, 88.0, 187.0, 175.0, 182.0, 677.0, 410.0, 327.0, 27.0, 164.0, 160.0, 151.0, 167.0, 518.0, 157.0, 1266.0, 627.0, 1052.0, 3782.0, 602.0, 6.0, 273.0, 392.0, 604.0, 149.0, 89.0, 41.0, 41.0, 129.0, 33.0, 5257.0, 193.0, 65.0, 649.0, 70.0, 1647.0, 511.0, 216.0, 18.0, 415.0, 45.0, 309.0, 54.0, 128.0, 1853.0, 3769.0, 267.0, 75.0, 21.0, 168.0, 228.0, 322.0, 157.0, 512.0, 514.0, 44.0, 1830.0, 147.0, 412.0, 422.0, 9429.0, 87.0, 58.0, 42.0, 318.0, 3207.0, 498.0, 1021.0, 68.0, 938.0, 132.0, 160.0, 108.0, 678.0, 151.0, 272.0, 1501.0, 1415.0, 154.0, 1281.0, 49.0, 301.0, 123.0, 0.0, 5085.0, 350.0, 231.0, 174.0, 211.0, 122.0, 400.0, 178.0, 116.0, 371.0, 452.0, 26.0, 3668.0, 1395.0, 142.0, 1804.0, 12.0, 491.0, 969.0, 22.0, 3526.0, 4.0, 1571.0, 122.0, 238.0, 55.0, 16257.0, 761.0, 392.0, 116.0, 227.0, 27.0, 241.0, 876.0, 53.0, 46.0, 5731.0, 30.0, 883.0, 56.0, 5385.0, 4509.0, 111.0, 741.0, 202.0, 5.0, 561.0, 961.0, 113.0, 10197.0, 28.0, 702.0, 109.0, 8.0, 69.0, 425.0, 6.0, 17.0, 6.0, 148.0, 17.0, 125.0, 90.0, 79.0, 112.0, 61.0, 234.0, 147.0, 295.0, 952.0, 27.0, 95.0, 257.0, 191.0, 129.0, 65.0, 64.0, 193.0, 123.0, 178.0, 948.0, 21.0, 30.0, 39.0, 268.0, 41.0, 13.0, 42.0, 121.0, 203.0, 266.0, 211.0, 3.0, 15.0, 15.0, 58.0, 10.0, 15.0, 0.0, 40.0, 205.0, 4.0, 44.0, 7.0, 259.0, 35.0, 87.0, 26.0, 305.0, 28.0, 4298.0, 43.0, 22.0, 338.0, 244.0, 182.0, 271.0, 78.0, 4592.0, 852.0, 104.0, 198.0, 131.0, 608.0, 8.0, 692.0, 56.0, 353.0, 178.0, 57.0, 86.0, 75.0, 58.0, 652.0, 138.0, 2640.0, 133.0, 931.0, 154.0, 63.0, 70.0, 353.0, 658.0, 428.0, 79.0, 26.0, 20934.0, 246.0, 252.0, 156.0, 1296.0, 705.0, 42.0, 227.0, 136.0, 428.0, 33.0, 3493.0, 33.0, 1421.0, 20.0, 469.0, 82.0, 205.0, 778.0, 509.0, 72.0, 352.0, 0.0, 67.0, 65.0, 1346.0, 47.0, 1093.0, 4343.0, 465.0, 119.0, 1198.0, 325.0, 89.0, 37.0, 132.0, 105.0, 31.0, 10.0, 500.0, 34.0, 23.0, 23.0, 504.0, 100.0, 238.0, 2.0, 135.0, 5.0, 73.0, 40.0, 266.0, 373.0, 278.0, -28.0, 82.0, 5.0, 184.0, 223.0, 498.0, 1436.0, 462.0, 414.0, 218.0, 3507.0, 2467.0, 58.0, 337.0, 6444.0, 1215.0, 34.0, 42.0, 7958.0, 233.0, 2922.0, 127.0, 1601.0, 67.0, 280.0, 1114.0, 677.0, 1068.0, 3157.0, 269.0, 593.0, 5661.0, 0.0, 5.0, 1.0, 0.0, 11.0, 228899.0, 0.0, 16.0, 0.0, 0.0, 5660.0, 16635.0, 193.0, 0.0, 15898.0, 193.0, 6784.0, 7799.0, 456.0, 6710.0, 1.0, 376.0, 1022.0, 3151.0]\n",
      "Deaths:[1354.0, 208.0, 1333.0, 53.0, 80.0, 3.0, 5213.0, 806.0, 3.0, 51.0, 0.0, 6.0, 4.0, 13.0, 275.0, 9.0, 724.0, 497.0, 15.0, 166.0, 3513.0, 7.0, 595.0, 9900.0, 2.0, 38.0, 0.0, 3827.0, 453.0, 2.0, 569.0, 1711.0, 606.0, 3417.0, 4135.0, 8052.0, 1870.0, 2805.0, 2135.0, 3215.0, 2221.0, 558.0, 3783.0, 5909.0, 2071.0, 2516.0, 7049.0, 1548.0, 2019.0, 2540.0, 14295.0, 981.0, 555.0, 1637.0, 25869.0, 1653.0, 482.0, 3.0, 482.0, 54.0, 6.0, 1.0, 33.0, 0.0, 401.0, 217.0, 195.0, 0.0, 8.0, 2.0, 3.0, 0.0, 64.0, 2833.0, 0.0, 5709.0, 20.0, 0.0, 61.0, 76.0, 388.0, 83.0, 78.0, 21.0, 1.0, 145.0, 89.0, 54.0, 15.0, 30.0, 203.0, 7992.0, 69.0, 281.0, 182.0, 1.0, 573.0, 6.0, 9.0, 6.0, 1.0, 2.0, 8.0, 2.0, 2.0, 6.0, 6.0, 13.0, 22.0, 63.0, 4512.0, 4.0, 1.0, 0.0, 1.0, 2.0, 2.0, 0.0, 0.0, 0.0, 3.0, 7.0, 7.0, 0.0, 3.0, 3.0, 0.0, 3.0, 2.0, 1.0, 105.0, 989.0, 9.0, 2726.0, 635.0, 43.0, 22.0, 3998.0, 82.0, 9.0, 101.0, 104.0, 121.0, 903.0, 353.0, 1.0, 0.0, 54.0, 155.0, 458.0, 70.0, 362.0, 298.0, 75.0, 13.0, 55.0, 0.0, 304.0, 402.0, 91.0, 1298.0, 1.0, 0.0, 7.0, 60.0, 225.0, 263.0, 105.0, 160.0, 88.0, 20.0, 391.0, 0.0, 0.0, 621.0, 13.0, 59.0, 0.0, 1371.0, 5984.0, 5085.0, 577.0, 83.0, 0.0, 63.0, 63.0, 463.0, 1.0, 333.0, 50.0, 0.0, 14.0, 16.0, 39.0, 0.0, 5.0, 0.0, 0.0, 4.0, 30247.0, 51.0, 33.0, 17.0, 1859.0, 2627.0, 224.0, 175.0, 56.0, 262.0, 526.0, 20.0, 655.0, 1765.0, 239.0, 174.0, 225.0, 64.0, 158.0, 184.0, 0.0, 223.0, 216.0, 0.0, 2267.0, 50.0, 29.0, 22.0, 187.0, 0.0, 1533.0, 605.0, 10.0, 21.0, 2296.0, 3.0, 161.0, 416.0, 26.0, 109.0, 2.0, 4153.0, 89.0, 2713.0, 503.0, 18.0, 498.0, 197.0, 3510.0, 126.0, 9.0, 0.0, 1048.0, 18650.0, 12.0, 6.0, 0.0, 8.0, 305.0, 96.0, 675.0, 822.0, 1.0, 5278.0, 665.0, 44.0, 0.0, 2230.0, 140.0, 2203.0, 5903.0, 18988.0, 5588.0, 1774.0, 639.0, 472.0, 28.0, 97.0, 440.0, 4298.0, 348.0, 868.0, 1569.0, 16833.0, 987.0, 23.0, 292.0, 405.0, 4138.0, 554.0, 134.0, 284.0, 1137.0, 80.0, 146.0, 2092.0, 14.0, 38.0, 0.0, 1.0, 55.0, 5.0, 8.0, 38.0, 0.0, 7.0, 19.0, 3.0, 103.0, 47.0, 11.0, 28.0, 0.0, 0.0, 4.0, 104.0, 3.0, 5.0, 21.0, 1.0, 1.0, 0.0, 0.0, 3.0, 2.0, 0.0, 1.0, 0.0, 10.0, 97.0, 1.0, 0.0, 80.0, 3.0, 0.0, 1.0, 1.0, 1.0, 336.0, 0.0, 22.0, 0.0, 4.0, 1.0, 0.0, 1.0, 11.0, 1269.0, 456.0, 305.0, 341.0, 489.0, 1484.0, 0.0, 32.0, 89.0, 24.0, 82.0, 132.0, 1.0, 81.0, 122.0, 2.0, 156.0, 152.0, 125.0, 21.0, 125.0, 9.0, 157.0, 10.0, 310.0, 2833.0, 228.0, 646.0, 962.0, 994.0, 9598.0, 1000.0, 299.0, 361.0, 1328.0, 1489.0, 1258.0, 1904.0, 7116.0, 904.0, 882.0, 468.0, 1631.0, 1089.0, 2933.0, 578.0, 1157.0, 790.0, 2502.0, 2361.0, 2272.0, 1415.0, 782.0, 3138.0, 1094.0, 344.0, 863.0, 4.0, 0.0, 73.0, 556.0, 19.0, 22.0, 91.0, 3.0, 0.0, 1.0, 41.0, 93.0, 69.0, 685.0, 17.0, 754.0, 1542.0, 816.0, 311.0, 17.0, 18.0, 432.0, 69.0, 1314.0, 22.0, 128.0, 69.0, 956.0, 530.0, 256.0, 539.0, 59.0, 138.0, 58.0, 173.0, 1235.0, 2179.0, 2297.0, 1703.0, 3.0, 93.0, 129.0, 900.0, 48.0, 938.0, 115.0, 261.0, 1114.0, 163.0, 50.0, 227.0, 1006.0, 510.0, 1457.0, 1270.0, 10183.0, 622.0, 109.0, 148.0, 59.0, 1331.0, 124.0, 433.0, 58.0, 218.0, 240.0, 0.0, 2404.0, 1830.0, 1764.0, 190.0, 2807.0, 22.0, 96.0, 7.0, 47.0, 220.0, 54.0, 25.0, 51.0, 35.0, 42.0, 35.0, 98.0, 1.0, 65.0, 461.0, 75.0, 214.0, 108.0, 8.0, 75.0, 53.0, 42.0, 58.0, 42.0, 25.0, 13.0, 19.0, 75.0, 37.0, 143.0, 82.0, 71.0, 30.0, 134.0, 376.0, 11.0, 51.0, 62.0, 23.0, 15.0, 36.0, 38.0, 4611.0, 1132.0, 104.0, 0.0, 418.0, 67.0, 72.0, 297.0, 101.0, 96.0, 58.0, 92.0, 179.0, 95.0, 58.0, 271.0, 34.0, 2188.0, 66.0, 0.0, 111.0, 64.0, 114.0, 183.0, 351.0, 43.0, 28.0, 48.0, 284.0, 161.0, 28.0, 60.0, 34.0, 73.0, 172.0, 75.0, 29.0, 96.0, 82.0, 32.0, 49.0, 8.0, 0.0, 0.0, 0.0, 42.0, 15.0, 3269.0, 242.0, 658.0, 0.0, 69.0, 27.0, 31.0, 129.0, 93.0, 11010.0, 47.0, 1443.0, 991.0, 334.0, 225.0, 1442.0, 164.0, 220.0, 3037.0, 2804.0, 5706.0, 4.0, 522.0, 622.0, 366.0, 8464.0, 2.0, 149.0, 531.0, 1553.0, 0.0, 11.0, 786.0, 39.0, 15.0, 174.0, 162.0, 6.0, 79.0, 60.0, 180.0, 62.0, 104.0, 85.0, 171.0, 262.0, 277.0, 253.0, 2387.0, 239.0, 73.0, 31.0, 132.0, 180.0, 842.0, 1991.0, 53.0, 7.0, 63.0, 21.0, 58.0, 0.0, 26.0, 8.0, 52.0, 5891.0, 22.0, 29.0, 6.0, 5.0, 5.0, 11.0, 36.0, 19.0, 38.0, 8.0, 9.0, 12.0, 10.0, 5.0, 1.0, 6.0, 18.0, 10.0, 3.0, 21.0, 8.0, 12.0, 29.0, 25.0, 14.0, 39.0, 17.0, 34.0, 5.0, 22.0, 2.0, 11.0, 26.0, 3.0, 13.0, 4.0, 261.0, 2.0, 20.0, 3.0, 47.0, 13.0, 24.0, 14.0, 35.0, 17.0, 26.0, 38.0, 216.0, 6.0, 153.0, 20.0, 0.0, 4.0, 10.0, 7.0, 11.0, 2.0, 37.0, 20.0, 18.0, 14.0, 79.0, 80.0, 68.0, 65.0, 13.0, 10.0, 11.0, 0.0, 0.0, 14.0, 0.0, 0.0, 0.0, 0.0, 6.0, 0.0, 1.0, 2.0, 0.0, 0.0, 0.0, 2.0, 0.0, 0.0, 0.0, 1.0, 0.0, 0.0, 0.0, 0.0, 0.0, 0.0, 0.0, 1.0, 139.0, 56.0, 119.0, 41.0, 19.0, 1.0, 12.0, 2493.0, 178.0, 204.0, 505.0, 164.0, 54.0, 1.0, 71.0, 290.0, 1.0, 5.0, 0.0, 43.0, 2.0, 4.0, 0.0, 7.0, 9.0, 1.0, 4.0, 5.0, 2.0, 12.0, 3.0, 12.0, 5.0, 24.0, 4.0, 1.0, 2.0, 3.0, 6.0, 2.0, 0.0, 17.0, 0.0, 2.0, 2.0, 12.0, 4.0, 1.0, 1.0, 1.0, 40.0, 2.0, 2.0, 9.0, 8.0, 12.0, 1.0, 1.0, 2.0, 2.0, 0.0, 5.0, 14.0, 0.0, 1.0, 9.0, 10.0, 2.0, 0.0, 9.0, 1.0, 3.0, 1.0, 10.0, 0.0, 87.0, 4.0, 7.0, 0.0, 0.0, 21.0, 10.0, 5.0, 3.0, 1.0, 0.0, 19.0, 2.0, 53.0, 2.0, 0.0, 17.0, 209.0, 0.0, 10.0, 8.0, 1.0, 5.0, 149.0, 0.0, 2.0, 191.0, 3.0, 4.0, 252.0, 5.0, 183.0, 62.0, 2.0, 0.0, 5112.0, 40.0, 81.0, 2.0, 10.0, 74.0, 0.0, 1.0, 39.0, 11.0, 1.0, 745.0, 24.0, 0.0, 824.0, 179.0, 4.0, 555.0, 602.0, 67.0, 235.0, 17.0, 122.0, 73.0, 207.0, 6.0, 10.0, 0.0, 0.0, 41.0, 51.0, 177.0, 7.0, 1.0, 0.0, 205.0, 2.0, 0.0, 93.0, 45.0, 4.0, 176.0, 9.0, 363.0, 0.0, 0.0, 0.0, 76.0, 32.0, 19.0, 0.0, 1.0, 0.0, 0.0, 1.0, 0.0, 1.0, 417.0, 0.0, 59.0, 9.0, 140.0, 2.0, 0.0, 4.0, 0.0, 1.0, 7.0, 0.0, 1.0, 0.0, 233.0, 3.0, 2.0, 0.0, 37.0, 0.0, 0.0, 5.0, 4.0, 0.0, 1.0, 4.0, 13.0, 46.0, 6.0, 1.0, 0.0, 1.0, 0.0, 2.0, 0.0, 34.0, 0.0, 2.0, 8.0, 2.0, 0.0, 0.0, 1.0, 4.0, 3.0, 0.0, 0.0, 145.0, 0.0, 1410.0, 1416.0, 139.0, 192.0, 1109.0, 104.0, 65.0, 0.0, 15.0, 109.0, 291.0, 192.0, 0.0, 0.0, 593.0, 26.0, 4.0, 52.0, 4.0, 160.0, 859.0, 8.0, 96.0, 38.0, 53.0, 146.0, 20.0, 18.0, 4.0, 210.0, 137.0, 13.0, 2.0, 21.0, 6.0, 3.0, 2.0, 4.0, 8.0, 38.0, 53.0, 37.0, 426.0, 4.0, 57.0, 43.0, 5.0, 2.0, 74.0, 362.0, 26.0, 5.0, 7.0, 8.0, 242.0, 104.0, 100.0, 1939.0, 13.0, 11.0, 49.0, 12.0, 325.0, 107.0, 954.0, 136.0, 522.0, 334.0, 28.0, 41.0, 166.0, 137.0, 39.0, 183.0, 44.0, 45.0, 5.0, 0.0, 5.0, 146.0, 5.0, 18.0, 14.0, 19.0, 3.0, 8.0, 3.0, 42.0, 5.0, 34.0, 64.0, 5.0, 1.0, 73.0, 10.0, 6.0, 17.0, 8.0, 16.0, 7.0, 38.0, 6.0, 5.0, 6.0, 52.0, 10.0, 3.0, 87.0, 2.0, 4.0, 65.0, 19.0, 2.0, 114.0, 4.0, 326.0, 30.0, 24.0, 27.0, 6.0, 22.0, 0.0, 15.0, 2.0, 5.0, 247.0, 16.0, 3.0, 14.0, 172.0, 54.0, 32.0, 2.0, 5.0, 1.0, 11.0, 3.0, 4.0, 31.0, 18.0, 26.0, 6.0, 455.0, 4.0, 1.0, 53.0, 23.0, 7.0, 12.0, 275.0, 50.0, 104.0, 35.0, 7.0, 17.0, 7.0, 5.0, 54.0, 62.0, 1.0, 17.0, 2.0, 8.0, 9.0, 24.0, 12.0, 4.0, 12.0, 4.0, 17.0, 23.0, 6.0, 4.0, 1.0, 48.0, 7.0, 10.0, 7.0, 5.0, 10.0, 3.0, 6.0, 0.0, 41.0, 28.0, 2.0, 0.0, 2.0, 104.0, 45.0, 15.0, 7.0, 96.0, 23.0, 15.0, 5.0, 9.0, 5.0, 11.0, 3.0, 18.0, 1.0, 3.0, 26.0, 95.0, 23.0, 1.0, 9.0, 4.0, 41.0, 13.0, 7.0, 56.0, 3.0, 0.0, 2.0, 2.0, 12.0, 30.0, 44.0, 41.0, 9.0, 1.0, 3.0, 71.0, 18.0, 4.0, 8.0, 7.0, 46.0, 17.0, 39.0, 29.0, 1.0, 2.0, 11.0, 2.0, 1.0, 6.0, 32.0, 19.0, 3.0, 11.0, 23.0, 3.0, 5.0, 0.0, 31.0, 0.0, 6.0, 1.0, 0.0, 85.0, 0.0, 2.0, 0.0, 1.0, 2.0, 6.0, 1.0, 0.0, 4.0, 0.0, 0.0, 51.0, 0.0, 1.0, 0.0, 0.0, 0.0, 3.0, 0.0, 0.0, 1.0, 1.0, 0.0, 1.0, 6.0, 16.0, 0.0, 0.0, 0.0, 0.0, 0.0, 2.0, 19.0, 0.0, 3.0, 3.0, 0.0, 2.0, 0.0, 32.0, 0.0, 1.0, 3.0, 6.0, 0.0, 3.0, 23.0, 0.0, 3.0, 0.0, 4.0, 11.0, 19.0, 4.0, 2.0, 0.0, 17.0, 21.0, 4934.0, 0.0, 3.0, 0.0, 31.0, 3.0, 522.0, 0.0, 0.0, 1.0, 3.0, 2.0, 1.0, 0.0, 2.0, 0.0, 5.0, 0.0, 1.0, 0.0, 0.0, 1.0, 12.0, 20.0, 7.0, 20.0, 2.0, 1.0, 0.0, 305.0, 69.0, 23.0, 1.0, 25.0, 449.0, 0.0, 1.0, 3.0, 1.0, 23.0, 3.0, 78.0, 0.0, 0.0, 0.0, 0.0, 15.0, 114.0, 15.0, 0.0, 4.0, 13.0, 7.0, 6.0, 0.0, 5.0, 0.0, 36.0, 3.0, 0.0, 0.0, 0.0, 1.0, 0.0, 7.0, 0.0, 38.0, 2.0, 33.0, 0.0, 0.0, 1.0, 162.0, 0.0, 6.0, 8.0, 209.0, 23.0, 2.0, 0.0, 0.0, 0.0, 2.0, 0.0, 17.0, 346.0, 7.0, 131.0, 3.0, 2.0, 163.0, 47.0, 0.0, 2.0, 46.0, 2.0, 3.0, 9.0, 50.0, 5.0, 4.0, 0.0, 20.0, 4.0, 28.0, 32.0, 52.0, 12.0, 86.0, 7.0, 49.0, 2.0, 15.0, 2.0, 4.0, 30.0, 34.0, 104.0, 39.0, 24.0, 108.0, 20.0, 65.0, 3.0, 5.0, 2.0, 0.0, 2.0, 12.0, 119.0, 0.0, 12.0, 10.0, 30.0, 281.0, 27.0, 66.0, 731.0, 23.0, 0.0, 2.0, 32.0, 21.0, 34.0, 10.0, 29.0, 6.0, 24.0, 1.0, 1.0, 13.0, 0.0, 39.0, 0.0, 1.0, 8.0, 4.0, 8.0, 4.0, 10.0, 28.0, 3.0, 83.0, 7.0, 3.0, 1.0, 0.0, 11.0, 12.0, 208.0, 0.0, 13.0, 0.0, 11.0, 5.0, 1.0, 30.0, 1.0, 10.0, 2.0, 11.0, 6.0, 0.0, 0.0, 4.0, 3.0, 1.0, 1.0, 66.0, 3.0, 7.0, 1.0, 12.0, 2.0, 2.0, 2.0, 1.0, 1.0, 17.0, 1.0, 0.0, 3.0, 1.0, 3.0, 4.0, 3.0, 35.0, 2.0, 0.0, 1.0, 2.0, 4.0, 31.0, 4.0, 0.0, 3.0, 12.0, 0.0, 0.0, 1.0, 5.0, 1.0, 2.0, 0.0, 1.0, 4.0, 0.0, 1.0, 0.0, 1.0, 1.0, 27.0, 0.0, 20.0, 2.0, 1.0, 0.0, 4.0, 88.0, 14.0, 4.0, 2.0, 2.0, 17.0, 0.0, 26.0, 1.0, 0.0, 0.0, 8.0, 4.0, 48.0, 5.0, 0.0, 0.0, 0.0, 12.0, 2.0, 208.0, 29.0, 8.0, 1.0, 0.0, 14.0, 1.0, 3.0, 15.0, 29.0, 0.0, 0.0, 1.0, 1.0, 33.0, 1.0, 10.0, 1.0, 8.0, 0.0, 1.0, 52.0, 0.0, 1.0, 0.0, 0.0, 0.0, 0.0, 3.0, 2.0, 0.0, 1.0, 0.0, 0.0, 1.0, 0.0, 1.0, 2.0, 0.0, 8.0, 0.0, 2.0, 1.0, 0.0, 1.0, 0.0, 5.0, 0.0, 0.0, 1.0, 0.0, 11.0, 10.0, 1.0, 2.0, 0.0, 0.0, 2.0, 0.0, 0.0, 0.0, 0.0, 0.0, 1.0, 0.0, 0.0, 1.0, 0.0, 1.0, 106.0, 1.0, 0.0, 0.0, 1.0, 0.0, 9.0, 0.0, 0.0, 0.0, 14.0, 1.0, 0.0, 1.0, 0.0, 0.0, 0.0, 5.0, 0.0, 2.0, 1.0, 0.0, 0.0, 0.0, 0.0, 0.0, 0.0, 0.0, 8.0, 0.0, 0.0, 1.0, 0.0, 0.0, 5.0, 0.0, 0.0, 0.0, 7.0, 0.0, 46.0, 4.0, 19.0, 0.0, 0.0, 0.0, 1.0, 1.0, 0.0, 3.0, 0.0, 1.0, 0.0, 0.0, 0.0, 0.0, 0.0, 102.0, 19.0, 8.0, 1.0, 0.0, 3.0, 1.0, 4.0, 24.0, 1.0, 3.0, 0.0, 0.0, 0.0, 2.0, 5.0, 15.0, 0.0, 4.0, 13.0, 1.0, 2.0, 1.0, 10.0, 9.0, 7.0, 5.0, 1.0, 1.0, 0.0, 9.0, 12.0, 0.0, 0.0, 48.0, 0.0, 2.0, 7.0, 2.0, 7.0, 0.0, 6.0, 25.0, 11.0, 2.0, 1.0, 0.0, 8.0, 3.0, 0.0, 0.0, 3.0, 2.0, 0.0, 34.0, 14.0, 244.0, 0.0, 0.0, 41.0, 1.0, 8.0, 1.0, 5.0, 0.0, 0.0, 0.0, 0.0, 0.0, 2.0, 1.0, 23.0, 4.0, 1.0, 0.0, 0.0, 2.0, 0.0, 1.0, 4.0, 0.0, 1.0, 3.0, 0.0, 0.0, 2.0, 2.0, 0.0, 0.0, 11.0, 2.0, 0.0, 9.0, 16.0, 0.0, 0.0, 0.0, 3.0, 3.0, 0.0, 5.0, 0.0, 0.0, 0.0, 5.0, 0.0, 21.0, 7.0, 0.0, 2.0, 0.0, 0.0, 0.0, 0.0, 0.0, 22.0, 0.0, 0.0, 1.0, 1.0, 0.0, 0.0, 87.0, 30.0, 78.0, 20.0, 34.0, 20.0, 30.0, 82.0, 296.0, 147.0, 3.0, 0.0, 5.0, 11.0, 9.0, 26.0, 360.0, 2.0, 39.0, 7.0, 19.0, 19.0, 73.0, 50.0, 18.0, 529.0, 28.0, 2.0, 100.0, 100.0, 32.0, 52.0, 6.0, 13.0, 17.0, 564.0, 114.0, 0.0, 19.0, 33.0, 119.0, 13.0, 8.0, 11.0, 24.0, 55.0, 2.0, 32.0, 92.0, 92.0, 46.0, 56.0, 216.0, 78.0, 0.0, 86.0, 118.0, 35.0, 28.0, 29.0, 58.0, 16.0, 37.0, 6.0, 18.0, 7.0, 8.0, 1.0, 69.0, 1.0, 1.0, 11.0, 1.0, 1.0, 0.0, 0.0, 5.0, 0.0, 0.0, 1.0, 0.0, 14.0, 0.0, 13.0, 18.0, 228.0, 567.0, 434.0, 28.0, 3.0, 118.0, 30.0, 91.0, 5.0, 121.0, 0.0, 69.0, 112.0, 23.0, 806.0, 764.0, 26.0, 3.0, 52.0, 4.0, 14.0, 31.0, 45.0, 20.0, 158.0, 46.0, 637.0, 1.0, 1194.0, 61.0, 709.0, 130.0, 2006.0, 997.0, 723.0, 1076.0, 6.0, 1007.0, 1.0, 0.0, 6.0, 13.0, 0.0, 3.0, 0.0, 2.0, 32.0, 1.0, 67.0, 2.0, 42.0, 14.0, 2.0, 2.0, 0.0, 3.0, 13.0, 5.0, 3.0, 2.0, 8.0, 2.0, 5.0, 296.0, 2.0, 1.0, 5.0, 15.0, 25.0, 0.0, 4.0, 32.0, 7.0, 12.0, 1.0, 9.0, 34.0, 83.0, 4.0, 157.0, 0.0, 0.0, 33.0, 0.0, 12.0, 28.0, 0.0, 0.0, 949.0, 0.0, 11.0, 0.0, 2.0, 0.0, 69.0, 10.0, 1.0, 25.0, 1.0, 0.0, 59.0, 0.0, 1133.0, 6.0, 3.0, 0.0, 0.0, 1.0, 11.0, 57.0, 1.0, 1.0, 2.0, 128.0, 6.0, 0.0, 28.0, 53.0, 9.0, 29.0, 1.0, 10.0, 113.0, 2828.0, 4.0, 1.0, 115.0, 1.0, 0.0, 3.0, 0.0, 5.0, 2.0, 0.0, 3.0, 2.0, 1.0, 1.0, 40.0, 0.0, 0.0, 0.0, 14.0, 106.0, 0.0, 2.0, 0.0, 0.0, 1.0, 9.0, 3.0, 840.0, 0.0, 0.0, 0.0, 12.0, 0.0, 2.0, 1.0, 0.0, 3.0, 0.0, 0.0, 0.0, 1.0, 0.0, 3.0, 1.0, 0.0, 5.0, 0.0, 2.0, 3.0, 1.0, 2.0, 1.0, 13.0, 6.0, 0.0, 23.0, 3.0, 1.0, 0.0, 9.0, 4.0, 0.0, 269.0, 0.0, 0.0, 5.0, 8.0, 0.0, 0.0, 22.0, 10.0, 2.0, 20.0, 20.0, 2.0, 0.0, 1.0, 2.0, 0.0, 46.0, 0.0, 0.0, 0.0, 47.0, 1.0, 3.0, 16.0, 5.0, 0.0, 26.0, 5.0, 6.0, 25.0, 1.0, 36.0, 9.0, 11.0, 19.0, 4.0, 14.0, 28.0, 14.0, 13.0, 28.0, 15.0, 31.0, 57.0, 2.0, 8.0, 13.0, 26.0, 15.0, 36.0, 121.0, 49.0, 12.0, 2.0, 10.0, 45.0, 9.0, 7.0, 6.0, 62.0, 14.0, 20.0, 15.0, 93.0, 8.0, 27.0, 42.0, 68.0, 43.0, 40.0, 72.0, 21.0, 9.0, 55.0, 6.0, 94.0, 11.0, 12.0, 39.0, 17.0, 40.0, 8.0, 37.0, 9.0, 10.0, 1.0, 38.0, 20.0, 5.0, 31.0, 13.0, 5.0, 27.0, 11.0, 30.0, 14.0, 9.0, 7.0, 0.0, 17.0, 21.0, 35.0, 44.0, 21.0, 13.0, 13.0, 16.0, 10.0, 13.0, 0.0, 1.0, 0.0, 1.0, 4.0, 0.0, 1.0, 1.0, 1.0, 3.0, 10.0, 2.0, 1.0, 1.0, 6.0, 5.0, 0.0, 1.0, 9.0, 0.0, 0.0, 1.0, 0.0, 22.0, 0.0, 3.0, 0.0, 0.0, 0.0, 1.0, 0.0, 1.0, 0.0, 2.0, 4.0, 18.0, 0.0, 9.0, 10.0, 1.0, 1.0, 3.0, 0.0, 0.0, 0.0, 2.0, 0.0, 66.0, 31.0, 26.0, 3.0, 65.0, 0.0, 1.0, 2.0, 2.0, 1.0, 1.0, 1.0, 0.0, 0.0, 0.0, 0.0, 1.0, 8.0, 0.0, 1.0, 0.0, 2.0, 0.0, 0.0, 0.0, 3.0, 6.0, 0.0, 0.0, 1.0, 0.0, 9.0, 4.0, 4.0, 0.0, 1.0, 10.0, 0.0, 1.0, 1.0, 0.0, 1.0, 0.0, 0.0, 0.0, 7.0, 0.0, 1.0, 13.0, 1.0, 0.0, 87.0, 0.0, 2.0, 672.0, 178.0, 1.0, 9.0, 1.0, 0.0, 3.0, 0.0, 0.0, 0.0, 0.0, 1.0, 0.0, 1.0, 0.0, 0.0, 0.0, 14.0, 0.0, 0.0, 0.0, 4.0, 0.0, 2.0, 0.0, 0.0, 0.0, 0.0, 0.0, 3.0, 3.0, 0.0, 1.0, 0.0, 0.0, 2.0, 0.0, 0.0, 1.0, 2.0, 0.0, 2.0, 1.0, 0.0, 0.0, 0.0, 1.0, 0.0, 0.0, 0.0, 0.0, 0.0, 0.0, 0.0, 2.0, 2.0, 0.0, 1.0, 0.0, 0.0, 0.0, 1.0, 1.0, 0.0, 6.0, 0.0, 0.0, 0.0, 0.0, 0.0, 31.0, 11.0, 1.0, 0.0, 0.0, 0.0, 0.0, 0.0, 0.0, 0.0, 1.0, 0.0, 0.0, 2.0, 0.0, 0.0, 0.0, 0.0, 0.0, 4.0, 0.0, 4.0, 42.0, 0.0, 9.0, 0.0, 2.0, 10.0, 139.0, 0.0, 1.0, 0.0, 0.0, 1.0, 4.0, 0.0, 0.0, 0.0, 0.0, 0.0, 45.0, 12.0, 0.0, 0.0, 0.0, 0.0, 0.0, 4.0, 0.0, 0.0, 0.0, 0.0, 0.0, 0.0, 0.0, 19.0, 2.0, 0.0, 0.0, 5.0, 0.0, 0.0, 0.0, 0.0, 0.0, 0.0, 0.0, 0.0, 7.0, 0.0, 0.0, 3.0, 0.0, 0.0, 1.0, 0.0, 2.0, 11.0, 2.0, 6.0, 1.0, 0.0, 0.0, 0.0, 0.0, 0.0, 0.0, 4.0, 0.0, 0.0, 1.0, 0.0, 0.0, 0.0, 0.0, 8.0, 1.0, 842.0, 1.0, 2.0, 0.0, 0.0, 4.0, 1.0, 0.0, 6.0, 0.0, 9.0, 0.0, 0.0, 0.0, 121.0, 1.0, 4.0, 1.0, 3.0, 0.0, 1.0, 280.0, 21.0, 96.0, 13.0, 1.0, 0.0, 252.0, 2036.0, 473.0, 579.0, 88.0, 158.0, 2110.0, 214.0, 1505.0, 124.0, 621.0, 1409.0, 856.0, 829.0, 1020.0, 1242.0, 87.0, 564.0, 198.0, 0.0, 1348.0, 172.0, 134.0, 1.0, 6.0, 18.0, 1.0, 2.0, 0.0, 31.0, 4.0, 2.0, 0.0, 0.0, 0.0, 5.0, 2.0, 0.0, 5.0, 229.0, 0.0, 10.0, 1.0, 7.0, 1.0, 185.0, 0.0, 33.0, 3.0, 1.0, 6.0, 1.0, 1.0, 0.0, 2.0, 4.0, 128.0, 1.0, 69.0, 6.0, 2.0, 9.0, 3.0, 6.0, 4.0, 37.0, 0.0, 4.0, 153.0, 671.0, 0.0, 0.0, 24.0, 5.0, 18.0, 0.0, 4.0, 0.0, 0.0, 8.0, 17.0, 285.0, 4.0, 2195.0, 23602.0, 98.0, 115.0, 200.0, 34.0, 491.0, 54.0, 3.0, 5.0, 63.0, 30.0, 674.0, 17.0, 37.0, 0.0, 0.0, 3.0, 4.0, 42.0, 1998.0, 48.0, 25.0, 0.0, 92.0, 0.0, 33.0, 14.0, 3.0, 1447.0, 5.0, 7.0, 41.0, 2.0, 0.0, 3.0, 1.0, 0.0, 2.0, 5.0, 7.0, 22.0, 50.0, 28.0, 50.0, 16.0, 2.0, 6.0, 2.0, 30.0, 55.0, 4.0, 2.0, 0.0, 22.0, 48.0, 15.0, 54.0, 0.0, 2.0, 18.0, 7.0, 48.0, 80.0, 13.0, 53.0, 26.0, 55.0, 2.0, 0.0, 29.0, 3.0, 156.0, 6.0, 40.0, 15.0, 55.0, 11.0, 11.0, 0.0, 18.0, 7.0, 46.0, 8.0, 11.0, 12.0, 10.0, 4.0, 0.0, 6.0, 16.0, 243.0, 3.0, 14.0, 20.0, 12.0, 20.0, 16.0, 11.0, 58.0, 1.0, 20.0, 3.0, 2.0, 2.0, 11.0, 6.0, 38.0, 9.0, 55.0, 8.0, 49.0, 15.0, 18.0, 5.0, 31.0, 3.0, 10.0, 2.0, 1.0, 1.0, 0.0, 43.0, 41.0, 178.0, 7.0, 4.0, 0.0, 42.0, 12.0, 35.0, 6.0, 0.0, 0.0, 0.0, 2.0, 0.0, 0.0, 0.0, 0.0, 8.0, 76.0, 0.0, 0.0, 0.0, 0.0, 0.0, 1.0, 0.0, 0.0, 7.0, 0.0, 1.0, 0.0, 0.0, 0.0, 0.0, 1.0, 2.0, 2.0, 0.0, 0.0, 4.0, 1.0, 0.0, 0.0, 0.0, 0.0, 2.0, 0.0, 0.0, 1.0, 0.0, 0.0, 0.0, 1.0, 0.0, 5.0, 0.0, 3.0, 0.0, 0.0, 0.0, 0.0, 1.0, 0.0, 2.0, 2.0, 2.0, 46.0, 3.0, 46.0, 2.0, 6.0, 26.0, 2.0, 64.0, 5.0, 2.0, 15.0, 11.0, 6.0, 60.0, 7.0, 5.0, 512.0, 29.0, 4.0, 19.0, 28.0, 32.0, 0.0, 531.0, 1.0, 1.0, 44.0, 12.0, 7.0, 259.0, 3.0, 12.0, 1.0, 2.0, 2.0, 9.0, 6.0, 5.0, 0.0, 3.0, 7.0, 42.0, 0.0, 51.0, 2.0, 77.0, 326.0, 10.0, 256.0, 45.0, 36.0, 0.0, 13.0, 39.0, 18.0, 98.0, 0.0, 2.0, 1.0, 0.0, 26.0, 0.0, 3.0, 42.0, 0.0, 64.0, 2.0, 17.0, 12.0, 4.0, 17.0, 1.0, 4.0, 4.0, 142.0, 224.0, 110.0, 14.0, 0.0, 1.0, 2.0, 2.0, 39.0, 22.0, 59.0, 3.0, 58.0, 9.0, 6.0, 0.0, 0.0, 0.0, 1.0, 0.0, 1.0, 17.0, 9.0, 5.0, 2.0, 1.0, 0.0, 56.0, 0.0, 10.0, 2.0, 1.0, 15.0, 0.0, 20.0, 0.0, 0.0, 5.0, 4.0, 7.0, 0.0, 8.0, 0.0, 0.0, 0.0, 2.0, 7.0, 0.0, 0.0, 11.0, 0.0, 1.0, 1.0, 1.0, 2.0, 1.0, 0.0, 1.0, 1.0, 7.0, 4.0, 28.0, 1.0, 0.0, 16.0, 2.0, 1.0, 1.0, 119.0, 3.0, 11.0, 3.0, 0.0, 3.0, 4.0, 4.0, 2.0, 9.0, 0.0, 1.0, 18.0, 5.0, 4.0, 3.0, 7.0, 1.0, 110.0, 0.0, 23.0, 39.0, 0.0, 0.0, 0.0, 0.0, 6.0, 47.0, 0.0, 0.0, 0.0, 1.0, 0.0, 10.0, 1.0, 0.0, 0.0, 0.0, 0.0, 2.0, 4.0, 2.0, 2.0, 0.0, 3.0, 9.0, 11.0, 14.0, 73.0, 3.0, 98.0, 12.0, 0.0, 0.0, 31.0, 0.0, 2.0, 1.0, 3.0, 27.0, 0.0, 13.0, 20.0, 259.0, 8.0, 93.0, 4.0, 372.0, 7.0, 3.0, 582.0, 16.0, 3.0, 0.0, 28.0, 10.0, 350.0, 2.0, 1.0, 5.0, 35.0, 1.0, 71.0, 159.0, 706.0, 2.0, 22.0, 6.0, 0.0, 46.0, 2.0, 1.0, 4.0, 7.0, 1.0, 6.0, 212.0, 417.0, 16.0, 55.0, 338.0, 184.0, 20.0, 1.0, 11.0, 1.0, 124.0, 859.0, 3.0, 293.0, 15.0, 5.0, 1709.0, 21.0, 0.0, 51.0, 2.0, 3.0, 0.0, 27.0, 3.0, 0.0, 2.0, 0.0, 1.0, 13.0, 10.0, 47.0, 8.0, 97.0, 0.0, 0.0, 0.0, 0.0, 0.0, 0.0, 0.0, 0.0, 0.0, 0.0, 0.0, 0.0, 0.0, 0.0, 0.0, 0.0, 0.0, 0.0, 0.0, 0.0, 0.0, 0.0, 0.0, 0.0, 0.0, 0.0, 0.0, 0.0, 0.0, 0.0, 0.0, 0.0, 0.0, 0.0, 0.0, 0.0, 0.0, 0.0, 0.0, 0.0, 0.0, 0.0, 0.0, 0.0, 0.0, 0.0, 0.0, 0.0, 0.0, 0.0, 0.0, 0.0, 0.0, 0.0, 0.0, 0.0, 0.0, 0.0, 0.0, 0.0, 0.0, 0.0, 0.0, 0.0, 0.0, 0.0, 0.0, 0.0, 0.0, 0.0, 0.0, 0.0, 295.0, 0.0, 0.0, 0.0, 0.0, 0.0, 0.0, 0.0, 0.0, 0.0, 0.0, 0.0, 0.0, 1018.0, 0.0, 9.0, 42.0, 5.0, 67.0, 25.0, 7.0, 58.0, 69.0, 13.0, 206.0, 31.0, 14.0, 21.0, 54.0, 34.0, 36.0, 25.0, 51.0, 7.0, 24.0, 119.0, 24.0, 218.0, 20.0, 13.0, 162.0, 17.0, 27.0, 26.0, 46.0, 30.0, 115.0, 13.0, 4.0, 2.0, 10.0, 11.0, 70.0, 27.0, 158.0, 9.0, 108.0, 53.0, 0.0, 4.0, 31.0, 29.0, 0.0, 9.0, 0.0, 0.0, 1.0, 3.0, 0.0, 3.0, 1.0, 0.0, 0.0, 0.0, 0.0, 1.0, 0.0, 0.0, 1.0, 0.0, 0.0, 0.0, 0.0, 0.0, 0.0, 1.0, 0.0, 0.0, 0.0, 0.0, 0.0, 0.0, 2.0, 0.0, 0.0, 1.0, 1.0, 0.0, 0.0, 2.0, 0.0, 2.0, 3.0, 0.0, 1.0, 0.0, 1.0, 0.0, 0.0, 68.0, 0.0, 2.0, 32.0, 0.0, 0.0, 1.0, 0.0, 0.0, 0.0, 0.0, 5.0, 0.0, 0.0, 0.0, 4.0, 0.0, 2.0, 0.0, 6.0, 11.0, 1.0, 2.0, 15.0, 15.0, 1.0, 0.0, 5.0, 6.0, 9.0, 2.0, 0.0, 0.0, 5.0, 3.0, 5.0, 6.0, 221.0, 1.0, 3.0, 3.0, 8.0, 8.0, 0.0, 4.0, 8.0, 13.0, 0.0, 9.0, 2.0, 15.0, 55.0, 2.0, 18.0, 8.0, 10.0, 7.0, 2.0, 0.0, 0.0, 0.0, 3.0, 1.0, 4.0, 0.0, 40.0, 0.0, 9.0, 7.0, 1.0, 1.0, 3.0, 13.0, 21.0, 5.0, 4.0, 8.0, 20.0, 6.0, 0.0, 9.0, 14.0, 0.0, 1.0, 4.0, 18.0, 1.0, 0.0, 1.0, 4.0, 18.0, 2.0, 2.0, 20.0, 56.0, 2.0, 1.0, 9.0, 315.0, 4.0, 0.0, 15.0, 73.0, 10.0, 6.0, 3.0, 0.0, 0.0, 0.0, 4.0, 2.0, 2.0, 4.0, 5.0, 26.0, 23.0, 14.0, 7.0, 47.0, 16.0, 0.0, 0.0, 19.0, 4.0, 4.0, 3.0, 22.0, 0.0, 12.0, 44.0, 826.0, 5.0, 0.0, 2.0, 36.0, 100.0, 49.0, 2.0, 1.0, 4.0, 17.0, 6.0, 10.0, 28.0, 6.0, 3.0, 485.0, 6.0, 0.0, 8.0, 4.0, 4.0, 8.0, 0.0, 1.0, 0.0, 2.0, 0.0, 93.0, 0.0, 2.0, 72.0, 3.0, 0.0, 3.0, 5.0, 2.0, 2.0, 3.0, 1.0, 2.0, 5.0, 794.0, 4.0, 20.0, 18.0, 0.0, 95.0, 1.0, 4.0, 0.0, 6.0, 1.0, 57.0, 0.0, 310.0, 48.0, 5.0, 3.0, 8.0, 14.0, 1.0, 6.0, 0.0, 173.0, 2.0, 0.0, 5.0, 3.0, 116.0, 3.0, 6.0, 0.0, 5.0, 10.0, 2.0, 13.0, 28.0, 25.0, 56.0, 31.0, 1.0, 3.0, 2.0, 0.0, 16.0, 1679.0, 24.0, 0.0, 0.0, 42.0, 0.0, 12.0, 881.0, 7.0, 4.0, 10.0, 3.0, 7.0, 6.0, 2.0, 21.0, 3.0, 0.0, 0.0, 9.0, 12.0, 0.0, 88.0, 1.0, 16.0, 31.0, 0.0, 7.0, 27.0, 4.0, 1.0, 0.0, 6.0, 1.0, 0.0, 0.0, 8.0, 2.0, 2.0, 18.0, 14.0, 3.0, 22.0, 11.0, 3.0, 34.0, 3.0, 0.0, 4.0, 1.0, 0.0, 75.0, 4.0, 2.0, 9.0, 5.0, 0.0, 31.0, 44.0, 1.0, 58.0, 0.0, 29.0, 0.0, 49.0, 3.0, 0.0, 1.0, 2.0, 95.0, 14.0, 3.0, 0.0, 42.0, 9.0, 4.0, 3.0, 259.0, 2.0, 1.0, 23.0, 9.0, 18.0, 19.0, 7.0, 2.0, 13.0, 45.0, 2.0, 1.0, 21.0, 3.0, 1.0, 11.0, 5.0, 4.0, 0.0, 2.0, 15.0, 2.0, 2.0, 6.0, 11.0, 8.0, 31.0, 0.0, 1.0, 1.0, 0.0, 18.0, 0.0, 28.0, 0.0, 79.0, 3.0, 0.0, 0.0, 1.0, 2.0, 469.0, 28.0, 0.0, 2.0, 2.0, 15.0, 28.0, 313.0, 4.0, 2.0, 0.0, 2.0, 1.0, 10.0, 49.0, 4.0, 52.0, 42.0, 5.0, 1.0, 39.0, 179.0, 26.0, 0.0, 11.0, 1.0, 30.0, 98.0, 19.0, 1.0, 8.0, 8.0, 3.0, 5.0, 3.0, 6.0, 7.0, 2.0, 21.0, 202.0, 25.0, 1.0, 26.0, 1.0, 0.0, 0.0, 0.0, 37.0, 4.0, 25.0, 2.0, 1.0, 0.0, 39.0, 0.0, 7.0, 0.0, 1.0, 0.0, 0.0, 1.0, 0.0, 2.0, 3.0, 2.0, 9.0, 17.0, 16.0, 60.0, 4.0, 2.0, 1.0, 0.0, 135.0, 4.0, 0.0, 8.0, 0.0, 7.0, 0.0, 2.0, 1.0, 8.0, 1.0, 2.0, 5.0, 14.0, 5.0, 0.0, 15.0, 38.0, 80.0, 0.0, 22.0, 0.0, 0.0, 12.0, 0.0, 7.0, 1.0, 7.0, 15.0, 1.0, 529.0, 7.0, 6.0, 9.0, 2.0, 9.0, 1.0, 6.0, 9.0, 4.0, 24.0, 0.0, 2.0, 7.0, 5.0, 2.0, 11.0, 2.0, 7.0, 33.0, 31.0, 186.0, 9.0, 0.0, 5.0, 9.0, 17.0, 4.0, 2.0, 1.0, 0.0, 1.0, 0.0, 115.0, 2.0, 1.0, 5.0, 1.0, 23.0, 7.0, 3.0, 0.0, 32.0, 1.0, 3.0, 0.0, 1.0, 19.0, 33.0, 29.0, 3.0, 0.0, 14.0, 3.0, 25.0, 4.0, 19.0, 2.0, 0.0, 25.0, 4.0, 11.0, 2.0, 176.0, 3.0, 0.0, 2.0, 4.0, 41.0, 4.0, 15.0, 1.0, 19.0, 2.0, 3.0, 3.0, 46.0, 3.0, 13.0, 35.0, 9.0, 0.0, 53.0, 2.0, 9.0, 0.0, 0.0, 54.0, 6.0, 6.0, 3.0, 3.0, 6.0, 4.0, 3.0, 3.0, 4.0, 5.0, 2.0, 119.0, 10.0, 0.0, 45.0, 1.0, 5.0, 7.0, 0.0, 51.0, 0.0, 13.0, 3.0, 11.0, 0.0, 684.0, 7.0, 20.0, 3.0, 4.0, 0.0, 1.0, 5.0, 2.0, 0.0, 143.0, 0.0, 21.0, 1.0, 197.0, 93.0, 1.0, 11.0, 2.0, 0.0, 3.0, 39.0, 0.0, 215.0, 1.0, 11.0, 0.0, 0.0, 1.0, 3.0, 0.0, 1.0, 0.0, 7.0, 0.0, 4.0, 3.0, 1.0, 0.0, 0.0, 1.0, 19.0, 4.0, 24.0, 2.0, 0.0, 7.0, 2.0, 1.0, 1.0, 0.0, 16.0, 4.0, 5.0, 5.0, 0.0, 0.0, 1.0, 4.0, 1.0, 1.0, 0.0, 4.0, 0.0, 1.0, 0.0, 0.0, 1.0, 0.0, 1.0, 0.0, 0.0, 0.0, 0.0, 9.0, 0.0, 0.0, 0.0, 5.0, 2.0, 2.0, 1.0, 3.0, 1.0, 54.0, 2.0, 1.0, 2.0, 0.0, 8.0, 2.0, 0.0, 38.0, 5.0, 3.0, 0.0, 0.0, 4.0, 0.0, 8.0, 4.0, 15.0, 1.0, 0.0, 0.0, 1.0, 1.0, 5.0, 1.0, 59.0, 2.0, 1.0, 0.0, 1.0, 0.0, 1.0, 10.0, 4.0, 1.0, 0.0, 462.0, 2.0, 1.0, 0.0, 14.0, 18.0, 0.0, 3.0, 2.0, 0.0, 0.0, 78.0, 4.0, 26.0, 1.0, 3.0, 0.0, 0.0, 8.0, 5.0, 1.0, 2.0, 0.0, 0.0, 0.0, 23.0, 0.0, 22.0, 59.0, 15.0, 1.0, 18.0, 2.0, 0.0, 0.0, 0.0, 0.0, 0.0, 0.0, 0.0, 0.0, 0.0, 1.0, 0.0, 0.0, 0.0, 0.0, 0.0, 0.0, 0.0, 0.0, 0.0, 0.0, 0.0, 28.0, 0.0, 0.0, 9.0, 37.0, 18.0, 232.0, 18.0, 36.0, 13.0, 160.0, 150.0, 5.0, 31.0, 147.0, 71.0, 39.0, 1.0, 310.0, 18.0, 73.0, 15.0, 106.0, 11.0, 10.0, 44.0, 63.0, 95.0, 226.0, 22.0, 48.0, 358.0, 0.0, 9.0, 1.0, 1.0, 47.0, 42072.0, 0.0, 0.0, 24.0, 1.0, 557.0, 2491.0, 2.0, 0.0, 1586.0, 37.0, 211.0, 247.0, 18.0, 105.0, 1.0, 528.0, 246.0, 122.0]\n"
     ]
    }
   ],
   "source": [
    "# Create a list for active case counts and deaths\n",
    "active_cases = df['Active'].tolist()\n",
    "print(f\"Active Cases:{active_cases}\")\n",
    "\n",
    "deaths = df['Deaths'].tolist()\n",
    "print(f\"Deaths:{deaths}\")\n",
    "\n"
   ]
  },
  {
   "cell_type": "code",
   "execution_count": 119,
   "metadata": {
    "ExecuteTime": {
     "end_time": "2020-08-14T08:48:44.708724Z",
     "start_time": "2020-08-14T08:48:44.703309Z"
    }
   },
   "outputs": [
    {
     "name": "stdout",
     "output_type": "stream",
     "text": [
      "Global average cases:5234.832529814767\n"
     ]
    }
   ],
   "source": [
    "# Calculate the average number of cases per country\n",
    "# We dont have a time series of confirmed cases?\n",
    "average_cases_by_country = df.groupby('Country_Region')['Confirmed'].mean()\n",
    "\n",
    "average_cases = df['Confirmed'].mean()\n",
    "print(f\"Global average cases:{average_cases}\")\n",
    "\n"
   ]
  },
  {
   "cell_type": "markdown",
   "metadata": {},
   "source": [
    "#### Find the average using the namedtuple ```data_named```"
   ]
  },
  {
   "cell_type": "code",
   "execution_count": 120,
   "metadata": {
    "ExecuteTime": {
     "end_time": "2020-08-14T08:48:45.249351Z",
     "start_time": "2020-08-14T08:48:45.244728Z"
    }
   },
   "outputs": [],
   "source": [
    "# Create a list for active case counts and deaths\n",
    "# Note: Don't forget to convert to floats.\n",
    "active_cases = df['Active'].astype(float).tolist()\n",
    "deaths = df['Deaths'].astype(float).tolist()\n",
    "\n",
    "data_named = namedtuple('Country_Regon', ['Active','Deaths'])\n",
    "\n",
    "# Empty list to store named tuples\n",
    "records = []\n",
    "\n",
    "# Create a named tuple for each record\n",
    "for index, row in df.iterrows():\n",
    "    active = float(row['Active'])\n",
    "    death = float(row['Deaths'])\n",
    "    record = data_named(Active=active, Deaths=death)\n",
    "    records.append(record)\n",
    "\n",
    "\n"
   ]
  },
  {
   "cell_type": "code",
   "execution_count": 67,
   "metadata": {
    "ExecuteTime": {
     "end_time": "2020-08-14T08:48:45.499380Z",
     "start_time": "2020-08-14T08:48:45.493339Z"
    }
   },
   "outputs": [],
   "source": [
    "# Calculate the average number of cases per country\n",
    "# We dont have a time series of confirmed cases per country?"
   ]
  },
  {
   "cell_type": "markdown",
   "metadata": {},
   "source": [
    "**Compute the Average total number of cases**"
   ]
  },
  {
   "cell_type": "code",
   "execution_count": 68,
   "metadata": {
    "ExecuteTime": {
     "end_time": "2020-08-14T08:48:45.974405Z",
     "start_time": "2020-08-14T08:48:45.969301Z"
    }
   },
   "outputs": [
    {
     "ename": "NameError",
     "evalue": "name 'country_data' is not defined",
     "output_type": "error",
     "traceback": [
      "\u001b[1;31m---------------------------------------------------------------------------\u001b[0m",
      "\u001b[1;31mNameError\u001b[0m                                 Traceback (most recent call last)",
      "Cell \u001b[1;32mIn[68], line 3\u001b[0m\n\u001b[0;32m      1\u001b[0m \u001b[38;5;66;03m# What information do we need to get this result?\u001b[39;00m\n\u001b[0;32m      2\u001b[0m average_cases_per_country \u001b[38;5;241m=\u001b[39m {}\n\u001b[1;32m----> 3\u001b[0m \u001b[38;5;28;01mfor\u001b[39;00m country, data \u001b[38;5;129;01min\u001b[39;00m country_data\u001b[38;5;241m.\u001b[39mitems():\n\u001b[0;32m      4\u001b[0m     average_cases_per_country[country] \u001b[38;5;241m=\u001b[39m data[\u001b[38;5;124m'\u001b[39m\u001b[38;5;124mactive\u001b[39m\u001b[38;5;124m'\u001b[39m] \u001b[38;5;241m/\u001b[39m \u001b[38;5;28mlen\u001b[39m(records)\n",
      "\u001b[1;31mNameError\u001b[0m: name 'country_data' is not defined"
     ]
    }
   ],
   "source": [
    "# What information do we need to get this result?\n",
    "# I dont understand why we would use namedtuples, what does this do for us?"
   ]
  },
  {
   "cell_type": "code",
   "execution_count": null,
   "metadata": {
    "ExecuteTime": {
     "end_time": "2020-08-14T08:48:46.210971Z",
     "start_time": "2020-08-14T08:48:46.205307Z"
    }
   },
   "outputs": [],
   "source": []
  },
  {
   "cell_type": "markdown",
   "metadata": {},
   "source": [
    "### Part 5: Create an object ```countries``` that contains all the country names in the data set. Each country should only be listed once.\n",
    "\n",
    "1. Create a list (or other python data type) of unique country names.\n",
    "2. Print total number of unique countries represented in the data set.\n",
    "3. Print the first 5 names and the last 5 names - Print your results neatly and annotate. Your results should be in alphabetical order.\n"
   ]
  },
  {
   "cell_type": "code",
   "execution_count": 77,
   "metadata": {
    "ExecuteTime": {
     "end_time": "2020-08-14T08:48:46.716076Z",
     "start_time": "2020-08-14T08:48:46.709715Z"
    }
   },
   "outputs": [
    {
     "name": "stdout",
     "output_type": "stream",
     "text": [
      "188\n"
     ]
    }
   ],
   "source": [
    "# Where are countries in the rows\n",
    "\n",
    "country_region_location = df.columns.get_loc(\"Country_Region\")\n",
    "\n",
    "# print the country count\n",
    "\n",
    "count_countries = sorted(df['Country_Region'].unique())\n",
    "\n",
    "print(len(count_countries))\n",
    "\n"
   ]
  },
  {
   "cell_type": "code",
   "execution_count": 78,
   "metadata": {
    "ExecuteTime": {
     "end_time": "2020-08-14T08:48:47.177501Z",
     "start_time": "2020-08-14T08:48:47.169206Z"
    }
   },
   "outputs": [
    {
     "name": "stdout",
     "output_type": "stream",
     "text": [
      "['Afghanistan', 'Albania', 'Algeria', 'Andorra', 'Angola', 'Antigua and Barbuda', 'Argentina', 'Armenia', 'Australia', 'Austria', 'Azerbaijan', 'Bahamas', 'Bahrain', 'Bangladesh', 'Barbados', 'Belarus', 'Belgium', 'Belize', 'Benin', 'Bhutan', 'Bolivia', 'Bosnia and Herzegovina', 'Botswana', 'Brazil', 'Brunei', 'Bulgaria', 'Burkina Faso', 'Burma', 'Burundi', 'Cabo Verde', 'Cambodia', 'Cameroon', 'Canada', 'Central African Republic', 'Chad', 'Chile', 'China', 'Colombia', 'Comoros', 'Congo (Brazzaville)', 'Congo (Kinshasa)', 'Costa Rica', \"Cote d'Ivoire\", 'Croatia', 'Cuba', 'Cyprus', 'Czechia', 'Denmark', 'Diamond Princess', 'Djibouti', 'Dominica', 'Dominican Republic', 'Ecuador', 'Egypt', 'El Salvador', 'Equatorial Guinea', 'Eritrea', 'Estonia', 'Eswatini', 'Ethiopia', 'Fiji', 'Finland', 'France', 'Gabon', 'Gambia', 'Georgia', 'Germany', 'Ghana', 'Greece', 'Grenada', 'Guatemala', 'Guinea', 'Guinea-Bissau', 'Guyana', 'Haiti', 'Holy See', 'Honduras', 'Hungary', 'Iceland', 'India', 'Indonesia', 'Iran', 'Iraq', 'Ireland', 'Israel', 'Italy', 'Jamaica', 'Japan', 'Jordan', 'Kazakhstan', 'Kenya', 'Korea, South', 'Kosovo', 'Kuwait', 'Kyrgyzstan', 'Laos', 'Latvia', 'Lebanon', 'Lesotho', 'Liberia', 'Libya', 'Liechtenstein', 'Lithuania', 'Luxembourg', 'MS Zaandam', 'Madagascar', 'Malawi', 'Malaysia', 'Maldives', 'Mali', 'Malta', 'Mauritania', 'Mauritius', 'Mexico', 'Moldova', 'Monaco', 'Mongolia', 'Montenegro', 'Morocco', 'Mozambique', 'Namibia', 'Nepal', 'Netherlands', 'New Zealand', 'Nicaragua', 'Niger', 'Nigeria', 'North Macedonia', 'Norway', 'Oman', 'Pakistan', 'Panama', 'Papua New Guinea', 'Paraguay', 'Peru', 'Philippines', 'Poland', 'Portugal', 'Qatar', 'Romania', 'Russia', 'Rwanda', 'Saint Kitts and Nevis', 'Saint Lucia', 'Saint Vincent and the Grenadines', 'San Marino', 'Sao Tome and Principe', 'Saudi Arabia', 'Senegal', 'Serbia', 'Seychelles', 'Sierra Leone', 'Singapore', 'Slovakia', 'Slovenia', 'Somalia', 'South Africa', 'South Sudan', 'Spain', 'Sri Lanka', 'Sudan', 'Suriname', 'Sweden', 'Switzerland', 'Syria', 'Taiwan*', 'Tajikistan', 'Tanzania', 'Thailand', 'Timor-Leste', 'Togo', 'Trinidad and Tobago', 'Tunisia', 'Turkey', 'US', 'Uganda', 'Ukraine', 'United Arab Emirates', 'United Kingdom', 'Uruguay', 'Uzbekistan', 'Venezuela', 'Vietnam', 'West Bank and Gaza', 'Western Sahara', 'Yemen', 'Zambia', 'Zimbabwe']\n"
     ]
    }
   ],
   "source": [
    "# list the countries\n",
    "print(count_countries)"
   ]
  },
  {
   "cell_type": "code",
   "execution_count": 81,
   "metadata": {
    "ExecuteTime": {
     "end_time": "2020-08-14T08:48:47.394181Z",
     "start_time": "2020-08-14T08:48:47.388870Z"
    }
   },
   "outputs": [
    {
     "name": "stdout",
     "output_type": "stream",
     "text": [
      "First five:['Afghanistan', 'Albania', 'Algeria', 'Andorra', 'Angola']\n",
      "Last five:['West Bank and Gaza', 'Western Sahara', 'Yemen', 'Zambia', 'Zimbabwe']\n"
     ]
    }
   ],
   "source": [
    "# print the first 5.\n",
    "\n",
    "print(f\"First five:{count_countries[:5]}\")\n",
    "\n",
    "# print the last 5\n",
    "\n",
    "print(f\"Last five:{count_countries[-5:]}\")\n"
   ]
  },
  {
   "cell_type": "markdown",
   "metadata": {},
   "source": [
    "### Part 6: Calculate the average number of confirmed cases for the first 5 countries and the last 5 countries.\n",
    "\n",
    "1. Determine the average number of confirmed cases for the first 5 countries.\n",
    "2. Determine the average number of confirmed cases for the last 5 countries.\n",
    "\n",
    "\n",
    "Note: Print your results neatly and properly annotated.\n",
    "\n",
    "Hint: Think carefully about the easiest way to count the number of confirmed cases!\n"
   ]
  },
  {
   "cell_type": "code",
   "execution_count": 87,
   "metadata": {
    "ExecuteTime": {
     "end_time": "2020-08-14T08:48:48.404253Z",
     "start_time": "2020-08-14T08:48:48.401253Z"
    }
   },
   "outputs": [
    {
     "name": "stdout",
     "output_type": "stream",
     "text": [
      "First five countries average:16720.0\n",
      "Last five countries average:6085.8\n"
     ]
    }
   ],
   "source": [
    "# average number of confirmed cases for the first 5 countries\n",
    "average_confirmed_first_5 = df[:5]['Confirmed'].mean()\n",
    "print(f\"First five countries average:{average_confirmed_first_5}\")\n",
    "\n",
    "# average number of confirmed cases for the last 5 countries\n",
    "average_confirmed_last_5 = df[-5:]['Confirmed'].mean()\n",
    "print(f\"Last five countries average:{average_confirmed_last_5}\")\n",
    "\n"
   ]
  },
  {
   "cell_type": "code",
   "execution_count": null,
   "metadata": {
    "ExecuteTime": {
     "end_time": "2020-08-14T08:48:48.695274Z",
     "start_time": "2020-08-14T08:48:48.688615Z"
    },
    "scrolled": true
   },
   "outputs": [],
   "source": []
  },
  {
   "cell_type": "code",
   "execution_count": null,
   "metadata": {
    "ExecuteTime": {
     "end_time": "2020-08-14T08:48:49.507948Z",
     "start_time": "2020-08-14T08:48:49.501103Z"
    }
   },
   "outputs": [],
   "source": [
    "# write a function"
   ]
  },
  {
   "cell_type": "markdown",
   "metadata": {},
   "source": [
    "### Problem 7: Create a dictionary of confirmed cases in the EU.\n",
    "\n",
    "The keys in the dictionary are the countries in Europe and the values will be the total number of confirmed cases.\n",
    "\n",
    "**Expected output**: `{'Austria': 22439, 'Belgium': 75647, ...  }` (*required*)\n",
    "\n",
    "**Bonus**: use `.defaultdict()` to simplify your code. (*optional*)\n",
    "\n",
    "See: [Python Doc - defaultdict](https://docs.python.org/3/library/collections.html?highlight=defaultdict#collections.defaultdict) or [Stackoverflow - defaultdict](https://stackoverflow.com/questions/5900578/how-does-collections-defaultdict-work)"
   ]
  },
  {
   "cell_type": "code",
   "execution_count": 100,
   "metadata": {
    "ExecuteTime": {
     "end_time": "2020-08-14T08:48:50.837286Z",
     "start_time": "2020-08-14T08:48:50.832451Z"
    }
   },
   "outputs": [
    {
     "name": "stdout",
     "output_type": "stream",
     "text": [
      "{'Austria': 22439.0, 'Belgium': 75647.0, 'Bulgaria': 13893.0, 'Croatia': 5870.0, 'Cyprus': 1291.0, 'Czechia': 19075.0, 'Denmark': 15070.0, 'Estonia': 2174.0, 'Finland': 7642.0, 'France': 230874.0, 'Germany': 1880.0, 'Greece': 6177.0, 'Hungary': 4768.0, 'Ireland': 26838.0, 'Italy': 20801.0, 'Latvia': 1303.0, 'Lithuania': 2309.0, 'Luxembourg': 7300.0, 'Malta': 1190.0, 'Netherlands': 15765.0, 'Poland': 53676.0, 'Portugal': 53223.0, 'Romania': 65177.0, 'Slovakia': 2690.0, 'Slovenia': 2303.0, 'Spain': 0.0, 'Sweden': 19204.0}\n"
     ]
    }
   ],
   "source": [
    "# a list of EU countries\n",
    "eu = ['Austria',\n",
    "'Belgium',\n",
    "'Bulgaria',\n",
    "'Croatia',\n",
    "'Cyprus',\n",
    "'Czechia',\n",
    "'Denmark',\n",
    "'Estonia',\n",
    "'Finland',\n",
    "'France',\n",
    "'Germany',\n",
    "'Greece',\n",
    "'Hungary',\n",
    "'Ireland',\n",
    "'Italy',\n",
    "'Latvia',\n",
    "'Lithuania',\n",
    "'Luxembourg',\n",
    "'Malta',\n",
    "'Netherlands',\n",
    "'Poland',\n",
    "'Portugal',\n",
    "'Romania',\n",
    "'Slovakia',\n",
    "'Slovenia',\n",
    "'Spain',\n",
    "'Sweden']\n",
    "\n",
    "from collections import defaultdict\n",
    "\n",
    "# Filter data for EU countries\n",
    "eu_data = df[df['Country_Region'].isin(eu)]\n",
    "\n",
    "# Create a defaultdict to store the confirmed cases\n",
    "confirmed_cases_dict = defaultdict()\n",
    "\n",
    "# Populate the dictionary with the filtered data\n",
    "for index, row in eu_data.iterrows():\n",
    "    country = row['Country_Region']\n",
    "    cases = row['Confirmed']\n",
    "    confirmed_cases_dict[country] = cases\n",
    "\n",
    "# Print the dictionary\n",
    "print(dict(confirmed_cases_dict))\n",
    "\n"
   ]
  },
  {
   "cell_type": "code",
   "execution_count": null,
   "metadata": {
    "ExecuteTime": {
     "end_time": "2020-08-14T08:48:51.526450Z",
     "start_time": "2020-08-14T08:48:51.519777Z"
    }
   },
   "outputs": [],
   "source": []
  },
  {
   "cell_type": "code",
   "execution_count": null,
   "metadata": {
    "ExecuteTime": {
     "end_time": "2020-08-14T08:48:51.787870Z",
     "start_time": "2020-08-14T08:48:51.780779Z"
    }
   },
   "outputs": [],
   "source": [
    "# if you used a named tuple - answer here"
   ]
  },
  {
   "cell_type": "code",
   "execution_count": null,
   "metadata": {
    "ExecuteTime": {
     "end_time": "2020-08-14T08:48:52.510673Z",
     "start_time": "2020-08-14T08:48:52.504969Z"
    }
   },
   "outputs": [],
   "source": []
  },
  {
   "cell_type": "code",
   "execution_count": null,
   "metadata": {
    "ExecuteTime": {
     "end_time": "2020-08-14T08:48:53.375323Z",
     "start_time": "2020-08-14T08:48:53.368950Z"
    }
   },
   "outputs": [],
   "source": [
    "#try with a defaultdict"
   ]
  },
  {
   "cell_type": "raw",
   "metadata": {
    "ExecuteTime": {
     "end_time": "2020-08-14T08:48:54.018920Z",
     "start_time": "2020-08-14T08:48:54.012003Z"
    },
    "scrolled": true
   },
   "source": []
  },
  {
   "cell_type": "markdown",
   "metadata": {},
   "source": [
    "### Problem 8: Compare the Case Fatality Rate in the EU to that in the US and North America.\n",
    "\n",
    "1. Determine the CFR in the EU\n",
    "2. Determine the CFR in the US\n",
    "3. Determine the CFR in North America\n",
    "\n",
    "Note: The Case Fatality Rate is a feature in this data set. You are not to use that feature. You should compute the CFR from the other available features. Use the existing CFR column as a check."
   ]
  },
  {
   "cell_type": "code",
   "execution_count": 112,
   "metadata": {
    "ExecuteTime": {
     "end_time": "2020-08-14T08:48:54.995602Z",
     "start_time": "2020-08-14T08:48:54.989058Z"
    },
    "scrolled": true
   },
   "outputs": [
    {
     "name": "stdout",
     "output_type": "stream",
     "text": [
      "8.687726173733031\n"
     ]
    }
   ],
   "source": [
    "\n",
    "#filter for eu countries in data\n",
    "eu_data = df[df['Country_Region'].isin(eu)]\n",
    "\n",
    "\n",
    "# get total cases and dealth\n",
    "eu_cases = eu_data['Confirmed'].sum()\n",
    "eu_deaths = eu_data['Deaths'].sum()\n",
    "\n",
    "# calc CFP\n",
    "eu_cfr = (eu_deaths / eu_cases)*100\n",
    "\n",
    "print(eu_cfr)"
   ]
  },
  {
   "cell_type": "code",
   "execution_count": 114,
   "metadata": {
    "ExecuteTime": {
     "end_time": "2020-08-14T08:48:55.290709Z",
     "start_time": "2020-08-14T08:48:55.280834Z"
    },
    "scrolled": true
   },
   "outputs": [
    {
     "name": "stdout",
     "output_type": "stream",
     "text": [
      "3.1945589844217506\n"
     ]
    }
   ],
   "source": [
    "\n",
    "#filter for eu countries in data\n",
    "us_data = df[df['Country_Region'] == 'US']\n",
    "\n",
    "\n",
    "# get total cases and dealth\n",
    "us_cases = us_data['Confirmed'].sum()\n",
    "us_deaths = us_data['Deaths'].sum()\n",
    "\n",
    "# calc CFP\n",
    "us_cfr = (us_deaths / us_cases)*100\n",
    "\n",
    "print(us_cfr)"
   ]
  },
  {
   "cell_type": "code",
   "execution_count": null,
   "metadata": {
    "ExecuteTime": {
     "end_time": "2020-08-14T08:48:55.773253Z",
     "start_time": "2020-08-14T08:48:55.769002Z"
    }
   },
   "outputs": [],
   "source": [
    "# countries in North America\n",
    "na = ['Antigua and Barbuda',\n",
    "'Bahamas',\n",
    "'Barbados',\n",
    "'Belize',\n",
    "'Canada',\n",
    "'Costa Rica',\n",
    "'Cuba',\n",
    "'Dominica',\n",
    "'Dominican Republic',\n",
    "'El Salvador',\n",
    "'Grenada',\n",
    "'Guatemala',\n",
    "'Haiti',\n",
    "'Honduras',\n",
    "'Jamaica',\n",
    "'Mexico',\n",
    "'Nicaragua',\n",
    "'Panama',\n",
    "'Saint Kitts and Nevis',\n",
    "'Saint Lucia',\n",
    "'Saint Vincent and the Grenadines',\n",
    "'Trinidad and Tobago',\n",
    "'US'] "
   ]
  },
  {
   "cell_type": "code",
   "execution_count": 116,
   "metadata": {
    "ExecuteTime": {
     "end_time": "2020-08-14T08:48:56.336377Z",
     "start_time": "2020-08-14T08:48:56.325167Z"
    },
    "scrolled": true
   },
   "outputs": [
    {
     "name": "stdout",
     "output_type": "stream",
     "text": [
      "3.8682661466226813\n"
     ]
    }
   ],
   "source": [
    "# countries in North America\n",
    "na = ['Antigua and Barbuda',\n",
    "'Bahamas',\n",
    "'Barbados',\n",
    "'Belize',\n",
    "'Canada',\n",
    "'Costa Rica',\n",
    "'Cuba',\n",
    "'Dominica',\n",
    "'Dominican Republic',\n",
    "'El Salvador',\n",
    "'Grenada',\n",
    "'Guatemala',\n",
    "'Haiti',\n",
    "'Honduras',\n",
    "'Jamaica',\n",
    "'Mexico',\n",
    "'Nicaragua',\n",
    "'Panama',\n",
    "'Saint Kitts and Nevis',\n",
    "'Saint Lucia',\n",
    "'Saint Vincent and the Grenadines',\n",
    "'Trinidad and Tobago',\n",
    "'US'] \n",
    "\n",
    "#filter for eu countries in data\n",
    "na_data = df[df['Country_Region'].isin(na)]\n",
    "\n",
    "\n",
    "# get total cases and dealth\n",
    "na_cases = na_data['Confirmed'].sum()\n",
    "na_deaths = na_data['Deaths'].sum()\n",
    "\n",
    "# calc CFP\n",
    "na_cfr = (na_deaths / na_cases)*100\n",
    "\n",
    "print(na_cfr)"
   ]
  },
  {
   "cell_type": "markdown",
   "metadata": {},
   "source": [
    "\n",
    "### Bonus 1: Craft a problem statement about this data that interests you, and then answer it!\n"
   ]
  },
  {
   "cell_type": "code",
   "execution_count": null,
   "metadata": {},
   "outputs": [],
   "source": []
  },
  {
   "cell_type": "markdown",
   "metadata": {},
   "source": [
    "### Bonus 2: Repeat the above analysis using Pandas!\n"
   ]
  },
  {
   "cell_type": "code",
   "execution_count": null,
   "metadata": {},
   "outputs": [],
   "source": []
  }
 ],
 "metadata": {
  "anaconda-cloud": {},
  "kernelspec": {
   "display_name": "Python 3",
   "language": "python",
   "name": "python3"
  },
  "language_info": {
   "codemirror_mode": {
    "name": "ipython",
    "version": 3
   },
   "file_extension": ".py",
   "mimetype": "text/x-python",
   "name": "python",
   "nbconvert_exporter": "python",
   "pygments_lexer": "ipython3",
   "version": "3.11.7"
  },
  "toc": {
   "base_numbering": 1,
   "nav_menu": {},
   "number_sections": false,
   "sideBar": true,
   "skip_h1_title": false,
   "title_cell": "Table of Contents",
   "title_sidebar": "Contents",
   "toc_cell": false,
   "toc_position": {},
   "toc_section_display": true,
   "toc_window_display": false
  }
 },
 "nbformat": 4,
 "nbformat_minor": 2
}
